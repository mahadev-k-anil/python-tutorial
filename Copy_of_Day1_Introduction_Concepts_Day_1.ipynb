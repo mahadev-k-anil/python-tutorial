{
  "nbformat": 4,
  "nbformat_minor": 0,
  "metadata": {
    "kernelspec": {
      "display_name": "Python 3",
      "language": "python",
      "name": "python3"
    },
    "language_info": {
      "codemirror_mode": {
        "name": "ipython",
        "version": 3
      },
      "file_extension": ".py",
      "mimetype": "text/x-python",
      "name": "python",
      "nbconvert_exporter": "python",
      "pygments_lexer": "ipython3",
      "version": "3.7.0"
    },
    "colab": {
      "provenance": [],
      "collapsed_sections": [
        "33UfwhBuH2p_",
        "hBhq5SZMV1rS",
        "hRCBcxMbH2qD",
        "XG7g3OkTN4Ro"
      ],
      "include_colab_link": true
    }
  },
  "cells": [
    {
      "cell_type": "markdown",
      "metadata": {
        "id": "view-in-github",
        "colab_type": "text"
      },
      "source": [
        "<a href=\"https://colab.research.google.com/github/mahadev-k-anil/python-tutorial/blob/main/Copy_of_Day1_Introduction_Concepts_Day_1.ipynb\" target=\"_parent\"><img src=\"https://colab.research.google.com/assets/colab-badge.svg\" alt=\"Open In Colab\"/></a>"
      ]
    },
    {
      "cell_type": "markdown",
      "metadata": {
        "id": "0zr-PR1JH2p7"
      },
      "source": [
        "# Introduction to Python"
      ]
    },
    {
      "cell_type": "markdown",
      "metadata": {
        "id": "33UfwhBuH2p_"
      },
      "source": [
        "## Printing"
      ]
    },
    {
      "cell_type": "markdown",
      "metadata": {
        "id": "wjq7X7TlH2qA"
      },
      "source": [
        "For printing anything in Python, we can use the \"print\" statement."
      ]
    },
    {
      "cell_type": "code",
      "metadata": {
        "id": "J64H08F9H2qB",
        "colab": {
          "base_uri": "https://localhost:8080/"
        },
        "outputId": "d14fc35a-b240-49ab-bf43-fb8e38576cf8"
      },
      "source": [
        "print(\"Hello woorld!\")"
      ],
      "execution_count": null,
      "outputs": [
        {
          "output_type": "stream",
          "name": "stdout",
          "text": [
            "Hello woorld!\n"
          ]
        }
      ]
    },
    {
      "cell_type": "code",
      "metadata": {
        "id": "8Q0b39M1JqYB",
        "colab": {
          "base_uri": "https://localhost:8080/"
        },
        "outputId": "f5b33962-1840-42b8-bab1-49b21503c1c1"
      },
      "source": [
        "print(3)"
      ],
      "execution_count": null,
      "outputs": [
        {
          "output_type": "stream",
          "name": "stdout",
          "text": [
            "3\n"
          ]
        }
      ]
    },
    {
      "cell_type": "markdown",
      "metadata": {
        "id": "kiYgeI6JH2qC"
      },
      "source": [
        "We can print multiple objects at the same time by using commas."
      ]
    },
    {
      "cell_type": "code",
      "metadata": {
        "id": "5Gy14NQnH2qC",
        "colab": {
          "base_uri": "https://localhost:8080/"
        },
        "outputId": "fd1f4951-d815-4b06-8eff-a1499f2b3151"
      },
      "source": [
        "print(\"hello\", \"world\",\"hi\")"
      ],
      "execution_count": null,
      "outputs": [
        {
          "output_type": "stream",
          "name": "stdout",
          "text": [
            "hello world hi\n"
          ]
        }
      ]
    },
    {
      "cell_type": "code",
      "metadata": {
        "id": "wFI6QtY8H2qD",
        "colab": {
          "base_uri": "https://localhost:8080/"
        },
        "outputId": "353962b9-3b66-491a-c27a-acbc84fb6117"
      },
      "source": [
        "print(3, 4, \"hello\", 5)"
      ],
      "execution_count": null,
      "outputs": [
        {
          "output_type": "stream",
          "name": "stdout",
          "text": [
            "3 4 hello 5\n"
          ]
        }
      ]
    },
    {
      "cell_type": "markdown",
      "metadata": {
        "id": "hBhq5SZMV1rS"
      },
      "source": [
        "#Input function"
      ]
    },
    {
      "cell_type": "code",
      "metadata": {
        "colab": {
          "base_uri": "https://localhost:8080/"
        },
        "id": "H7U8wGbCWALM",
        "outputId": "db99a964-d4ba-4824-ffea-af1fc5fe0913"
      },
      "source": [
        "print('Enter your name:')\n",
        "x = input()\n",
        "print('Hello, ' + x)"
      ],
      "execution_count": null,
      "outputs": [
        {
          "output_type": "stream",
          "name": "stdout",
          "text": [
            "Enter your name:\n",
            "ji\n",
            "Hello, ji\n"
          ]
        }
      ]
    },
    {
      "cell_type": "code",
      "source": [
        "type(x)"
      ],
      "metadata": {
        "colab": {
          "base_uri": "https://localhost:8080/"
        },
        "id": "_V8nT-Y6uAqJ",
        "outputId": "4ebda3f0-4c34-4faa-f284-073d487e310e"
      },
      "execution_count": null,
      "outputs": [
        {
          "output_type": "execute_result",
          "data": {
            "text/plain": [
              "str"
            ]
          },
          "metadata": {},
          "execution_count": 3
        }
      ]
    },
    {
      "cell_type": "code",
      "metadata": {
        "id": "MtgMT9J8WMci",
        "colab": {
          "base_uri": "https://localhost:8080/"
        },
        "outputId": "19f39886-8dce-495d-daf4-b648b585ffec"
      },
      "source": [
        "x = input('Enter your name:')\n",
        "print('Hello, ' + x)\n"
      ],
      "execution_count": null,
      "outputs": [
        {
          "output_type": "stream",
          "name": "stdout",
          "text": [
            "Enter your name:vineetha\n",
            "Hello, vineetha\n"
          ]
        }
      ]
    },
    {
      "cell_type": "code",
      "source": [
        "a = 5.4\n",
        "type(a)\n",
        "z=float(3)\n",
        "type(z)"
      ],
      "metadata": {
        "colab": {
          "base_uri": "https://localhost:8080/"
        },
        "id": "Y04A7addUD4v",
        "outputId": "56123d1a-75f4-40aa-ccce-9a13d60e56d2"
      },
      "execution_count": null,
      "outputs": [
        {
          "output_type": "execute_result",
          "data": {
            "text/plain": [
              "float"
            ]
          },
          "metadata": {},
          "execution_count": 10
        }
      ]
    },
    {
      "cell_type": "markdown",
      "metadata": {
        "id": "hRCBcxMbH2qD"
      },
      "source": [
        "# Variables"
      ]
    },
    {
      "cell_type": "markdown",
      "metadata": {
        "id": "0zs7-1IUH2qF"
      },
      "source": [
        "Python has NO command for declaring a variable.\n",
        "\n",
        "Variables are created when you assign a value to it.\n",
        "\n",
        "Variable names are Case-Sensitive.\n",
        "\n",
        "If you want to specify/change the data type of a variable, this can be done with casting\n",
        "\n"
      ]
    },
    {
      "cell_type": "code",
      "metadata": {
        "id": "3S8KbGEiH2qE",
        "colab": {
          "base_uri": "https://localhost:8080/"
        },
        "outputId": "2111633e-04b6-4e2e-cef1-d4f2c4591568"
      },
      "source": [
        "a = 5.4\n",
        "type(a)\n",
        "b = \"My value is\"\n",
        "print(b, a)\n"
      ],
      "execution_count": null,
      "outputs": [
        {
          "output_type": "stream",
          "name": "stdout",
          "text": [
            "My value is 5.4\n"
          ]
        }
      ]
    },
    {
      "cell_type": "code",
      "source": [
        "type(a)"
      ],
      "metadata": {
        "colab": {
          "base_uri": "https://localhost:8080/"
        },
        "id": "tXXxMwcDEkXN",
        "outputId": "a4c7dd69-fb6c-4b81-85f4-52a8bed5d8c5"
      },
      "execution_count": null,
      "outputs": [
        {
          "output_type": "execute_result",
          "data": {
            "text/plain": [
              "float"
            ]
          },
          "metadata": {},
          "execution_count": 5
        }
      ]
    },
    {
      "cell_type": "code",
      "metadata": {
        "colab": {
          "base_uri": "https://localhost:8080/"
        },
        "id": "rlc_BhM2KsHB",
        "outputId": "9565720b-a2c5-42c5-ef60-35dd38f2d79d"
      },
      "source": [
        "#This will create two variables\n",
        "a=4\n",
        "A=\"Star\"\n",
        "print(A)"
      ],
      "execution_count": null,
      "outputs": [
        {
          "output_type": "stream",
          "name": "stdout",
          "text": [
            "Star\n"
          ]
        }
      ]
    },
    {
      "cell_type": "code",
      "source": [
        "x=str(3)\n",
        "print(x,type(x))\n",
        "y=int(3)\n",
        "print(y,type(y))\n",
        "z=float(3)\n",
        "print(z,type(z))"
      ],
      "metadata": {
        "colab": {
          "base_uri": "https://localhost:8080/"
        },
        "id": "AmuTDXj5HDwS",
        "outputId": "69795be7-60e1-4f3e-f11c-4d929126911b"
      },
      "execution_count": null,
      "outputs": [
        {
          "output_type": "stream",
          "name": "stdout",
          "text": [
            "3 <class 'str'>\n",
            "3 <class 'int'>\n",
            "3.0 <class 'float'>\n"
          ]
        }
      ]
    },
    {
      "cell_type": "code",
      "metadata": {
        "id": "GSz6IsD7K7x5"
      },
      "source": [
        "x=str(3)# x will be '3’\n",
        "y=int(3)# y will be 3\n",
        "z=float(3)# z will be 3.0"
      ],
      "execution_count": null,
      "outputs": []
    },
    {
      "cell_type": "markdown",
      "metadata": {
        "id": "XG7g3OkTN4Ro"
      },
      "source": [
        "# Datatypes"
      ]
    },
    {
      "cell_type": "markdown",
      "metadata": {
        "id": "VthXRMFZLmnz"
      },
      "source": [
        "\n",
        "Strings\n",
        "\n",
        "Numbers-int,float,complex\n",
        "\n",
        "  x = 10\n",
        "  x = 10.5\n",
        "  x = 1+2j\n",
        "\n",
        "List\n",
        "\n",
        "\tx = [\"apple\", \"banana\", \"cherry\"]\n",
        "\n",
        "Tuple\n",
        "\n",
        "\tx = (\"apple\", \"banana\", \"cherry\")\n",
        "\n",
        "Dictionary\n",
        "\n",
        "\tx = {\"name\" : \"John\", \"age\" : 36}\n",
        "\n",
        "Set\n",
        "\n",
        "\tx = {\"apple\", \"banana\", \"cherry\"}\n",
        "\n",
        "Boolean\n",
        "\n",
        "x = True"
      ]
    },
    {
      "cell_type": "markdown",
      "source": [
        "**Complex numbers**"
      ],
      "metadata": {
        "id": "8QI5H1DoFBaf"
      }
    },
    {
      "cell_type": "code",
      "source": [
        "c1 = complex(2,3) # 2+3j\n",
        "c2 = complex(4,5) # 4+5j\n",
        "c3 = c1 + c2\n",
        "print(c3)"
      ],
      "metadata": {
        "colab": {
          "base_uri": "https://localhost:8080/"
        },
        "id": "CZ3DMTVPFJQX",
        "outputId": "61a84862-e0b9-42df-9709-b403000bae4c"
      },
      "execution_count": null,
      "outputs": [
        {
          "output_type": "stream",
          "name": "stdout",
          "text": [
            "(6+8j)\n"
          ]
        }
      ]
    },
    {
      "cell_type": "markdown",
      "metadata": {
        "id": "SH8-f410H2qG"
      },
      "source": [
        "# Operations\n"
      ]
    },
    {
      "cell_type": "markdown",
      "metadata": {
        "id": "kHxsByzEH2qG"
      },
      "source": [
        "The basic operations for addition, subtraction, multiplication , division and modulus are illustrated below."
      ]
    },
    {
      "cell_type": "code",
      "metadata": {
        "colab": {
          "base_uri": "https://localhost:8080/"
        },
        "id": "qwG7huZ6H2qG",
        "outputId": "2839454b-c4de-4271-f243-6fb800b65af5"
      },
      "source": [
        "x = 10\n",
        "y = 3\n",
        "z1 = x + y\n",
        "z2 = x - y\n",
        "z3 = x * y\n",
        "z4 = x/y\n",
        "z5=x**y   #x to the power y\n",
        "print(z1, z2, z3, \"%.4f\" %z4,z5)\n",
        "z6 = x % y\n",
        "print(\"The remainder when x is divided by y is\", z6)"
      ],
      "execution_count": null,
      "outputs": [
        {
          "output_type": "stream",
          "name": "stdout",
          "text": [
            "13 7 30 3.3333 1000\n",
            "The remainder when x is divided by y is 1\n"
          ]
        }
      ]
    },
    {
      "cell_type": "markdown",
      "metadata": {
        "id": "JkO-ElzuH2qG"
      },
      "source": [
        "## Floor division"
      ]
    },
    {
      "cell_type": "code",
      "metadata": {
        "colab": {
          "base_uri": "https://localhost:8080/"
        },
        "id": "RKWswTWNH2qH",
        "outputId": "42cf9b10-eb72-4785-9a41-71cacf2a54b8"
      },
      "source": [
        "print(22//7) # Integer division"
      ],
      "execution_count": null,
      "outputs": [
        {
          "output_type": "stream",
          "name": "stdout",
          "text": [
            "3\n"
          ]
        }
      ]
    },
    {
      "cell_type": "code",
      "metadata": {
        "id": "nuw8umOoH2qH",
        "colab": {
          "base_uri": "https://localhost:8080/"
        },
        "outputId": "2d2c4300-4821-4f46-c48a-6cf5e9c0a86b"
      },
      "source": [
        "print(22/7) # floating point division"
      ],
      "execution_count": null,
      "outputs": [
        {
          "output_type": "stream",
          "name": "stdout",
          "text": [
            "3.142857142857143\n"
          ]
        }
      ]
    },
    {
      "cell_type": "markdown",
      "metadata": {
        "id": "2-Lvc2dfH2qI"
      },
      "source": [
        "## Questions\n",
        "1) Compute $x^2 + y^2$ and print its value.\n",
        "\n",
        "2) Read 2 numbers from user and find the sum and display.\n",
        "\n"
      ]
    },
    {
      "cell_type": "markdown",
      "metadata": {
        "id": "JMQD3IQ5YnjG"
      },
      "source": [
        "#Condition Statements (If, Elif, Else)"
      ]
    },
    {
      "cell_type": "markdown",
      "metadata": {
        "id": "thYme_OqY1GR"
      },
      "source": [
        "The main conditional operator in python is _if/elif/else_ statement. There may be multiple _elif_ parts and a single _else_ part. Both _elif_ and _else_ are optional."
      ]
    },
    {
      "cell_type": "code",
      "metadata": {
        "colab": {
          "base_uri": "https://localhost:8080/"
        },
        "id": "rJ4S3Ob1Y660",
        "outputId": "1aa3d7c3-29d6-4286-e119-f5528e4be287"
      },
      "source": [
        "a=10\n",
        "b=20\n",
        "if b>a:\n",
        " print( \"%d is greater than %d\" %(b,a))"
      ],
      "execution_count": null,
      "outputs": [
        {
          "output_type": "stream",
          "name": "stdout",
          "text": [
            "20 is greater than 10\n"
          ]
        }
      ]
    },
    {
      "cell_type": "markdown",
      "source": [
        "![Screenshot 2025-08-04 125214.png](data:image/png;base64,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)"
      ],
      "metadata": {
        "id": "VP461PdQ9hdK"
      }
    },
    {
      "cell_type": "code",
      "metadata": {
        "colab": {
          "base_uri": "https://localhost:8080/"
        },
        "id": "yvmtZIYhZKQW",
        "outputId": "4d2d5f25-44a7-4bd0-ebe6-4baa9971493a"
      },
      "source": [
        "a=10\n",
        "b=5\n",
        "if b>a:\n",
        "  print(\"b is greater than a\")\n",
        "else:\n",
        "  print(\"a is greater than b\")\n"
      ],
      "execution_count": null,
      "outputs": [
        {
          "output_type": "stream",
          "name": "stdout",
          "text": [
            "a is greater than b\n"
          ]
        }
      ]
    },
    {
      "cell_type": "markdown",
      "source": [
        "![Screenshot 2025-08-04 125423.png](data:image/png;base64,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)"
      ],
      "metadata": {
        "id": "drJp4A5D97rL"
      }
    },
    {
      "cell_type": "code",
      "metadata": {
        "colab": {
          "base_uri": "https://localhost:8080/"
        },
        "id": "kDKj_t3xZXXJ",
        "outputId": "c79be63c-369c-4792-9d94-56d06eddadf9"
      },
      "source": [
        "a=10\n",
        "b=10\n",
        "if b>a:\n",
        "  print(\"b is greater than a\")\n",
        "elif a>b:\n",
        "  print(\"a is greater than b\")\n",
        "else:\n",
        "  print(\"a and b are equal\")"
      ],
      "execution_count": null,
      "outputs": [
        {
          "output_type": "stream",
          "name": "stdout",
          "text": [
            "a and b are equal\n"
          ]
        }
      ]
    },
    {
      "cell_type": "markdown",
      "source": [
        "![Screenshot 2025-08-04 135250.png](data:image/png;base64,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)"
      ],
      "metadata": {
        "id": "ykpWiz6vLTnk"
      }
    },
    {
      "cell_type": "markdown",
      "metadata": {
        "id": "rITyKKFWZyK1"
      },
      "source": [
        "#Control statements(For Loop, While Loop)\n"
      ]
    },
    {
      "cell_type": "markdown",
      "source": [
        "A loop refers to a set of instructions that is repeated as long as a criterion holds. The two types of loops are for loops and while loops. Both can be described using a flowchart."
      ],
      "metadata": {
        "id": "cLlvv0uTM_cE"
      }
    },
    {
      "cell_type": "markdown",
      "source": [
        "A for loop repeats statements as long as the last item in the range has not been reached yet"
      ],
      "metadata": {
        "id": "QHdU9-GbNGOk"
      }
    },
    {
      "cell_type": "code",
      "metadata": {
        "colab": {
          "base_uri": "https://localhost:8080/"
        },
        "id": "tu5DNHvaaZ4B",
        "outputId": "083c9743-29b5-4b34-9bb9-14f47a561f25"
      },
      "source": [
        "for x in range(7):\n",
        "  print(x)"
      ],
      "execution_count": null,
      "outputs": [
        {
          "output_type": "stream",
          "name": "stdout",
          "text": [
            "0\n",
            "1\n",
            "2\n",
            "3\n",
            "4\n",
            "5\n",
            "6\n"
          ]
        }
      ]
    },
    {
      "cell_type": "code",
      "source": [
        "for x in range(2,6):\n",
        "  print(x)"
      ],
      "metadata": {
        "colab": {
          "base_uri": "https://localhost:8080/"
        },
        "id": "wK648otlWusw",
        "outputId": "e7fd2006-e8f0-4199-f610-d4fc0822aa41"
      },
      "execution_count": null,
      "outputs": [
        {
          "output_type": "stream",
          "name": "stdout",
          "text": [
            "2\n",
            "3\n",
            "4\n",
            "5\n"
          ]
        }
      ]
    },
    {
      "cell_type": "code",
      "source": [
        "for x in range(2,30,6):\n",
        "  print(x)"
      ],
      "metadata": {
        "colab": {
          "base_uri": "https://localhost:8080/"
        },
        "id": "mNxtcHWfXAtZ",
        "outputId": "c347eb02-2c61-4dd3-d42c-344e0419275a"
      },
      "execution_count": null,
      "outputs": [
        {
          "output_type": "stream",
          "name": "stdout",
          "text": [
            "2\n",
            "8\n",
            "14\n",
            "20\n",
            "26\n"
          ]
        }
      ]
    },
    {
      "cell_type": "markdown",
      "source": [
        "![image.png](data:image/png;base64,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)"
      ],
      "metadata": {
        "id": "CO92XkBGL9qz"
      }
    },
    {
      "cell_type": "code",
      "metadata": {
        "id": "K-4KmDT2afqZ",
        "colab": {
          "base_uri": "https://localhost:8080/"
        },
        "outputId": "f31c6508-ce5e-4151-95cd-19ca4801d9a0"
      },
      "source": [
        "fruits=[\"aaa\",\"bbb\",\"ccc\"]\n",
        "for x in fruits:\n",
        "  print(x)"
      ],
      "execution_count": null,
      "outputs": [
        {
          "output_type": "stream",
          "name": "stdout",
          "text": [
            "aaa\n",
            "bbb\n",
            "ccc\n"
          ]
        }
      ]
    },
    {
      "cell_type": "markdown",
      "source": [
        "The idea behind a while loop is to execute statements as long as a condition holds. When the condition becomes false, the statements are no longer executed. To avoid endless loops, you need to update the factors that affect the condition.\n"
      ],
      "metadata": {
        "id": "uvbY_Z7QMuHM"
      }
    },
    {
      "cell_type": "markdown",
      "source": [
        "![image.png](data:image/png;base64,iVBORw0KGgoAAAANSUhEUgAAAi8AAAGrCAYAAAAIHXcXAAAAAXNSR0IArs4c6QAAAARnQU1BAACxjwv8YQUAAAAJcEhZcwAADsMAAA7DAcdvqGQAALnXSURBVHhe7J0FgBTH1oXPzsy6Yosu7kFCSCDu7voS4vZi7497Xtzd3eXFhbiThHgIJBDc3dbdRvavc2dqt3eYNVhg5X7Q293Vt6urtc7csqgqAxRFURRFUVoJrtBcURRFURSlVaDiRVEURVGUVoWKF0VRFEVRWhUqXhRFURRFaVWoeFEURVEUpVWh4kVRFEVRlFaFihdFURRFUVoVKl4URVEURWlVqHhRFEVRFKVVoeJFURRFUZRWhYoXRVEURVFaFSpeFEVRFEVpVah4URRFURSlVaHiRVEURVGUVoWKF0VRFEVRWhUqXhRFURRFaVWoeFEURVEUpVWh4kVRFEVRlFaFihdFURRFUVoVKl4URVEURWlVqHhRFEVRFKVVoeJFURRFUZRWhYoXRVEURVFaFSpeFEVRFEVpVah4URRFURSlVRFVZQgtK0qbh487J5er5ep2m0ZLS07rliQQCISWzIcrKkomRVHaJypelHYDM7+C/HwsW74c24zYBtGe6BaZAa5evRqLFy826a1CcnIyRo0aCY/HA7/fL+fgdrtlagja+3w+mVMAxcTENFoI8TgVFRUy57E5NeaYTrgvj895Y45NO6/XK3MnPDbv0/z585GdnWO2+zGgf3/0yshQYaco7RQVL0q7gZn4999/j2uuuRZffPE5Onfu3CLFy9tvv42bbroRI0aMxMiRI3HVVVeJCJg6dSpmzZqFo48+Gj179gxZR6ayshLLli3DN998gxUrVqBPnz7Ye6+90H/AABESdcHPAUXLokWL8NVXX2HdunXob4TC/vvth94mjujo6JBl/TCegoICvPvuuygpKcGZZ54pQqy+652Xl4c333wTxcXFYseJ4mSbbbbBPvvsg6eeegq//PIr/vzzT1x00YW48MILVbwoSjtF33xlq8JMjhN/bVNccHLqabvNCdetjd3OOfe1y3Y9PD5m6oWFhbWOFx4/cW537s9lbrOT3VaX/cbANCYmJuL+++/HlVdeifLychEBl15yKR566CFkZmaGLOtmzerVIno++OADIwZKjCB6CxdfcjFycui52PB8LUw/vT7/93//h++++072fe21V3H9DdcjKysrZNUwFEC//fYbbr/9dklzaWlpaEvd8L48/vhj+Pbbb0Wo2YniiyLl7LPPNnE9iNTUVIl/U6+zoiitFxUvylaDmU9ZWZlkWpz4yzs3N1d+eVthwF/tnGyGyzltmaEzo+Wc+zGM+3KZ9swsuczMuqioSDwXFhbH8Lj0DHAf7uvMDCkeuA+3ceKyFSU8HteZxvz8fLF12jOMxw7PWLnuFDh2qktIsIiGAiY+Ph4zZszAM888i8MOP0yKUMLjDqfKxPnBxImSlmeeeQYPP/yQEQVPYObMWZgyZUqdxyQstnn99deRnp6O//3vf3j00UfwwAMPYtas2fj9999DVvXD+Omxuffee7HLLrs22jvC83K53Lj11lvx4osv4qWXXpKJXhvGwWuRlJTU5OIrRVHaHipelK0GMzl6Bk477XRcccUVOPTQQ3HYYYfizjvurBYwzHxvvvlmyVSJLYJgcQjD3nnnHflFfumll+KQQw7GEUccjldeeQVPPPEEjjrySBx00EG47LLLJDO1mb7XW4FXX30Vxx13HA4++GCcc86/8ccff1SLiTlz5uA///mPbDvssMPEg8F6KNxGb8Q555yDRx55FMccc4wUYSxYsAAXXHCBHOtIc8ynnnxKRI5TZDBuihqKHDvxHMPtwmHRydBhQ/H+e+9i//33N+Kl4Yw7YOJj0dC///1vKS5iZt+lSxfExcWJoKkPj7Hled9yyy1ISUmRtFFEcd/GFrFRCL733nsiOA499JBQaOPg8XhdlixZIpNTuCqKolhUvChbFRaB/Pzzj5LZsojh1FNPw1tvvyXihN4SioalS5dKpsaJImDOnLnIy82TTI37T5o0STLne++9D6NGbYs77rgD77//Pq648kopdqHgsGKHcdAjQ7FCwXT33XdLOihwmFlmZ2eLEKqsrDAi6g7ceOONWLhwIW677VbxsNCT8+OPP5ppMs466ywMGDAAjz76qIgQFvOcfPLJ4rGgAOKxLCxyoZhgfRU7Ufw8/vjjtewi0TW9q1ROdbsb97pSrJx//vmYMGGCeGqYbl4Dst1229XruYg292GXXXbB4MGDRZQ9++yz+O9//4uMjF4S3hA8l3/++QefffYZrr76aqSlpTVa9NCO95fPAcUj00+h+vfffzd4jRRFaV+oeFG2KsyUOndOx8UXX4y99toLJ554olQQZVFJ3RmWETLmH2GG16tXL1xzzTXYbbfdcPbZZ0nF0EsuuUQ8OUcddRS23357zJ49W8QQ7elFYMa63377Yc899zQi5krxhLCOxs8//YS5c+caEXIKevTsaTLtDPGmfP/9DygsKJA0MUO+6667JHNlpV8KF4qvhIQE8Y68+NKLImqcmTbrabCC6XXXXVc9XXvttTjiiCMazNxrtjdOBBAKFHo+KNgoAFnvhOdBUdKY43Ff1jWZ+MFEuXZJScmNqrdCz84jjzyC4cOHY9ddd5WwxgoPXr/x48fjDiNePv74Y7z22mvIzc0xwvE28cAoiqJYVLwoWx1m7CyiYIZLT0FCQqJ4C5yZXu3l0IKBGS29LrYuBOtFULz06NFD1tk6htucxQ/JySkikLidE207duyIVatWYfWaNZLhs77GlUbUXHXV1ZKBc3t5RYXs36FDB2ntY9PLYivWn7nwwovE40GvD4/nTDPPhx4JZ0XUadOmSauexmbuTYXHpNfoP//5PwwbNlw8TQ21FuI+TDuFHoXdu++9K0VsTOdzzz0nnpG64DZ6uCg8KRwpZDgxLtYHYj2jus6V4bxv95nrvtNOO8kzwVZGRxxxpFQg5vVVFEWxqHhRtjpRUa5a3gC7yDAKBGZ+nCg+mLFWVJTT+VKNyxVV7ZPgPtZzIOuhMAvzzoryYCVfZracmKmyngYzTE7MRK+//nopBnrggftxv5nuuece8bIQxm3jZJq6du2KBx98EHfddadkvGzu++mnn9aqq8H0L1ywUIpi6NlhnyWcr1+/PmTRdJj2SpPuSIKCAmzp0iXiIWKdlVtuuVnSyXRTKDA9kVrssHk1i8qYTl57eplGjBghniQW3/BYjJsix3l+jIcCwwqcp59+WjxNTz75pAgXeplmzpwZTLPZl8d3wv1Z1Dbpu+9QYbZznfHTo8Vl5z1UFEVR8aJsVZgphedLwbBgYI/u3ZGVlYm1a9eK4KDHIjc3T7aRoG3tx9i5P5FlrnJmpqLiIhEXtjXRr7/+akRRMcaPG48xY8aIGFpnjte5S2dpdUOhwWIXZto2bhs/i1LYrJj1bpjJs85Lnz59Ja1OOnXqhHvvu1fqkLzwwguSyXM6/fTTq4VWY7DHZYbOtH/19dfSWsoJM33Wzfnvf6+XOjz33HO3eLYoLihYeB7z5s2T4iCnACEULJMmfSdNsxkHPScsPqKooYAhixYulPvA4jIL08XiOIoUFhuxAjPrBB144IEiCE866SSpPMzKuLxWTJcTng/rNjHN9FDx+q1ft07uDYsFmX5FURSLihdlq8JiDE42A+c8OjpGimO4fMihhyI2Ng7HH388Jkw40WTE95rMMAWe6OB22klRSChTZ+bLdc4t/PXO3nRdRuTQnsU+zEBPNPGxjs0DDzyAU045FaNGj8KwYcMkA33k0Udk22mnnYY777xTWhKx+Ck8vfRqMG1PPfUkTj31VJx33nkmw8+VTtWsDWHmzjTx+M7JaePE5OWSoXOy0J7H5pyi4xsjXFjRmMUqTlh/5/LLL8fkyZOlKIwi4phjgpWE2QqIIua+++6TirEUM0569+4tlZMnTpwoFYp5Tqeddiq6desmx+Jxn3jyCVx//Q0bFOWwzsree++NAw44oHraYYcd5HqzCIrFe3/99ZfUR2KRmRNem9133x277rqztP461dyPY449VjxTvP68zjXXo7a3SFGU9of2sKtsNfjoMePlr3pWto2NjZViBfZFQqHAOg+Ev8h/+eUXyejZWoaegKFDh0pGy/3XrFkjGR8FAn/Zsz+SsWPHSqbJY9jWKqNHjxZvAtfpJWGLI3otWImVlXp5fMIiDRZxsDdb7kdBw30pglauXCn1P9jyhuuExSDMjFm/hMKCcQ0cOLBOYdIQrKj64IMP4J133pUMn14HxkVvBK8NK7XyOBRXvEY33HCDCAeL9W5EKk5iRVpW4L3uuv9KHy7jxo2T6+aE+/EceU70rvA685xYnMbzP/zww6UpNZuRMx11wWvH1mDTp08X8cJ42YcLi4d4jvTIOKG9vX/Lly+X82YxnO1NmNvoCTr88CPMuU8QgeYUqYqitB9UvChbFefjZzNRG+Zct8UbzMS5zm2cuMzJCgW7L7H7c99wey7bOLkcLjS4zcbl3B4pfuK0p61zW1Nh3zVsnkyBxokZPisi2/g5p2BjiykW0bAysTP93G6ncJguVsClOGCLJ/FaRYD7Oq8PJ4b98MMP4pWh54Zir6HztOmgHesWsViJrbQowCLta+3tPnaioHz44Yfx008/SYVgeoFYXBd+3xRFaR+oeFGUFgY9I9brwwqz9HqEezgoLFhsY1tpNQXW06EXhN6tSAKiLpgeigjuz+M2ZV/CNNN7wrox1mvVWLgv68KwGInLQwYPRr/+/ZucBkVR2gYqXhSlBeJ8LTWDDhL+qdLroijtFxUviqIoiqK0KrTAWFEURVGUVoWKF0VRFEVRWhUqXhRFURRFaVVonRdF2cLwlZN/VQEEZDnYzLpmzm21K+zKP5kHm2GzV2GzJHO7TVEUpb2g4kVRNhNWhAREpPjhD/jh83tR6itBqbcYJZXFKK4sQFllKUr9xSasBJX+CngDlWJLKEmiotyIdkcj1h2HeE8iEtxJiI9NQHJ0CpLj0pAQnYg4Tzw8rmi4XW64jb0dL4r/FEVR2hoqXhSlGRGxwn8UKgEvyn1lKCkvRlb5WqwsWIrl+YuwtnilES5FIlKCnhfzCspcYpC/kQlJESNKKFBo63HFIDEmGd0Se6JP2kBkpPZDt6ReSIxORqwnzmznEARuiJ9GvTOKorQRVLwoyibi9LB4/ZUorMjHgpxZWJg9GysKF5v1PCNiykXMbE4obdxGrMR5EpASm4beRsgM7Twa/TsORVpcR0S7otUjoyhKm0DFi6JsNBQsVagwwiSzZA0W5czBfCNalhcsRpERLCz6adibsnmw4oRel+SYVCNkBmB4l20xqNM26JLQDTGeWBmoUlEUpTWi4kVRmggr2noDXin6WVGwBH+smox52TNQ7isV7wtfKVsIFA5Dt7TPQ/ws9LYYsZIQnYShnUdi54x90DO5DxJjUqRoSYuUFEVpTah4UZRGYouF8styMDNzKqas/hHri1ejwl8u21oL9LjEeuLRI7k3xvXcHdukb4fU2A6IdseoN0ZRlFaBihdFaQArWnLKMjFr/TRMXfMzVhculwq3rRl6ZOh16ZHSBzsYETMyfXt0jO+sIkZRlBaPihdFqQO+Gr4qnxQPUbR8s+RDZJashT/gC1m0DYLFSi4pRtp/4JFSyTcxJkkq/3KboihKS0PFi6JEwHpbluUvxEfzXsdyM2c9l7YOi5MyUvriyGGnom/aQOk7Rr0wiqK0NFS8KEoYbCWUXbIOk5d9gd9WfSedx9VVAXdrwJQ05A/ZFBtW3k2KTsH4Xnti736HokN8J/HCKIqitBRUvChKCL4K7OF2cfY8fDD/FawuWi6dzbUk4bKlYHERe+vtmdIPR4sXZhDiouMlXFEUZWuj4kVRDPS20MPy0/IvMWnpJ1LPpTW1INpcsMgoNa4j9up7CHbtvT8SYhK1GElRlK2Oihel3cO6LLmlmfhq0URMXfOTdDrXHr0tdROFhOgEjO2xKw4YeDQ6xXeRzu/UC6MoytZCxYvSrmGl3DVFK/H+nJekS/+6vC18Sdp7Vs3xlAZ3Hol/jTgbXRO7a2skRVG2GipelHYLmzwvzp2HN2Y+LQImKFGU+mCT6oyUfjh924vRLbmnChhFUbYKKl6Udgk9LAuyZ4lwYS+5m9Kdf2NsGkNriYdipUdKb0wYcS76dxwizakVRVG2JCpelHYHPS6Lcufi5emPIK8sWyvmbgS2U7sTRp6DAR2GaFNqRVG2KNpsQGlX+AJerCxchrdnPafCZRPg4JRripbjg7mvILNknV5HRVG2KCpelHYDPS7ZpZl4b/aLMjZRUzPc5nJR1hdPY47RUmx4/ZbnLcQ7s59HbmmW9JOjKIqyJVDxorQLmLEWVRbiswVvY1HuHJMpNz2jbY56JKS+eBpzjJZk46/yY172P/hs4dvBnojVA6MoyhZAxYvSLmCT6N9Wfodpa37RIo5mhh6tKat/xC8rvoHXLGsfOYqibG5UvChtHoqV+Tkz8f3Sz6TOi9L8+PxefLvkY6wqXCpDKiiKomxOVLwobZ788hx8teh9FFbkhUKaTnP5EtqqT4LeloLyXHww5xUUVORr/RdFUTYrrUK88EMYCARkaq3wHPx+P3w+H1dCoS0TXmemtTkyIMbl83plvuUztCrxCPy0/Cssy19UXVy0MaloTP2QxtBc8WxN6rp+FDBL8+Zj2pqfZYBLRVGUzcUWES824y4vL5d5UykuLsa0adNQWFgYCtk0mJHatHDuNZkr53l5edWZNtcrKytlqqjYtA8xj8e4f//9d0ybOtVkqC3brV5QUIBff/11k8+7vKIcixcvxuQff0RmZqbcv5KSYnM9tsz5B8x9XF6wyIiXr6XOi8UKiMaImC0tt1oSdZ27U4CF23CcqB+Wfi49FmvlXUVRNhdbTLysXr0ab7755kYJkLVr1+KSSy7BqlWrQiEbD9PCTHnixIlYv349vv76ayxatAgzZ86UY+Tk5IiY+eijjzBjxj+YasTGTz/9hMAmCA4KoBdeeAHnnHMOnnr6aRFGzQ2PUVZWJufXFGhPbxD3td6RhQsX4owzzkBubm6T47NwvyWLl+Ckk07CLbfcgr///hvPPfccXnvtNXN9fSGrhmGaeL+aKqToBaBgoXApriyS9XAa4wVpC56SjWVjr09OWSZ+XfmtCBlFUZTNwRYTL4tMhnjvvfciL5QhMlPiRE8HJy47cW7jxAyWc2L3t9tsBmvjtOvWzgnt58+fj0ceeQQLFizADTfcgOycbMTGxqJjx45wuVwilm677Xb89dc0PPHEE+KFQFTtz7TzHOwxbZgzXZzoyfj+++9x9dVX49FHH0ViYqKEWzu7f33xRrK1MIwenQcffBClpaUbxGX3Dd+PcDuFxcMPP4yiIpPJh/bxeivr3beheBn+zz//SHpeffVV7LnnnujUqZM59yRzKaOqj2MnrnOycdqwciOqKHh+/vlnCWssLCJaXbQM09f9YZZbtqerrcFrP3P91HqHXVAURdkUtlidF37CbObDX/lz584VbwyLUr777jsRDFIfxMDMK3P9evzwww+SaWVnZ9fKuOgZoXfg22+/Fc+IzXSXL18ugoS/0hnXmjVrMGfOHPhD8RIWQT322GPYbbdd8eOPkzFw4EAMGzoMGRkZOPHEE0VY/PbbbxgyZLCImaKiYpx77rkiaixMC9M+b948LF26VLw21nvBZXpzZs2aJelgWnmu69atQ2lJqaSxyuxfUlIiooHnwHisZ4FCh+srV66Uc2N6Of35559iu2zZsurrZKGH5NtJk/C//72GP/74o/p60cPDdDA9f/31lxzTeR15zRj3l19+iTfffANTpvwhxTsMp11WVhYmT54s94AeKYZxG4+/ZMkSfPPNN3I8Fokx3An35XnTlteI92i3XXfFLrvsItsZH+/NihUrpEiQaeN50MvF54HXi/vOX7hAPHY8h+nTp29w7nVR6auQ4osy9j0SCttUWko8jdl/a9sUlOdh8rIvpc6RoihKc7NFxjaiGKEQueCCC/DF558jygiB448/AV26dDEZbJlkXMlJSXjs8cfRv39/Kca58sorJcNzu92Ii4uTuhPvvvsuhg8fLvPHjS3DmemPGTMGN954I37+5WfcesutePLJJ9GzZ08pBtp+++1x9VVXwRMdHDyOxSvMBDt06CCZOzPkbbbZBr8bwXLmWWcZQfMj8vPzRazQG0ORMn78eEmHhYLknnvukQw12hON7cZuh2uvvRYvvfQS3nnnHaSkpBhRUIIjjjhcioouueRSIzy+QXp6uhFNu+H666+X9FOMJCQkiOg5/fTTZaJIYbp79OghxStPPvkEnn32Wbl+MTExiDbncffdd2O77bYTDwaZMmUKzj//fCMElmPUqNG47rrrZPvzzz+P99//wAiyBBEpO+20k3iaeO48P956CoyTTz7ZiKUV5tpug//+979ITk6WtG+33Vi5XhQauxrhweIfbvviiy/wwAMPSHrKysoxYsQ2sq179+6SHkJBdJW57izq4/2h14nnQJi+Dz74QLxanTt3lut18803i/eH3hqeIz00zz//nBznnXfeNvc6XoQP9+E1qw/+8s8sWoMHfv+vZKJtBb6oracYKwod4zvjoh1vQo/k3qEwRVGU5mGLeV6cUMyUlZZhwID+UiTwv//9D4WFRZK50fPAjJCekDfeeANvvfUWdtxxRxEMFBoUNrfffgf+/e9/S+Z83333YfLkHyVD3WvPvSSjfPTRR/D666+LCDnttNPg9tQMGscMd4cddjDHHiCiZdSoUSJMKn1eqUzKDH3QoEEyMQ08tlO4ENowU6f34drrrhXhQkH0+utvSMbMdN1880145ZVXRfxcc83VGDRwkJzXTTfdJKLnvffew2233Sa2V1xxhRQn8dx4nrm5QbHwwgvPS3opBG699VapN7P77ruLx8apOXkOZ599tqSX8TGT57XkNbjttlvlGj711FP47bdf8fbbb0vaCcVPv379cN5555l5f9mX4iq4zYWjjz5avB7PPPMMpk79Uzwl9LLw+h9yyCFSh+Wxxx4VbxAFpTNNjIceqz59+uDll1+W86HQ5EQ7Vtrlfkw3z51eMnqJKDwp1vr16yveJwq5sWO3l/vNYrH4+PjQEerGF/BhRuafKKooCIW0DVqPcCFVKK4sxNysGSImFUVRmpOtIl74EzI+Pg6HHnqoeBiYwfXs1ROZmVnIyc42QuBvHH744fJLnt6Kgw8+GKkpqSJeWMSQl5eL2bNni7hhxs64mPHTK3DtNddIRVFmmBQVjN96KCxcp+eBE5fDt9twaxMJho8cORI777wz0tLS8NVXX0mRBotRKMhY9MQMmp4NFkXRS5SamioTi2HoXWA9GJ4DvS3lZeUihpixp6V1xGGHHYZu3bqJV4IC47nnnseHH36IbbfdFgceeGCtNNNDRG8EhQ6LumLNnAKJwoteI3q46LHabdfdMWnSJCMgalreMB08BuOgR4bpZNyxsTHYZ5995Ppz39TUNPGisLhu+fJlWL8+U8TRp59+CrfLLffFWaTDeOg9iY6OEe8K14kVOBRHQ4YMwQEHHCDbe/XqJWmwHik+G4MHD0ZiUqIIlqSkJElf+L2KRInJNKesnqyZ5laGHQKyR+Myb6l55WuEraIoyqaydcSLgd4M+yuaGRLXmdmzGbHf50eC2caMjhMzZZc7mFR6DWJioiWjY8bLOI444gjJpAnXk1OSq/ezmWVzwzRTKDANzE5ZMTUuLrY6XcysJ0yYIB6e8AzX5/MasZEo6fN4PCK6Tjv9NBFxtE1OTjLnkSDLjI/emjFjtpWKw7Z4qq66H3LNzJxFYoyXR7bXINEIgPJyej42zNTDrxPFhb0/FGq8PzwmPSfBexcn58n07brbriJC6hJ6dUEhx3vJ86TIpCeqa9eu+OSTT3HJJReLAKSXjsh5NeJe0mZN4QqpLCrr8lfZGlA8rixcgrVFKxp17xRFURrLFhMvzESrs3BZqO3x4HIw405GJ/NL/M+pUyUD5sRf9QUFwXoo/LVOYXDcccfhwgsvlCIP+4ucdUfuf+ABkwF2w1FHHSX1N1gcQY9NQ5ijy9+mUJ1+M6eXgx4WVvq96KKLcN7554k4EXFDu2rTKAwbNhwxJpxFWrQ988wzZRuFDLcHp2BGzGInFvnQhsU0p556Kn74/gcREU64DzN6ijvux6IxZv7rMzPFlvWKWPTD+ikUHE4oRrgvi6ysWODxw+H179u3n7neHbH33nvj//7v/6Qe09ChQ+WYcp4OuOoMsudlCdoHA+iNohft8ssvx2uvvYpdd91NvEc2PTwvpq+hTJADBS7Om1/dTNdxuObFJINpCU7BdWVDWIS3IHe2ETLa4ktRlOZjy4kXk1Gx7gkr63KZnhTnL3VmoFxnEQcrubIezLXXXmcEyPXS1Nbt9kjmzjothx12OC677DKpQ8IKqKyrkWZ+xbP1Cyvesp4EK7DSE8I6FLaOR31EuaJM/O5Qhlo/kn6TVqbZrrMoh0Usl156Ke644w5ccvEl+N6IjK4mjLZ24j7HHHMM4hPipFLy7bffLufy55Q/q5tqc2KcnOidYAuliy++WOp8fPvNtxi/4/jqYhhCu969exuBUoo777wTv/36qxQ7pad3kfSwMizrn5DgdanZl8eix4ctlFgR+JdffpFwXm8L42e6OWX06ikepZtuvEnq4bDy8UMPPSQeE8blxJ6vxR265/bcnNtYRMZ6Otdec63Ex1Zbe+yxB5ISk+TcWBGa6bMty+qi0leOZfkLjE3DgnVj9AYPHfAF4C33oaLIi7K8ClSWeuGrZPPu9qdgGjpj3odFOXPg1/GOFEVpRtwmY7s5tLzZkIzKCA8KE3oEWD+DE1vEsL4FoYeCdUj69u0rc9azyMrKNJliumS8bNLMfWnPeibM7Ni0lnGywisrrS5esgQHH3IIxo8bh9S0NImfHgfGFe5tCMdjMtKOHTuJB4Uek/rg+TC9bBlFTxDXKQj22msvOS9WamV6mS7W26HoYhEMhRfTzzoy++9/gMTFTvtGjBiBy6+4XM6JttxOW6aD6eb58jzohdpv//3EC2OLdCzcl+lhfKyIzArH+++/v8THStCsK0OxxFZYTpHBtFN0Mb0UBrxWrPjLNLAojsenPeNhHF3NccaN20Hq4VDw0I6CKLxisxUnPB73Yxys/8I0siiN58ZtTCttWe+F9zfT3HOun3DCCSIIefxhw4aJYLHPTH33Mqt0Pb5f9hlKvcWhkLppqleGAiV/VTGW/LQaMz5YjNmfLsX8b1dg2W/rsG5ODvyVAcQkeBAdb0SwEcPtgcacJb0uO/baC7GeOGPfPq6Loiibly3SVJrwMCy+sRmnPaxdZ/EAMy27TlvWsWAm4Iqq+bXOidDe7sNMkvvZdTsxDk7cbverC9oxTYynIVti7Z0Ztj1Hmw5m+JwzPPx8uU472jPMppHrhMs2HU5be652m8V5bB6XNnUdIxJOO9pwX+cyJ8IwQntO3G7TFA7j4372GnGd2DRw3W4jXGecdh97fIbbuOw1rYs/V/+E/814AmW+0lDIpsNT93v9WPLzGkx/ZyFK84NFdi63SQevT8Bce3/w2nXolYzxZw1Hl0Fpwe0OaEcBRHeFK9ol3sd6TmWzE/Cb54PpMbhjzPUOS29zEe2OwcU73oyBHYfLu6woirKpbDHxoiibGz7Kny98F58teEvqWjQXFCZLf12LX5+dBV+FHx16J6PPuK5Iy0gWAVJWUIHcJYVYMXW9ETblSOuRhN0v3had+qbU8sB4zb7T312IiqJK9N6hK3qNSd9sgqEh+NYXrS/FrE+XiJgaecQAJHUJtjRzwo9DQylsjM0po/+DnTL2hscV7G9JURRlU2iTP4OYidmpNdFS091cadrc58bKuutLVjdvE2mTXBYHzfxoCSqKveg8IBV7XjoG2x47CP127C4iZsi+vcXbMu60YYhJiEbeqiIs/G6leDacBLwBLPllDeZ/vQI5SwvFE7PVMPehLL8CC75difnfrEBpTpmcaziNkVaNsVlZuFSbriuK0my0SfHCoge2sGHrlOaAGa4ttmgI2rG4q6mZNO2ZbtZr4bw5YDy2GGZT4LW0rZg2Fl4XtgbjteEy08V5c8K6FeyYblPP14mRWyjKKkPesmK4PFEYeeQApHZPDHpUQrk2nRVuj0u8KQP36Cnei9UzsqVSLwUB00MhI2Il+F+Wq0yYhIeJHIvdjxWE/Ub4cKIXyMYTiep9GC+vA/8be8bBSYJowzCmwSwzTNbtfoy/mckuWQ9/M3rDFEVp37RJ8cJKq+zplj3RNgeVJvNmp3jMxCVDqANu49hK7NGW/b40Be7LXnrZ0ooVYTcVigR2nMdO8zZGJNjzpMhgU+0XX3xR4twYGBfHOmIz7xkzZkjFYF4jdnjX0PVsCmzRUu4rM/l1M2a+JqqK4koZH4sCJaFDXFCtRMAd48KA3Xuiz/hu6NQvRTw2hK2Slv+xDkt/XQNvGQVNFbIXF2Dxz6ux6MdVWDZlnYm/9j2iiCjNrcBys236+4sw5ZU5mPbGfMz5fJns662kKA0Zh6DoKFxbisU/rcLSX9agvLBSirmylxRgttlv5sdLpO5O4bpSqb+zenoWqnzmahlBtOrvLEnL4p9WI3NhfpOvfX0wqnJfqXjGFEVRmoM2KV6YybKpLYcH2FQYF1sxnXvueTLAYENQ5Lzy8ssyllBTYGbBVkocQLExTbsbgqJj4sSJMshhU6C3iqNu81yZJk4cV8qubywUfn/+OUVaPvHasPn77NlzQlsjw2u5fNkyOZfGwMyx0l+7/5vmgKKFdVsCJqMvyixFwAiASNDj0rl/Kva8ZAx2v3BbJHSMFe9MSU45prw4D789P1vqx/Ayrpy6Hr88PRO/PDUTU16eC29pjTBkpd61M7Mx6d5pmPzQ35j+3iLM+3oFZn26FFNenYuv75iCv99eIKLKeU+4uHZWNn5+0sT7zExkLyrAPx8vxte3T8Gfr80VQQOjkWjD+jszjCiiaKJQ+mfi4mB6zDTLiJy6vEEbA7VeibdEPS+KojQbW1S88ENLjwR/edM7wqbOnNuiDWZw3G49BcxIWdTAOUUEMz07+jCFCbdxys/LlzDub/dlfBQB9jjc1xYjcRuXmZFyG9PDdYbzOFy3x+Iyu/BnM97eGRmy7twnnL332gtPPf20dJzH7YyD4zYxvZxYLMTjEB7Lng/TwvQy/dxu08j0c2BEzrnOfXjO3I82tOeyM17Cptw33HiDjB3EcF4bppnxUCRxHi6SaMe4OOgkhQ9tbHp4bF4TppXhTAfDOTEepp/p5DG4LRLBflCqpD+bp8012nPPPSScaeP+TBePz+eBc45b9bq59s57Vx/sU6TZM0iT8yanJyC5a4IUu1A0ZC7Il/ov0reLLWYJXXoWJ7mjXTLZyq9sOp2SkYDUXklGCLlF0CR0jENa72R06JOM1B6JiApV3GVcFB0/GxGRvThfWgH1GNkJQ/bvjQG79UCSSUtliU+aaVPQsB5NNbwfZpXp9JX7xUsz6yN6WwJI6pKAlB5JcpyENHPsjKTgcUPFX6k9EyUtrIyc0i0hqDiaEd4XPiuKoijNwRbp58XCTImD8HEgxc8//1wG/eO4PuyhlT3rctwddkbGPkOY+a5Yvhx33nWX9PPBzJk95s6bNw+vvPIKPvnkE/kY/v33dBl5mWPsMBPleDicv/3W29IHCe04GOEff0yRfkUoKpgOjh79yMOPyICCTEOnzp3QpXMX8TKw87XMzExJH/txoRfnlFNOkeIcdhTHIo+pU6dKnzTsZ8bZQmPGP//ghRdexK677iKdy910081YuHCBpPmzzz6TjJ3nS1asWCGjJL/00osmPT9h/fr1MhYSi1fYlwmPwVGVOQLzr7/+Vj3W0auvvmqu4WTp84QZ/v333y8CwPY5Qyg6/vfa/7Bu3ToJ/+ijjyTd7ITu1VdfMfNfJT72Q2ObOfN6/u9/r+O9996VNLN3Yvb1wvvCeDjiM8cz4jAFfXr3lp6QeVz2jss08Bi8luz0jtfe2QyagodFT0cccaT0K8MRpClimAYWbz3yyKNGMH0gxW683xz36eWXXzLXcIUM0LjjTjsiLramc71IVPjK8duq71BUWSBaoqHstzE2NHBHu6VohaKFlVxZ3MIKt6W55dJBHcWBE7YGdj4T0fHR6LNDV/QZ1w3LflsrRUfDD+qLnc/eBoP2ykC/XXogJjHYBJzeHXpE2G9MTGw0dj5vBEYfPRAZ26Wj99iu6D6iE3IWF6A4s1TSMmDPDHiMwCEUPjlLCrFyWqaIGHag13V4B2x/0jCMPLwf+u7UHdFxbiR3iUe/nXsgzYgVpocdR+5x0WiMOnIABu7Zy4ilLibO5v1dkxCTJK2N4qPrHxFcURSlMWxRzwtFw++//24ywP9JJ2fsHn/GjOkiaJgJsmiCXdrbX+755tc4iz3oseCv76+++lIy7X/961+SQf73uv/KIIgc/Zidq7EHVooOZsIVlRV4/vkXRMycddZZkgneeOONkglTNFxxxeUiWNgBHn/VX3/d9eJVoEChaJk48UOMGzdeBA978qUA4KCB9CycccYZ4hl47LHHNvAIMMP/7jsOflghcTFDZt2bY489Vjqj4/g9HICRngamh4Lg7LP/jb332lNEgvV0cARndr+fnJwi6Wfvv+xkbu3atSJaZFDETz4VscfhE5jhO2EcFD9z58yV60lRxFGp2U/KGWecKXVQ6GGhF8fJttuOlkESR44cJeMV2Q7hKEoonHjuFBMchoH7spjrqquukl5wmU6KTHZaRyEWCebp3I+96XLoA9rxvAYPHoTjjz9eBmWkOBpmBF7Pnr3MfR0m6YiLqb+TQeIUDA2KEkNjbeidGGbExsgj+yPJZPz0urAuytT/zcO390zDFzf8LkU5f729AOtm56C8oFI8MhY2h45NipbJelg8RkTEJscgLiUmGG5Fp9mvJLsMcamx6Ll9F/Tdsbtsp0DxxLrFMzJ4v95iX5xdLs2uza2OQBU6DUjBLueOlIrEKd0SEWeOx/3ozWGcbBnFE+ShPXEe2c6JAqe5Yf8urkZdcUVRlIbZouLFcsghh0gGx0xpwoQTpW5DeLFHJJjxsit9jjjMjL1LehcjPv6NI488UsY44i99ihPGQ8/NmWeeIeJkv/32M7/0HzTCZj1++uknETxJSckyPhIHBKT4KSktkQye0Gvw+OOP4aSTTpRl2zFaSUmxZObchxWC2fW+07tgcZ4GR0O+9tprZPBIZu5c5wjY9DBQoHCgRfaEe/wJJ0hlXR6LIu+LL74U18AxxxwtAoriJzc3Ryr1jh49WoTf1ddcLQLqmmuukZ5rbQYYCXpX6EWhLXuuPemkk7Bq1UoRYRbaUARSvFAMsXt+XkfGy7GMOO4Q08oefukBowh59933xIPCUcB5XTj0AcXZfLM90v0MD6LIo6eMPQazZ2V6Z3baaSfxTtErM2TIUOy2226IdQxpUBeuKJPBb4Z+RCRzN8Jh9DGDcODNO2K7CYOlyXR8cqwIk8pyL3KWFEgRDeup/PjYDBSsLQkVkzUNFjftfN5IHHzrjtjxjOHSwokeFU4iiMz/1O4JiPK4pPJtpRFSG1xUQ5TbhcF7ZyCpc7ykPxJbUkq4o/gObZXPjaIobZAt/jVhRshu+K0gYKbFDMxmdOEZnjOcQoEZJfdj9/LsLj49vausMz6G2biY6bLreSsuOhgRQsFCzwU9B/SQcBwgFhE988wzklFyHyKDQ3bqVF2cQhj/pZdcKpn9+edfIEKEAwnWVb9DMLkDz4/HZRqZFsbDTJ9emfi4eBkTiNs40XvBOb0vHBohJzdbio2YRoqUPn36yeCPTCfFDI/dsUNH8S4501oXPCd73RmP3x9s1t0YuK+9PtyX+3HKzs7CsqXLcNddd4tXiYNHcjiAusQGj23hMoUSPVscbPLkk08WQUhRF7zvG2bK9eE21yDGHWsu++bJlilUUromYMTh/XHgjeNxyF074cAbxmHnf4/A4H0ykNw1UTqiW/lXJn57blY9XpG6kWOkJ4inhN6ZkuxyZC3Mx4ppmdJaaelva7Fubh5ghVEd8TOexC4ULltSokSG1yApJtncn+b36CiK0j7ZCj+FmFGHFkNYgcKMlb/CKUDofWAFUBbLcHvwI1zTZT7hYvjH2WYWjIdNcbk/xQCLoBjGeirMMClsWFzFiqOsf0GPxICQ94JCIFwMMJ7CoiIZSJGjHtObwybEtpiqLurKPCjCikuKpdiE50ohQI8M00qRw3oh/foNkEqrFFdM6zXXXC3CgAKKg1FyPCLGweKmxjTN3vBaBSvcOrE2tvjKCbfZiVAsdDaiZvS2o801fEiu5SOPPCJjOnFspfDjBamJk/GzSJD1hh5+5GHZn9eF9YN4fHNEY1MzNEBD8Nd9vIeVTUMBmwMTt8tlxHNitIiVrsOMeNynN3Y6ZyT2uXosMsamSzHT2lk50tcL+2VpCjzNyjKvtAhiy5/Pb/odX982FZMf/Bs/PfEPfn7yH+mlN7xpdTi89NHxns17LRoJ0xJn7ovbVTPYp6IoyqawxcULRYHTfcwMjpk156wHQzHAzJj1OJhpU8jYDJOjEtsMkfNgXM51jocTtGWG9+yzz4p3hMVSrGibkpKMXXbZRepWsN7Lhx9+KMVMrFdD8VJhxA2R9MhSDRQYTA89CxQKweKk6OpiFYtNlyybf840ErtO4cHBCBkn08cKqizOIjz+nnvuKV4NVvKll4gVbVm3hPWCWHT02Wefi7Bhuh9++BGJg2l0Isdia5LQsjMtnPM4DHPCMHqeWEmZHhDWHbL7Wpz7sgiQlZxZV4Vera+++lrEC4VnOLx/clXM/jYtWeYcL7vsUinOYxiPzaI1ViKlt2fevPki6kodxVt1wfufHJdmHura57QpsKiGFWyldVGFX4pvLLyUvL70cniiXejYJxnbHT8YscnRIlrY3LmpTY795hhsRfT9A38HK/eWeJGakYBe26dj8N5GdB/SF/137WGO2cA5msTVPHVbn/TE7vAYcakoitIcbNHWRvz1PG/eXCNS+sso0JJ5ZWXJr2/Wf2GdCcLWNdOmTpP6Fyx2Oeigg6SIaNasWVLngpkaM2quU4ywyIeeC66zfkQw05sndTtYwZctkXisK6+8SkQDf92ziIatXChu2CpowoQJGDdunHg1uH7oYYfVGl2amXWPHt1FWH399dcmo16H//znAhn92ZmxM9NmJs5MnZ3bLTFi4+CDD5ZM2aaZdU/omeD5scIu07dk8RKpY8LjHGaOzQrJLA6yaWR9nNNPP12Ox9ZThxxysFwzCj4Wg7EC8LgddjCZWqjlibnW7K+lZ4+e2HbMtli1apXU1+H1Ynp5zbnfQeYaxZtra+F1YossiilWNGaaKJ4otMaOHVu9LyvbHmLOq685PuvksFXXN998I9fuggsuwPbbb19dzETo9WLLMN4TxkVxxLotI0eMRGpqqrQ+47XlPqzPxFZQ9JCxVdiUKVOw6+67ITkpORRbZJhdry9Zg4U5s6W33eagstSHKa/MlW70S/PK0WWgEUeeyMKB146ekxV/rJf+XBI7x0uHdazHQthpHYVJpREkPUZ2RtehHUX4OGEREft9oU3PUZ2x8zkjsM2h/dFvZ3M9xqSj2zadpKO8RZNXi/2QfXpLs2s5thFWtrURxQ3rvCR2qqOukEkn+59Z+MMqWR20V69Q/Zjmlzy8L3v2PQi9UvrqwIyKojQLW3xgRha/8APJIiLCDN0WlTCc62xZxEySwoVw2W6zv/i5DyeGM4ynwbhtPLaogWGsDMxf8zwm9yXcRq8OvSg8DoUKtzGcQshpa+E2ZsLcJy4uTvbh8ZzY8+H+tA9Pc/g602fjY8bNferabsUUw+01tOklXGe4xV5rxsd9OFkbm057LCcM5zWjTbBuTM3o0Zxze13nEc90GpEUHqdNJ8NtHDZOxsXjMQ57L6wNwzlnOG0bYvra3/Hy9EdR6m1aJ4F1QY/LpHumYfU/WTJS9P7X7YB4Ix5M8jbAnKK0FGLro/x1xRi4e0/sesHo6tY7jOvDK36SARHHnjhEmiZbYUMoPv54eY70z0KBctAtO0pfLE7o0VnzT460bqJr5bA7dkHnganiAWL/LvONyPr12ZnSouiQ23aSNEeCx2LT789v+s1EChx0647oOqRDtaeuOYl1x+HKXe9GhhEvWmlXUZTmYIt/SZhBMwO1MENimM3UuI1FMmyWy3BONpO0doRz2toMjftaMWG30Z4eG3parDix0J6CgNtsxsgw2oTbWrid3gt6JurKTBnG49q4wtMcvu6Mz6a5ru2M28ZvryGPw3VOXHZi7RjuTBex6/ZYThjG60ZvEZed8djtzn05t+mMM+m04U5sOnlcbmd8XCacUyTxvjMe53GYDgpPa9sQPVL6ICU2coa9MbDSbK+xnSVTz19VLP272DGCnHCd4bnLC1GSVyb2FA5sLVSNWQydmnhWnEVQhOu2km90okeaMzthOL03a2ZmB/uW4e6O6JuM7Btlogm2Zgo/p+aA97JDfCczmWuowkVRlGZCvyZKm4LCpXtyr9Ba/TQmr2bxy4DdekkPtKzz8vuLs6U1EevB2N51OfeV+7By2npMeXkOfEZgpPVKQu9x3WrVTWFxU3RCUHTmGhFETwwFjwy2aJQD+4BhURPzeHZAl7+6WOrMcBuPw2Ow1RG9K5uMERUURyy2Yi+9rGDsZ4/BofQ06uI0AiPh0dMIylhXw/30KIqiNJYtWudFUTY3rFORU5KNhbmzTabfQIuc0Lw+6ClhHy8JHWKxfl4eSnPKRbxkLchDcWYZcpYVSsY/94ulMvZQWX6l1EEZd+owdB28YTFM3rIi8d6wCXThuhLpD2bZ7+vQISMZMYnBTuJWT8+W47DDOwojLvPYLE7ixGbS9LxQ7AzZe+PqvFgP0Kq/M6UuT+7iIpQWVMjQBGwllT60g4itxlyj+mDz6F1774/+HYZofRdFUZoNFS9K24KZuBEtM9b90WyDNFKApPRIRPqgNOStKJJRollvZf2cXCnCWTc7F4VmnS2kOvZNwa7nj0LPkZ1reV0IhUBKz0Rkzc8Tr0vB6hJkGlFSsKZExi2KT4014iVavDM5iwpRVlgpwmjF1EwRFBwNOqVrIrY9fjDWGmHDIqnBe2XIAJAiXqqMOFpeiNUmTaxLw6EHKGzqgl6X2JRYI8Ty4a3wGVFVIPVgOEjkoD17VQ87sLGwom6sJx6HDj4eaXHB/pkURVGagy1eYVdRNjeFFfl4+s+7sCg32GNyc8Eec8vzK5C9pEC8J8VGsHBwRmbyrMTLXnfTh6SJCKmr4iu9IxQhq2dkiReGcXIgxCH79RavCxUO48xbXiTCqMjYVpb5kGDi7NA3WcY24lhL7KyO9N+lBxLSgqNXM27WuVnzT7Ycv/+uPcVjVB8sJspalC8iiZ4kCozORqQN3KNnrcrEG4M7yo0hnUfhgh2uQ4xHi40URWk+VLwobQ5fwIdfVnyLt2c9Z5YbHo26qcgbE6qHUo0RC8z4G+tc4L72zeM+G4gds42vJsWNbGHcRkuIh0W2B3fewJvB/UIVVpri6WgwPRsBO6Y7YZt/Y6feezcpLYqiKA2hhdBKm8PjcmNk+lgpqtgc2MyddUKqJxEvIYNGIPu7g1NEoRA6htvGT7vQAfiXyxEFAfera1s9NJieJsLjs/L00C7B/pwURVGaExUvShskCkmxKRjZdQezpBnn1iDaFYMx3XdEWnynUIiiKErzoeJFaZNwdOnd+uyPVK0ousWhYOyUkI7deu+vLYwURdks6JdFaZMw0+yW2BM79tpTBmxUthwedzS277GbCBhFUZTNgYoXpc3CUYzHG/HCui/qAdgy0OvSPamXES+76CjSiqJsNvSLrrRZWFzUPSkDBww8GnEejpOlxUebG17nvfodii6J3UMhiqIozY+KF6VNw/GRxvXcHQM7DpfeXpXNB71bQzqPxOhu4+FRr4uiKJsRFS9KmycuOgGHDToRXRN7hkKU5oaDLnZPzsBRw09DYnTtkbAVRVGaGxUvSpuH9TB6pfXFPv0PNRlrUihUaS5YPJfgScDBg/6F9MTuImQURVE2J/qVUdoFLDLaocfu2LXP/ohxa1f1zQWFYYw7DvsOOBJjuu2oFaMVRdki6JdGaTfEeuKwT7/DMSJ9rLSE0Q7sNp1odwy27TYee/Q5UJpI6zVVFGVLoOJFaTdIl/VxafjXNmdhcKcRKmA2kWhXNIZ2HoWjh50qPRoriqJsKVS8KO0KFmt0iO+ME0eeh16p/UJ9kaiAaSocMbp/h6E4fsS/dQgARVG2ODqqtNIu4WO/rngV3pj5NBblzoU/4AttURqCFXKHdh4pAjA9sYd4tBRFUbYkKl6UdkugKoDM4rV4d84LmJc1A96AN7RFiQSL2Nh/y6hu43DM8NPRMb6LVtBVFGWroOJFaddQwOSX5eC9uS9h1vppKPeVhbYoTuhtiXXHYnRXI1y2OQMpsWkqXBRF2WqoeFHaPRQwRRUFmLzsC/y4/CsUVxaaMH9oq8L6LclGrOzW5wDs2fcgJMWkaFGRoihbFRUvimKoMv9Y7+WPVZPxzeIPkVW6Dr6AV+rGtFeCxUTR6JrUEwcNOlaaRLNptKIoytZGxYuiOKAXJrt0PV7/5ykszp0r9WCqTFh7g0VCrN8yuNNITBh5HjolaP0WRVFaDipeFCUMvhIl3mL8seoHTFryMXLLskTUtBdYTNQpIV1G4x7bfRfExySKF0ZRFKWloOJFUSJgi5HWF682AuYT/LP+z1BdmLYrYmzdluFdtsU+/Q9D9+TeMqyCChdFUVoaKl4UpR4oVnx+LxbnzMdni97GqsKlqPCXt6l+YSha4jzx6Js2CIcNnYCeyf0Qw67+tZhIUZQWiooXRWkEFDEllUWYl/0Pflv5HZblL5Rm1RQx9NK0NihMPEa0xEcnol+Hwdg5Y18M6jgcCTFJWrdFUZQWj4oXRWkCFDFl3hIRMdPW/Iql+QtQVJEPH0WM2bapQoZ7N0chTaR4WPwTrIgbjeTYVBEt43rugYEdh4mIUdGiKEprQcWLomwEfG38VT5klazD76u+x5+rf0ZxZUF16yRubwkeGQoW9slCTwsHUkyN7YhxvXbHeCNa2EMuR4JWFEVpbah4UZRNgK+PFCl5i7CqYCnmZE0Xrwwr+lYLma0gYqyXJdodiy6JXTEifSyGdhqFHil9pJM5btOO5hRFaa2oeFGUZkD8LPTGBPwo85VgbdEKLM6bjxX5i5FZsgaFFfmo8JUHBQ3omQnutekEPStGisDtikZ8dAJSYzsYwdJdKuD2SRuAjKT+iI2OhYsth+iFMf8URVFaMypeFKWZsUKGHhkOM0DRwo7vVhUuw7L8BVLUVFhRgDJvsdSV8Rsb2tn9+I//g3+M0JD/oX9RLvGasIWQ2+VBQnQSUuM6oHtyBronZaB/hyHoGNcZ0Z4YI2jMPyNYXOJhUcGiKErbQcWLomwBgqIkIJ6ZSn+FNLdmxd8ybynKKspQEiiC14SzczwOS0A77kHB4jJCJTokVGLcsUjypCA2Jt6sJ4qnhc2cPa4YM7FPFi0OUhSl7aPiRVG2MtbTIvOakGqCUsT+NXP533wCJRAIBIuTQqJHhJaZnGGNgfuUl5cj2uOBJ3rzVQRmen2+YD87MTEbN9aS1+uF2+2Gy9X4Flbch8fmfh5zjhuLvb4WXmO/3y9pcd4DLnPuTCPtKisrERvLYsDN1zqM51lRUYEYcx/dYefKNPh4/Uw402CvSVOeldaAvU9t9fxaO9o2UlG2MhQi/DCyOCg4uYPFQqGJ63Yb7fivueDHOT8vTzIqLhN+rAvy80WI2LDGQPv//ve/mDd/fp372cygKfESux+hiHjooYfw119/yXpTYeY736SxpKSkSenIzs7GHXfcgTxzvTYFCq+CwgIUFxdLXLz2y5Ytw/r16yVtTBfvSYnZXlhUWH3ehPZXX301Vq9e3eRr2FgYL9NyzTXXIMuccziZmZm47PLLsWrVKhQWFmLWrFmS7paMfX6acs1on5WVhSVLlsiynZSWgYoXRWnHMCO98qqr8M0331RnQMw8L/jP/+Hbb79tdKbETIG2f/zxB3JyckKhG8KMmpkdhUBjYRoXLVpUnYnwODNmzMC6detCFo2H6eT53XbbbZgzZ06TMrPS0lL8/fffKCsrC4VsHGvXrsWZZ5yJiRMn4phjjsHixYvx8ssv47333hMB+Morr4g4eODBB3HvPfdVe5kIt//yyy9NFl5NgfHyXH/77TeZO7HbmIaioiL8888/uOmmm2R5c6WnOeB1473LN6K8sfA54z165pln5LmjYKTobew7oWxeVLwoSguDH0f+wuavX/4639yZQn5+nmTI9jic5+RkSxi9HBQaTM/y5cuxdOlSCbe/QFmEsWbNGixcuFBs7Ied20vLSsWe25i5MROm4KDn4IcffhCRQztnHDbMwrRwX3pann32Wcn4GQ9tmA6mafHiJZKhMoz2FSajWrlyJRYsWFArTYSeq8TERMlwhw8fXn1+zNQoIlasWCHpYTz2GDwHbuNyrfMrLTOCKriN94npKigokF/r3M51xs30Wxjv119/jUGDBss2pqFv374488wz8a9//Us8GdOmTsNhhx0m4uGQQw6WIgsnjINpobeGE4UMj5Wbm4tCc/yq0HXgcXk9uWxhumjDNNt7ye02Tp6/PR/a2n24LXita28bNWoU7rrrLiQnJ0s4z4n3mPeSy9aO141poQilCOAyvXt2u4XrOTm5cu/o2bHp4/nxfeD9ZBq4jfeJcDuvAc+HU/g7w2Mz7f8xgvynn36S68TjUEjzuaMgoTfJ+ZwQXvejjz4a5513HiqN7bvvvot77rlb0s/nRtm6uG82hJYVRWkB8KN60UUXmw/lvUhKSsLo0aM3W/0GfsT5UR4xYiSGDRsmH2we/+2338Z2Y7dDly5dcP7555tf2DPw1FNP4f3335cP/fbbby8ZynfffYfLLrsMH3/8CaZOnSqZxyGHHIKOHTuK2Ljn7nvw0ccfYebMmRg/fjxeeuklfPHFF5gy5U9z9Cpsu+22+Oqrr3D9f6/HBx98gB9/+hFDhw5F586dq8/5559/xuOPPy5xMOPac8898emnn4on5rVX/4d33n1HBNh2220nGdrHn3yC6669Dp988il+//13SSuvo42P53fNNdca4TDMnIMfF1xwPqZNm4bnn39erkW3bt3Qu3dvyfyffvpp3Hffffjs088k02Jmd8QRR0idl0ceeRgPPvggJn7wodm2SoQIM8cHHngAu+++u2S2V111lYiTjIwMOTZrM/EaHXzwwbJOz0uHDh3w3HPPSQY7cOBAJCQkYKeddpJruN9++9Wqb0Fx89prr4nYev75F/DOO+9IZjxkyBA89thj+NPcg5123lkyYsbJ+7PHHntUnzvTdKcRG08++SQmTvxQRN/YsWNFJLz++uu48cabzHX7xIiMhZKeE044QY7/1ltv4Saz7bPPPhfPGUXT8ccfL8/CLbfcgkMPPVS8d/fff59c91dfeRXff/+93POUlBQRM9dffz1efullfPnVl+LVW2WuJ7dbcUZBMG/ePNxww/V49dVX8dFHH8nzOXjwYBGFp556qnh6eF4ffvghunfvjn79+sm14LnzXnAfCjCKKl5HXjdei4cffhiTJ/9gntFpiImJxjbbbIMvv/xS0sTnbtKkSXKPevToUZ2egNnvc/Os8nr0Mtt4nvPmzhcPzr777ivPlLL1UM+LorQwKApWrVppPvgLTMaUV+tX5JbCZnbMUJjZVlRUSoZ39913i9jgNHfuXDz66GO48MILTYbyLHbbbTeT3uAvfe7DjJMejttvv128CBQe/CU7aNAgI3guxYknniiZGkXaiSediAcfehADBgww6/fU+mXLjGjXXXeVDJKZTVxcnMnU/HKdHn7kIVx33bUiOpiJ/26O85hJ02WXX4aHTHwUBvTaOIs/mD56B1iUUFFRbjK7lSLSnnjiCZx88slyjsyUv/nmW8kM6Vl49LFHUVJcIvswbZ999pl4j2699RaTYd8rmeqbb74posXr9UlGyvoxI0eOlPRbWG/pyCOPRP/+/XHQQQehZ8+ekh7xRJgMmqKN25kxU9hER3OAzNp1nCjQmKk/+ugjcq1+/PFHSefee+9tMuSvJC56PRi+1157Vd9LHucPI+bomaDAuuaaq/HGG2/IdaPQoCC4/fbb8MwzTyM9vaucK/dhxv7662/gjjvvwFNPPmGEXZ9qLwWvK0Ud15n+f/6ZiVNOOQWPP/G47MvrxPivvvoaubfPPPuMeN54360HhNC2rLxM7i/tKFBY5+a9994XQchzXrhwkYgV3icKyDtuv0MEJoU2089njQKD4oLilnESnj+9Wt2798CVV16BY489VooM+eyec845cqz99tvfiKYb5RzsfgEzZ72j9esz0atXL7kf48aPk+eDz5WydVHxoigtEH5A5SMa+pBuXoKtWixcZqZiMz3+guXHn56ZcePGGZGyu/xynjx5Mjp2TMMBBxwggoSZbtf0bpLZ8mNP79HqNasxc+YsyXz4C7lTp05ITU2VX7jMoJnpe802ih1mQBQkzNiYcRLGxSIJ7sepT58+kqFHR8dIBkZxQNHE1jcsUvj9jz9MhloimRPj43HpVWGG7YTnaEUB0zNhwgQ5P4okZv6M648/fpdj7LjjjuJVOe/88+TXNr0UFAu8blOmTMFPP/8scVHMcfull14iYoqeouOOO06KqZzQa8Nf93Yi9n7zmnM75zzPSPBcbXrpueD5815QJHXp0lkybp57fHy8eFWc4mc7s84iKXpPrICgN4deCNrS40NPx/HH/0vSzefg99//wJgx28q2IUOH4l/HHSvPBLHpthO9hBRw9GzwWtJ7EyyamYfDzXHtM7TjjjvVShfJygxWjj3jjDMkDfQY7bLLzuIZoThKS0sTTxDvBePIzskS8cJzpXeH94KeNj4v06dPl/QQXmOKwsTEJPGuUKjyeo0YMVyeXXqtTj75JJSUFEsRkhVUJBhDlVwLCpZOnTqiX/9+G93KTWk+VLwoSjuHH3t6Gtj8lR9uCgiKh7SUVMlgoj3R4u2wGRQzLtow0/OYbYThkvFGe2SZgoG/clm80LVrumSkFhsPJ9ZV6NCxg3giWLzCDJRFLZEyB+d+PJYtFuAyMyimnelOMWKEcVHoMGO/4oorNhAQxGZS3DchlD4KB/Hq+H0ieChG7DGtqOB+THdGRi85Bo/FIpSTTjpJ0sNzZZy8RrTlvs0J02DvB+HxeBzO6VV48YUX8eKLL4qI4L210IaVglkMxvRTQAbPNyAeB8ZJGC/Tz+MQikF7P2Sb2SdceFjsuXNf7kMvlb0G9GRQhHDd59uwzgjDuS/FmT033mNb74VijnHae84wxs97TlHC+8Dn6KijjhIPX6Q02ni93kqT1uDzwzB25Mjzt6I5EtbWxqFsXVS8KEo7hpnAmDFjxJOwfMUK8Y6wxRCLAwaZX7/8YOfl58kvc25jnQm2NKEo4K9+Vljlr3j+AmZFVBYhMBOaPXu2eGMuuOACqcPC7fzo2wwlKytbjsFf6hQJLA5g/Y709HT8+uuv1Rkn4T6c6BEpNr+O2YFfJLjPqNGj5PgjRozAgeZXdbzJkPiLPFKGw96K6yI2JlZ+kbO1CSuH5ppjs74OrwEzVBbR0Duz8847Y9999hHxx3NmMQNbMp199tmSBhZJUOQ1J8zMP/n4YxEc9GqwrhHTwUyf15AVpXOys2vVdSEUU/Q4sL4NhRavNTNrChh6MuhhoaeE8bIIifeM+9ML8ueff8o2ngvrtIR7suqDwoJ1iHj9WKTD+lHffTdJ7pOF95feEXrBeM2LzHFYaZdFRqxDxTSGLENzYoS1ETRMO59LPo+sD8UiQXrynASvQ0A8Tbx+O+20szwX9PzxnCZ9951cCz6rzmvmhMeiLa8Lr6WyddEKu4rSwmBRB8vxWfFw7732Fnd9XR/UTYWZBjOXGdNnSKbESpcUD+eee44cl5kUMxN+2FlURJHDX7dsgcFfuqwoy2a+zBTpZWE6WTeFlV4ZFzM9ZkDc/8ADDxSRwvoY7777jvz633///SUzoEeAdUi+++57kwHvW6uSMtNI8UEbZmjMpJjx0Ib1I/jrm2ljXKNGjhJRwcqn35v4WIzA4iwWV9j4mPFMmvSdyej2EI/Mr7/+gkNNBsllycgmTZLiHu7DisUfG6HAuAgzMBYlUfDx3HhtaM9zP/zwwzHDZIbr1wX7SGE6eR+7du0qFXF5HpHgubHPGhZL0PNE70NdMOO1zdopKJk2elD+85//SPopYFi/iPeOxUM1mX4wA+d9oMjkdWH6eS3oNeK1nDnzH6kAzHtpBRc9OSymoTDj9Wc9JgpP7sc6IJzTy0Y7tvCiwNzHiDkel5Vv+SxznUKO58giHtYhiY2Nk3RTbNg08tqyKJGVg3kcnh8rdJ9xxhlyvtz32GOPEe8ORQifKxYjsYiK58yK4Lw2bH124okT5Lrba85rSqFHUcbnZb999zWiPL/6WL/9+hsu+M8FUrnbXn+22lq8aJE8TxSF9MywwjKfPd4nCi1l66E97CpKC4OZOV3fbGVz26234dLLLq2VCTU3/ARQSLCJLz/szET5YaaLnl4HVmK988475ZcxMwNmMLbOA1vuUIzQi2J/ybNuAjMAeimYmTEu7peakoI4k/HQhk2eGQf34TGZGfEXP4/NVjbMyGzGw/TRhvsQZko8HtPHYh3+gmfaeVzuxzTZuhysJ8M4ef1sfLRnmllPgmG83lxmfLZuDtPMfcrMcdaaX/I8H8bF7dzm9rhFSGSbjJzn082kKd6cD68jiyBSTVqY4TIuj9k3zaShLnh+tGPaeU3qE6o8Ps+NGSnPgftSKNpiMQqIY489Dk8//ZQIrPC4mFbuR1HK+8n4upi5y6SR15TXkXF26tzJnHuZnDPPnedq+9WhfZmJh9eV15LXmXGVmnP3m3UWVfG6Mj7eC8bHSroUSQMHDkBlRSUuvOgiqdjLStv22aYdrxk9fZlG4PDesn4Kz9XeMx6H9jwPPi9MH8+Rx+J2OR+zD++nFSGE+3MfegZ5/+y95PPJa899+NyFPyc8b+7Hc2XaaM97zDpdFIrK1kPFi6K0MLa0eLE4PwX2A053PFtksFULi1GI3Wax+zGcy3Z7+KfFuZ9zHxLp2OGE7+PEeVzSUHzh9vVRX1z1pWlzYdMefmxmtu+9+y7e/+ADadbOzDgSzvMhzrQ747THsYQfrzFwHwpPNkOnl4gCk2KHHjg6/a34cOJMX/jx6zt2Y9IXblPXseqiMcdQtgwqXhSlhbG1xEsk+MuZxVds0mu9LUrLhJ9yFo3QQ8D75fQ8bG34HLFojemjgGExGj0rKgKUjaVu/6SiKO0eusZZ8VaFS8uHQoCihZVjW5JwIXyO6LljvzMszrJFS4qysah4URRFURSlVaHiRVEURVGUVoWKF0Vpw7D+A1tVsNKkoihKW0HFi6K0QSha2KSTXcBzHBv2j6J18xVFaSuoeFGUNgLFiRUtHKPl0UcflU687r//fukbRMWLoihtBW0qrSgtjKY2leYrzD4+WDTEflnYq+uTTzwpgyKyB1R2YMZh/dmFfH0doCmKEhm2jGILLm0h1XJQ8aIoLYymiheKFvafwbFj3nzzTRnXhaLFvtrsuZXdt7NXUEVRmg47/Dv33HOlp12lZaDiRVFaGE0RL3x9OVDijTfeKOPVsDMwemGc2F+N6nVRlKbDd4yjh3MMK/aho7QMVLwoSgujqZ4XjiL84+Qf8fDDD8vgdxws0efz1/K8cJBB9myqbm9FaRz8EcBxj2bOnCnihQOHcjBSpWWg4kVRWhgbU+eFFXU5UB29LxxHhiMDs+Iui5Q4Ci9HC95xxx1VvChKI+E7RW8LB4+kx0XFS8tCxYuitDCaKl6c8IPLX4sc5v+NN96QIiWGffjhh9hll1206EhRGgnrjX311Vc47LDDVLy0QPRLpihtCNZt4Ui9rKD76quvSSXe8ePHy9gy6nVRFKWtoOJFUdogFCrJyUk46KCD8N5772H06NEqXhRFaTOoeFGUNgyLiTgiND0viqIobQUVL4qiKIqitCpUvCiKoiiK0qpQ8aIoiqIoSqtCxYuiKIqiKK0KFS+KoiiKorQqVLwoiqIoitKqUPGiKIqiKEqrQsWLoiiKoiitChUviqIoiqK0KlS8KIqiKIrSqlDxoiiKoihKq0LFi6K0ALxeLxYvXoz58+dj0aJFKC4uRiAQQFZWFhYsWCDha9eulTBFUZT2jooXRWkBlJWV4ZJLLsE+++yD/fbbDzNmTIff78eTTz2JvfbaC/vuuy/eeOONkLWiKEr7RsWLorQAkpKScOyxx6KwsBC5ubkoL68QL0tJSQkyMzNFyFDYREVFhfZQFEVpv6h4UZQWAEUJPS6DBw+G2+0OhQbxeDw4/fTTMXDgQBUviqIoBhUvitICoCjp1q0bzjvvPPHCWBiekZGBM888EwkJCaFQRVGU9o2KF0VpIbhcLhx99NEYPXpUtYclKsqFo446Cj179pTtiqIoiooXRWlRpKam4oQTJiAxMVHESp8+vXHWWWchNjY2ZKEoiqKoeFGUFgTruxx++OHYdtttERMTgwkTJkhdF/W6KIqi1KBfREVpYXTp0gXnnHMOevToieOPP14q7CqKoig1qHhRlBYGxQqbRV911ZUYOnSoel0URVHC0K+iorQwWFm3e/fuOPvss6XoSFEURamNihdFaYFQwIT396IoiqIEUfGiKIqiKEqrQsWLorRIqsx/HYRRURQlEipeFKVFYURLwItARS58mT/IHFW+YLiiKIoiqHhRlBZCVZXf6JQy+LN/hXfuvfAueMLM7zPrvyNgwmG2K4qiKCpeFKUFUIUqeltKVsG76GlUzn8U/rzpRsgUm/lfqJh7P3yLnzPbV4qdemEURWnvqHhRlK1JVQB+bxn8az9H5T//hW/d1yJaagSKmftL4Vv7BSpm3WrsvjTby0PbFEVR2icqXhRlK1HlL4c/bwZ8c+5A5eKXUFWZLWImKFyCAzMG52aqqkJV+Rp4l7yIyrn3wp//T9ALY8IVRVHaGypeFGULU1XlQ6BsHXwr3kblvPuMgPlbvCtB4RKOwwNjtlf5SuHP+QOVs++Cb/lbCFRkAQFW6FUUpTlhz9ZpaWnYYYcdMGrUKMTHx4e2KC2BqCpDaFlRlM0JK+T6KxDInwHv0lcRKF1thEclN4QmQk8Ll63nJTychLa5YuFK6IXo/mfAlboNotxxZpP+HlGU5oBZY2VlJQoLC2XIjuTkZB1nrAWh4kVRNjf0mBiRUlW2Br6VE6U1UVW1p6Wu1y9cvETC2ERFISo6Fe7OO8LT4zBEJfQ2+iVawhVFUdoqKl4UZbNhXi0jUAKV+Qhk/wzvivdRVZ4ZDBc4d3pUiFnnK1ktPhppE+VBVGwnRPc5UYRMVHSKCaMXxtooiqK0HVS8KMpmoirgR1XhHHiXvQZ/wZxQEVEkrDgJFylOGmnjioY7dRtEDzgLUYn9gl4YRVGUNoaKF0VpVszrRG9L2Tr413wG3/rvUeXNl7ANRUd9QsTSVBuzHOVGVEwaPN32h9tMrvhuJkzrwiiK0nZQ8aIozQUr5HqDHcv5Vn2AQPFS6eo/KCyswAifO2lOG4MrBq6k/ojufTxcaSMQ5Ukym1TEKIrS+lHxoiibjHmFApXwF6+Cb9krCBTMclTIJSExUUtkhIuOxto410l98ZhlI1ai3Alwd94Jnt7HwRXf3YR5JFxRtirmEQ2Y7EdzoK0DvxRRrqhWW7dfxYuibDT8+tLbkg9/5g/wrfkKgbLVJphjEIXEQy1hYQn/WmysDbF2dW0nxibKDVdCBjw9DoKr826Iikk1Hy53cJuibAUqyv1YPr8MgUB9z66yuaBo6d43Dsmp0a1SwKh4UZSNoSpgNEo5AkUL4Fv5voxFVLtCbgNiQqANlyPZOm3qoqk2ZpkVetNGw9PneLiSBxsBE2uCrY2ibBmY7axeWo6ZfxQY/R/2/IYe1WrC10lLt4nE5jpWQzaRthviEtzYaf+OiE/0qHhRlHZBqPmzb+nL8Gf9JCNBB78QdX0xNnWZcD18eWNtzN/oFLjTd4en7ylwxaRWhyvKlsDv82PK9wXIXV8RudjI+ejWhbWpz1ZtItq4XFHoNywBQ7ZNluXWiIoXRWk0VUaolMCf+SN8qz9BoHQFarrmt6+R/RDU91o5PxZ12TVXPHURBTajjkrqJ53bsSjJ5aEXRuvCKJuXqkAVstZW4K+fzA8Ar3lu7aPrfOS5bOckko0lfD8nkfZz2jRXPJbG2G1pG2dYaD0m1oUd9uqAtM4xWudFUdouRrSwW/+ixfCtmohA3l9mvcwEO5s/my8AX6XqL4H9ajhfrxZoAxeiPPFwd9oBnl7HICqxD6LcMaFtitL8+LwBzPilAOtWlcsj2iKxr0t9tFIblztK6rqMHJcKT3RDO7RcVLwoSp2YV4MVcn2FUhnXt/ojVHkLTbCtkGvhB6Ch12hL2tRHHfvbHnp7HQFX1wPgik4wYazQqyjNB3Obonwvfv8mF5UVRvzzUbSPJOeRaIyNpaXbRNpnC9vExruww54dkNaFP1JaLypeFCUSMohiOQL5s+Fb9b6jh1znF6G+Vyf8KxIJ2tj4WoJN0AvjShkqXhhX2nBEuXSwR6X5YDHRvL+LsGx+SShE2ZLQEZveIxZjdk+Dx9O632sVL4pSiypUBXyoKlsH39rP4V/3Daq8RdXbImf+4cJgQxu+ZXzVfP7gVv5xmW+Hy3xNqkt2GhHPFrFh3zCeJHh6HAx394PFIxMlfcPQRqmLQCAgU5S5Tm73hl4r3n+73U7tCvN4FeZXYsp3+SgvpfdS2dJ4PFEYvkMKMgYktPrXWcWLoliYufgrUZXzG7xLXkCgItuEhXfr78jkBfsFqN/G76/C93/lYOLk9Yh2R6Fb51jsP64zhvVNRHyss7+VTT9W7XXSmLBINm644rogeuC5iOqwPVwerQtTFxQlS5cuxYoVK5CamorRo0dvIGDKy8sxdepUdOjQAYMHD0Z0dPsad4r9uSyeXYIFM4pEzFfD5YYeq5ZoQ+qz25I2pBHp7twtFtvtloKYOPNjpJWj/mBFMW89K+T6C2bBO/dOVM5/yAiXLBMcSbjYuV3m9oZt2JPoysxyrM2pwD7bd0LXDjG485XFuP2lxSgsYYulYDx+84H3GaHjt53zhuLhx95vAjk5P/zW3uSdIZxpcWLTYolkF24TMNchE5XzHoBv/v3w5882l4TDHSjh+Hw+vPzyyzjiiCNk+uWXXyTMwt+IeXl5OP3003H99dejrIzN69sXZSV+rF3uqKRr587HLvyx5DqnTbUhG2MTCWtTlx23h9vUd6y6bJoSD2kgHnp6WVE3OqZt1GVT8aK0bwI+BErXwbfiXVTOvRf+nD+lrsuGwsVJ6GtQL7W3G3lk/lShW6dY7LNDZ5y4fw/89/QBmL6wCFPnFcgHfdmaMrzx1Rrc//pSvP3NGqwzQoeZXkmZD99NzcGj7y7Hsx+txJylReLJycqvrLaf+ON6FJXWZJY11PfVs9Tz1TPXgc3DfVm/mutzT3DMpvJMky51+zvhfaqsrERJSQmysrLwyCMPo7i4WMItXKZooQfGGd4e4Olmrq5ASaHjGbWPnZPwMK5HCnPSGBuyMTYk/FZFsnHC7ZGO1VA8kdY3Nh6nTSiemDg3OqXHgEMCtAVUvCjtE/M15fhD/tw/TaZ8F7wr3kFVOb0t9uNqX/C6XvTQF0Go72PgsDH/WceF5c6x5tfPkN6JGL9NGib/nYe8Ii+ufWYBZi8tlvBJRqzc9tIiES5f/p4lXprOqTEiUC56cK54cT74YT1+nZmHAb0S8N536/D3/MLQseqjvrRawm3Ml9Bcl6qKLHiXvQ6vETGBvBnm+tnm4oqFRUEjRozApEnf4dtvvxVB48SKlnBR4/V6RfgUFBSgsLAQpaWltTw3rR02j163snzD3nTrojFm1qY+2+aw4evQ2uJx2hhYv6VXv3jEJ7adLF/Fi9K+ENFSiUDpcngXPYfK+Y8gULQQCFRwY9BG5nV9FSxOm7psHTYRTNzuKHRI9mBVZhmmzi1AvhEwlxzfF4fsmo5LTuiHX2YWiJh5xwiT3cd0RHrHGAw0QqXCZASzlxSjuMwv0XZOjTb79UGf7vHBiGvhSIMQISGNtaFQkeK12eKl8i15GYGS5eba2VZYCsXLhRdeiE6dOuHOO+/EypUrpT5MXXAbPTQTJ07EBedfgOOP/xdOOOEEXH75Ffj555/bhJeGyc9aU4mifCOA7ak4T4nL4ethmW+9NpwT53Zi18Ntwu0aE0+4DakrHictxCY+0Y2MQfFwuVW8KEorw7zFVX4EvAXwrzO/iGffBd/ar1BVmSfhteFbb+Hb71y3hIeZ9fCPR8T9DEyK+YqXVQQwf0UJBmUkYnV2BbqkxiAxziMVejulRCMlwSVFR6syyzFvWTE+/TkT303LxaiByUiMd+OwXbsY8RONR99ZjrtfW4pFq0prModax7bL9aW5sTaSeHPdcuFd/Qkq59wJ3/rvUOVlEUl4/zftD1bSHTp0KM4991wsXrwYb7/9tgiQSPAZoHC55557cMEFF2DGP9PRoUNHxMXF4dtvv8HJJ5+MN998cwPvTWuDXpflC0rhZb8ukR4zLoevO+eksTZO7D7hNuF2JNzGiV2PtF84tGnIbnPahL9+Zju9Ll16xCIu3tXqWxg5UfGitA8CRrgULULlzBtRufBxBEqWmhfdmdly7ly28G1vpI18GOqwCX00mGH5za/tisoAvvo9C9PmFuLgHbugf/d4KQoqKPFKBdy1uRUoKvGhX48E9OkWj4N37oK7LhiCO88bjD3GdET3TrH4+o9snHZwD7x8wyjsP64T3vpmLWoG6HUcO1J6LNUfs42wqfKZ67gClQuekEq9gWIOl9C+68Kw+bPH48Epp5yCvn374tlnnsXMmTPlvofDYqEff/wRjz/+OMaPH4+vvvoar776Kt566y18/PHHSEtLw/X/vR7Lli2r13vTkuFp5+d4UZBbKcsbEPZI1cvmtnGGN8amLuqzsdvCbZzrm2LjJLTN7XGhV/+25XUhKl6Uto35YrLPFu+yV1Ex69ZgEVG1pyXSm8+c2k6keWzs3z/nFuCSh+fitNv/wdvfrsPlJ/bFkD5JGDssFbuMSsPlj87DVU/Mw12vLMb5R/fGULPt3CMz8KYRJv99egGufnI+3vt+PeJjXUhLija286VuzPd/5WKfHTqh7rp4doPTIDzdG2kTqIQ/5w8jDG+Ad8Xb0lKrPVfopYBJT0/HHXfcYYSqX8QJ67CEU1RUhOeff0Ey9csvvxwdO3YU4cOip379+knxU3ZOlnhfKipYrNn64DhGq5eW1a1pIz1ydbG5bZzhm8vGrofbRNonko19HeuzsZhlelrYKV1yh+g25XUh2s+L0jZhKxlWyM2ZBt/Kd0ODKFZKeA18m/n4h8+dNI8NfzgvX1eGOUuLpcJuYpwb/XrESyXcmOjgb4j8Yi/+WVSEnIJK9O2egGFGuMQZkeL1BbBifTnmLS+WjHHMoBR07RiLskq/2K/LKUc3s77t4BQkmHgbk54Nw+qzaUw8nBvcsXAnDYK797Fwp42WHnurt7VhKC5uvPFGPPvss5g0aRLGjBkjFXDPOecc8a489dRTEjZu3DjpA4aCJD8/HwcffLDsz/ot7P/FdlxHT8uiRYuw4447Yo899sBLL70knpjWBHOWghx2SpeHykrzAoQ/Ospmx22+NWN37yDFRm1NvKjnRWlb0NPCQRTL10llXO+ChxEoXiwVTWuEC99i55tc11e1+WzYx0Lf7vE4YMfO2Hf7TthpZAf06ByH2JhgOTQzLXpSdh3dAYfv1hXbDkpGvBEi3EZx098InQN3TMeB4zuje2cjEIxGSYp3S2sl2o8fkebo7M6mozFpdi47iRQeHl+4jdnuL4e/cA688x4w1/4xBMoyTU7MvmHqSkvbJSEhAZdeeiliY2Nxww03YP369ebxrLkOLDbyen2Ij4+P2GEd92d4YWFRqyw2CnpdyuFtSLg05tFoiTYN2TWXTWMJi4ffjqQUDzp0bnteF6LiRWk7sDlvZR58rEj6z43wZ/0ifZQERQvfbPsG2y+G82232zgPt7M0xsYSbmPWzKrHza7jzeSy3cPX2HCV4bRxVZf/BG247jHahPs6P0RBe5eZ28p4kdJCgvEEcabZad+QjXM7qcOGXi9vEXxZP0pRkm/tl8EhFqQZurVr+7jMPWGz6TPPPBPLly8Xb4vfX1N+kpycLK2SKGrYN4xT2FCssMdeVujNyOgVUdy0ZHgqHHhxfX0jRzOck/ORCsfu25BNQ/GQ5rapy86Znobiakw8nOrDeTwH9PAO3CYR0bFtM5tX8aK0fqSIqAz+/FmonP8gfEtfCRYTVffZ0lQa+7WIhP2C1BeH06a+eOz2lmZTF2HxBLzSlLpy0bOonPcQ/AXzzH2yHQC2D9hy6LjjjkPv3r3x4gsvSlGRFSkpKSk49NBDJOydd96RDuzojeHEsOeff15EK4uWGE9rgkMBrF1RjtLieuo+8XHhVB8NbSeNiYdsKZvGpqchbDzhcYW/gnUcLzE1Gp26t+6Ro+tDxYvSuqFw8RXDu+Ql8yv/ZvhzppqgSJUb+XbzrXe+6RHe+EbZkMbYkE2JxxneFJtwnOFb2oYipgL+7F9ROesm6cm4yseBLsO/wG0TetdY+faWW26VejHsjM5CQXLaaadhyJAhuO+++/HEE09g3rx5mD59Om666SZ88MEH2GOPPXHwQQdJRd7WREVZAMvmbVhJudHYx6O+x6S92oReK6EOG5c7Ct0yYtvMUACRUPGitFKqRLT41n+PihnXwbfm8+CvejjrtUSCb3vwjff5OQpwpLe/xqZmHoSVaTNzK2Wsorpsaqjbhr++GQXnjCs4PpERYhJmzsL8sTbBfWXBMXdiv2aRtoWHN4/N+txy6RU4mD4ndcVjzsVbAu/K96VIT/qGkfu1QQStEooUFu2wfguLi5xQeOyxx+7Y/4D9q+ux0Ib7dOvWTSr57r33XnjooYdwkBEqRx5xpDSVnjDhRDzyyCOIN/sEixhbB6zrkpdViTKOHM3bG+mRCL/t4Tb2kXaedvg+Ddk0Jp66bMJpio2T8PVI8TTGJpwG4klMchvxEhcqSm6baGsjpdVRFTDioXgp/Eaw+LN+Npmg+YVXXRThfJzr+gpUydhAT01cge2HpmLc8DRxz9cmLB6+JuZL8OKnK7E6qwLXnjLAZEqhzUL4sezyhvFU+qqky//BGYlYmVmG7Qan4v3J69G3Wxz23K4TfpuVJ4crLfcjo2sctumfHNYEOhhP8FD2GHZuca7XY9OYeMJsuPrAG0ulx1+O0cQ6N42Px8yj3IjyJMDdZTd4ehyKqMQMRLlYp0MiaJVQeLI/ljVr1khrItZnccKiIPa2y7ovbBI9bNgwETH8/LIeTEF+PubMnStxMHzgwIEYZKYkE0/46NQtnfIyP2b8UoCstawkbwIauq2t0Ya00HTzFRuwTRIGjUyS1kZtFffNhtCyorRgzJtpBErAWwT/2i/hXfQ0AoVzpXVLjbfFScMv7frcSmSkx6FDislEzD96YcQbYw7FX7r8CPB7wIYe3tBozr/8k4eCYh/22K6DjFMUHNWZdqxwy9GfgyND2/0pksxaSHyY7ebvwpUluP3lxeicFoO3vl2Lg3bqYuL0opdJC1sQ3fu/JVIx94VPVmHnkR2MgImXuCw2PcHj8NhRIU8NJE1Mv5xDyN6OPM1jV5+XWTFRyPkGw4NTMNxpXxMevD7B6/TNnzmIi3FhjBFerDTc8OV22pgDiwBdgkDuFCNcYoC4bmZu1GBU63QG87qmpqYiIyNDvC9cd0JPC5s6s+5L165dRZAE7wUrY7ukxVGvXr2kgu/w4cPRo0cPCQv34rR0+JxkrqrAsgWlwd8TvAzyIHFrHWyqjQ3fEvFECg9fr8/GbtuMNtExURg6JhnxiR55d9sqKl6Ulg/rtQQqEMifCd/iZ6V7/ypvoQlnZUC+neFTODasxoYv9ZI1pehiBER0tAuf/pKF3AIvvp6SLeMJUdRIHyveKkxfWIiPfswU0UGvCzP9Pcd0lDGGfvgrB1//mY2V68vQvWMsSssD0o1/RyOIOPgixU5eYSW6d6px4dLrkt4hFtn5lRjUO1EECocBSDUfm9IKv/S0O3pQigiLE/btYdJn0hs6B/bMy75imN4Zi4rQKZXHcZl05KKo1C/ns2xdGX74Owe9jejh+EfsyZfbOQp1ry5x4mWiAOPgjxQhuSZ9PU04WywVl/nw/bRccx1ysCa73ITHItrtQrk57u+z8s1xM024yZzWlsnQBNsNoXiRpDkInWitOb+yThjG+kplRoTORpURMlExHRAVnWauE0WM3bf1YMVIuHCxWKESycZus1NdcTQnFNqsJEwipWlj8JtndsnsUhTl19TtqX4M6mNTbGx4pMw+Eg3FQzawCUUebrOBnaE+G7ts5rbQQ667DTdBwZ8NwXDaVG+3NsQuh4eZqVffBPToF9+mvS5ExYvSgjGvccCPqvI18K+aCO+y18yv9WUmOLzJLV9S57oTu21Dm/teX4oUIxhSEqJx7ZPzMWNxUAz8PCMPq4xIGWsy5mnzCnDLi4vQ1YiNTJP5U3hwAEQKjhc+XSW93XbrFIsfp+cZcVMqRUCvfbUGc5aVoHNaNG41++4yqoMRQ0HvCaf+PROkuIq96rI/l2iPC4+/t1zSxLAdt0mTPmE4Z/qYckKPCwdwZK+67BOG9W9e/HQ1xg9Pw5LVpVKUM26bVDz8zjKkmnPq3TUOD7y5DH8tKDTnFYPPfjYCrdgrxVVPfrBCBA3P98vfs5FthNuwvol47cs14g2imOE5zTJCidfhi9+yTLzL0adbAuaZc6PI225IipyHeF6qU8l5+L2xRLIx84DP3OO1COT9ZXK/ckTFdzdfJoo92jn3V5oTFmU9/fTTUpTFJtusQMxrHrzuG4G5lYX5PiyZWwJvZe13rSkww64KuW0amxYW21V4g2N7bY5itrLyUnkSXVEm7mZ4JH0+L0pKC8yPkTLz/jBOc64mvNJbjpKyQlRUlMHjiTHissicD+tIcWvDB44xP7iGb5+MhKSgZ68t0zp9tEq7oCrgDbZSmXmzVPSsqsxnaHBjNeEvqH3JbTjtI9uweIQfOxa5sCO4y07oh2tO6Y+rTu6PGQsLpefa179ai5MO6InrTuuP608fgJ2NEOHe9Jq8/vV6nH5wTxy3VzdceFwf/G32KSz14dpTB+D7v3Jw8UNzcNze3TB2KL0JNWlITvAgOTFavDNpyaz3ECzCYXFMgvn4pCZ5ZODFDim1mznS6/LhT5nYcUQazjykF848tJecw1/zC3Hgjp1FVJ191yypUHzS/j0wdV4h5hlB9fDFw+Tcbvn3ICmemmlEGj0zl0/oi3+Z9J24X3e89sVq8Th9/msWLjy2jzmnrjjniAx8/HOOhNPzdPmEfrjixL647ZxBGNInkd/bCITfn0iE25h1etcqcmR4AY4/xeIkjv7duPiUjYF1baZM+QNnn302DjnkEGndVFLMATY37przWVw+vxQVZY7m0U19HMyxi4rz8M2PbxnBUBIKNITHY9ad6SwpLcRzb/wXK1bNC4XUQVPTQ8z6xM+fwrxF08wiRVUwrMG46rHJylmN2x85GXc+eipmzfsd803cS1fOxV///IA7HjkFtz08AWvXLcUr79yJZSvnIMAPRCNI7RSNxFQWF0V8OdsUKl6UFga9LT4Eihagcvbd8C54FIGyNSaYL6/9GoR/EbgeFCRNs6kh2hNlxIJ56c0vnLhYtxSTFJT4sD6vQgZN5C8fCpw+XVnsYj6W5X4pYvnUZPaPvbccb3y9RrwltKHHZduBKViX68VO26RJ53IbpofY9Bhks2O9mpow1nNZub4cs5YUm2MukwrHLN6i9yQx3oMT9u0uxTn09LDOzFojvtJNWuLjgmXfg3sniohhunMLfVKnhh6fb6fmYIdhqSg055tb5MUHk9fJOb33/VqT/mTJJCp8AQzslSDXgdeH3hvWr6nBnp9Nr93mvNaRbJx2nAWkj57KeQ/COz/YOzKfh4ZgGpkZsymyTo2b6HmhYObyrFmzZCTsgw4+WPqXYad5vJ6NFTI0KzHPVObqcvEQ1rrVFnuLjbGdqjGLNszrq0Rhca6Jx9x3G85/IXvOl6yYje9+fleW6XX55sc30bVTX/TsPpAGwX0oiEP7CI5FoXp9Q/vges0ORSV5KKsoketVHe54dGvZcybLJiwUd9CmJn6eo8cdh/87/WEMHzIOpWVFKK8oxbYjdsO/T7rL2AWLDnff8Ui8+eF9yCvMkv3qg8VEfYckmHidF73toq2NlBYDB/OrqsiFf/238K35THrLDY7oVt+vDr6oDT3CEb6ghrPunIlDdk7HqIHJuPD+2bjvoqEY0T8Fs5cW4Zon5+Pu8wfj/jeWiRg45aAeUp/likfnSkVbeiVOve0f3HTmQMn4i0t9mL6oSIpwlq4txR0vL5Zu/BONcPjv6QNEYNTg+OoZKJQue2Quxg1PxUkH9JBipEjnVV4RkEEYuf3/ju1tLKLEgzKsb5J4ai57dB56dIrF/BUlePaaEVJX55XP1+Dxy4dJXZjpC4vwwQ/rcMD4zlJkdu9/hkglYVZcZv2ZIUbc3PDcQiNw+mK0uSb5xT5p+bTd4BRz3MU43oij/c2+9N6cfvtMHLpLF3MdeovwC1L7vCLTBBuXB67YLnD3OBSernshKrZjzbYwOI7Q/fffj5ycnFCI0hAUJ99++62MoUQBwMySRS4sPtp+7FicfMopOOCAA6Q5d0P9zDBTXzSzBItmF5tXNnRvOXPcroLCHCxePtM8L7HIyl2JDqndMGzgWPODwY2FS6YjJiYOhUW5GNB3JOYv+gsjhu6I3Pz14onJzV8j6R05bFezfww+/vp5zJ7/O4477GL07TUUdz1xBs4+4Xb06z0c8xf/LWKd3g0ea9Q2uyIuJh6Llv6DHt36Iy21M3Jy1yK/MBs9zfri5bOkGCc3fy2SEzsivUsGVqyeZ5IfwDaDdzLpTMfTr12HfhnDkZjAumgVGNxvrImrn6Rp5ZqFYh8THYfB/cegU4duWGDOh4ng+Qzqty0ys1di5dr5SIhLMeewM7Jz1+C512/AlRc8jZSkjlhi0sDz79G1n2y776lzccm/H0NaShfc/fhZOPqg/2DMyD3lHoVfV8Lgjumx2H7PNETHtA+fhIoXpcUQMMLFO/8h6SkXflYk5KNpH0++rZEeVWd4Y21IFc6/bzYO3LELRg1IxsUPzsE9/zdEhMC85SW47ukFePjioSIEbn5hEY7dq6tk8pP/zsXe23fC1ScPwDMfLscvM/NlvCHWd+EAilee1F+EyJF7dMUuIzvgPHMMFu8cs1c3R8XW2ulhxd+rHp+H7YelBCvoihjYMM1+k8FMnVOAy43tQSbdFCwf/bTeiJChUpl25pJi3HnuIPGmZBV4ccWEvlLnhR4VeoC+mZqDg3fqjKNM2p54fwX+WVyE/cd1lno0HNDxBiOy3vhmrdRvOXz3dKkYXFTixz0XDMEnv2Ti5c9WiYBZuKpU6gX9+/BeOOuwjDDx4rz+4eukiTZsVu1OgLvjGEQPvhhR0bWbIFvy8vKw6667YNmyYN0hpWH46afXJdzDwgySYoX1YPbdd1888MADMkp2XXDX8lI/fv8mR3rUFSepvYWch5i3aCoef/FyIzZGYNCAbTF1xrfYfcejsP3offDYC5ejpCwXe+50PIYN2gGPvHARrv2/F/DLlE8x6Ze3sPPYw4zgWWXSGsCJR12BiV8+aeKbgiMPuMAIEPMu/u9aXGPsE+NT8OAzF6KoLBPjRh+KWfN+xbgx+2OnsQfhmdeuxxEHnIMhA7fDP3N/wdTp3+Kog87Hs/+70QikXIzeZjf8OeMLqTA9bODORnjkiNA56eir8fSr12LB0mkYP+Yg8ZosWDoFF53xKIpLCvDCWzdh5NBdRWSVlxfj7JNuw0tv3YZlq2Zi9PA9sesOh+Gp167GDqMPMCLtb+y963HoagTSC2/cLOIlOakDJn7xlBEqnbHHTkeLsLr3aSNezn4MPdL74sW3bkWXzj1x2H5nmbSF6vPYaxu6bfS6DN8+Bb0HsU+gYFhbR8WL0mKQARWLF8K34n0E8qcHOzGTL2HYmxrpy1inDbF2dj0IWwKxHxVWfmUGPmZwijSbziv0iidi+6Ep8iGjB2Ouycg7d4hBF7buiXWLZ6Kswi/7LV1TZn49eTBuWJr59RWFvxcUygCLCcaOy15flXhVWJQTpHZ62PyYFYPZemdAL5NR16qcVzvN9NIsWlkiXhTW1WGaWXTE0aX79UhAT7O8Nqsc08xxdxmRBq+J+/fZ+dKSqk+3eKkvw1ZU+UVeTDFCiK2n0s157WTCee4lJhP6a0EBlphzYt2bXUZ0QJeOMSZj8UsaGU5vTUKcS1pMDcqoP721acjGbifGRoRLPFwdx8LT6xi4UwaasMgeAHpebr31VmRnZ4dClIagaOGI1+xbhtkARQufdzb1HjlyJE455RQZmoBNuOsbW4lel2XzSzHvr0KzbAJ4e8NuJddnz/8Dr71/Fy6jRyE13QiIn/Hup4/ggtPuw6vv3omD9z5VPCvrspbj/qfOxbUXvoRf/vxUvC+nHHsN1q1fhkdfuhRXXfAsFiz622z7zGT+T2DmvN8x8atHccU5z8Lj9uCBZy7CztsfJMJowZJp+OG3D3D84ZfiOSNSjjjwXAwfvAP+njVZxNNRB56PF968FbuNPww7bLsfPvrqGRQY0XL84ZfIcZ83AuO/F71obG5GeudeOHif00W8vPjmLUaw7Izlq+ai0luJ7UbuacIr8P5nj+Pisx8x8TyLvhnDsf8eE4wYWWfE2CU40hwrxQiVjmldxZZxWPHy7iePokNaOvba+Vjk5q0T8XIpxUu3fiau51FWXoR/HXax+YaEnn/7CpnrSrESn+DGzgd2QpyZtxdUvCgtC5YL+zio3y/wr/xARodma5Tg2+p8VPl1DH0Va9F4m+onX8zMn+B/s9VsMP/tL5gqs41CQfLokEXQfSuWEk/Nr53gQlQUtwSbOgbX5a+ZguG1Ybm4mZngYJsDp41dDsZDmJ6aeLmTWWb6jU1NmoPzUDJlEtPQdlI7nBu4UzBuid+ESb0WWebMNt2U3SUsuFhjE/wTjCc4tzTWJjiDKxquhF7w9Dwc7vTdjWZJDG2IDNPl8/lkrjQODlfAyrqsqMvrxuIidp43YcIEHHvssdLXjO2Ppj44AOOf3+chP7tSbnEt7LqJguJl4hdP4rJzn0B8bAJWrFlohMYFuOjMh/DhF89gwlGXS2a9au0i3PfUOSJefpv6uRQTHbrfWVIMdNdjZ+CK856Wop5fRbw8hZlzf8U7nz6Aqy943oiXaDz83KU4ZN8zMHqbXbF0xWx8bDJ/xk1Px+EH/BvbDB6Hv2b9YMTLJBx98AV45e07cch+Z2DowLH44rtXUF5RJl6OHCMinnz5apOO5/DSO7dj2212w7ht9zc/Nrx49+NHkZiYhHkL/4In2o0unbvLNaQn66C9zsSHXz6NXccdjm2H72Z+cJSKB2nOwt9FEO0+/mj0yRhqjnt7ZPGSb8SLEW8UL9279pO4KJiOPeT/asSLA/4oGjgiCQNHshJ9/feqLaEVdpWWRZQLUdGp8HQ/CLHb3g0PMy53+KB0fEHtV5Fz52RxvsSRbfiiyyTLJlMObQ+u04LQxnwgzJvCudjJNmMr6+YlMqomGJfdbo8RtA3ay58QNh12CtoEU2Kp2VYzD0JbVhrmFEx3aO7Y3aYnuGxtg+sW2tSE1xwraE/hEgoKzXkMay9TMDhI9UrkNAuNsjHp9iTA03UfRI+8E+7uB5j1JG4Ibq8Dngu9AzExMTo1cuL1cpsHm0VE/fr1w3333YevvvoKl1xyiXSmx3Be1/qg14VDARTkRBoqwlBr9yoRBPQsMDNeuXoBOnZgE20jTHnf6zxUzQbnIQIBvxGslUhL7YKS0iJpnRTc7oyIy6zL45E6KSzaqfRWSAseekwstd+9DfH7fSK+SsuKUWam5Wtmo1vnfujXZwR69xhmhMVlOPrAi5CW3B2x0ewWgecT/KKsy1xhznst/n3SHThkn7Pw18zJUjm3TkInyRkr+S5eNgupKR1MfObls9gLYeb0tmQMtF0LtB8cV0NRWg7y8sd0RPSg/0P08Ovg7jDGPK1sOhz+ggY/TrUni33DbVh9NpaWaBM+b4xNOBtr01zpaejczdzcX3faCMSMuMnc9/PhjmUT8/bjBt/S0KsyatRoPPXUU5g0aRLOPPNM6QWYRUeNxVsRwNK5pSJi6sTeYlmowhsTH8AjL1yMn6d+iJOOvE4qrNIT42YPywZ6T1gxNtodg4T4JMTGxku4y2TeSYlJRlRFI6P7QBSWrMeLb9+KlOSOSE1Ox+q1i+W7EW/EUEx0rOzDYiTGwbC9dj0Gn377PB5+/kIsWPKXCQsek+KJcTLvT4hPRpw5HuOh4GEdGoqG5MQ0FBZl49nXr5P6NX16DsfoEbthv90niDB56pUr8fRr10hl3tSUTkgy6eexGQ/F1brM5Xj8pUvx9Y+vYcexB5rzTTJXouaayXFjgse1nl/+ycvPRGbOMvTvPap2677QIl+PTt2MGI1tf++JFhspLRzzeAZ80vLIt36S9K4bKFtrgm1fEnx8gx/FGpzrdrk924TTWBvCbZvZJsoDV0JPeLodAHfXPQH2sisVE+2+yuaALYxKS0vFC0MvS1NEC2HOkb22AtN+NO+mN9K9r40tNjr35DtRWl4kooXCg1lQcWmBCIXo6Bh4vZVS7yQ1uZN04kbvA4tWWCyYX5hpxEFn82REmeUssU3vnCFFQH/P/h7HH3apCIC42EQjShJQWVlujlUs4oPnm5WzCv6AX+KjXUJcsnQWFxeXJKKFFXApVhLiE+E3xysozpE6KgVFuXJM9ifDZ7iDCYszgotpo8cnryDTXD+3tExieEFhtoiiWCNIAsamxMTL1k0UVWyNtDZzGR578XIcsf+5GDZoe3PesdIyik2yZ837DR9+9TSuPP9pzFkwRer6HHf4RSJwwolPdGPbXdLQKd38sGtnr4uKF6V1YD4A7Fk3ULIM3mVvhir0lgW/oEGD0Nz5BoeHOR/1usKC66xEy6bJbEnD7vdrqLEJsmE8TBIHVSTcl+v80VS7/4WG4+GYSYXFXvMR99RTKbbheOqzYajXG5BzZYsjT1izZ37w2T8W01+rKEmoiWfDY1jqsWERIVsSddoB7ozj4TYCRrxrzl+YSouFz83sKYVYvZQCIxQYjr3thqUr5uDrya/hjBNuNu9VcCBOCgja8EmU5RCyzh1NxMEozLKs1tgFsy6uu1BeXorfpn0hzZJ7du9fbR8klAgeR17G6hjNLOjpiGKdMZowfi7IxtA6beRYNYT2DtqZbXarM2323GpsQsc14fkFWfj2p3ekOIqemN49B5ktLixbNRe///WVed/d2HuX46RV1NiReyEpKVXEkRNG32tAArbZPhme6PZXiKLiRWldGBET8BYikP0HfGs+NmJmuclhHeOoVH9GnMjXIzQnG9rwLaDrm1s4xk9hqRe3v7RI+nMZlMHKohYbB4l0rKDoeOOr1ViRWY5Lj+8rnb4N6JGInUelhSxIMB6+ftXHNeLGmcL8Qi8ueWSu9JDLnnhD38UwGk5PuA09/FX8Y4LpimaPu3e+uhiPX7aN9GFj4+Ggkss5TtJfuSazcWGvsR1l2IDgB7oxxyKR7MyHln24JPaDJ+MouDtsF2wCrUVErQa+L7mZlfjrxzxUlLOJURi87WGPAr0gbGUTH5cc9PJEsNmAxtgYgu+RX57N8Ey+0dhHdVPT1Ih45EeBES5881m8ZIcd4DkwnCsMp52rjkrTbB693W5pSO9ZM25ae6L9yTWldWN+Zbli0uDutg9ihl8NDyt0xnSQ8Pqxb7f9stSGnhYOUsiMmgMi+nxVWJ9TKU2EuU1Gh5Zd+YcCIDjCMqdguCX4K4091WbmVgRtTFzsA4Z2FCoUN8GhCYL7f/ZrFv6YnR88RigWLrD/l+XrysWG8Ji04UTtYY/FONkHDO0Yr4XHo9eE58PtnBhWaeKdOHk91mZzkMkqGQxylRFa5ZU81+Bo1Yxm6doyXHD/HOnX5afpubj8sXkoKg0fV8oJrzG3OScnZnuUR+5XdM/D5P650/cw60bUqXBpVVD8rl1RbgRJBOFC7KPggJ2wJSbQgxB6VyPYbIB9bRuAmTvrqGy0cCE8VmOO15BNI+LhNWARGYuRJM0hey5LEZLZFmVs3PVUmu7QOUaGA2iPwoWoeFFaJVH85Z6QgZiB5yF2xI1wJQ82gfX1Amoz0w3fdGbo2QWV0vvs29+ulX5dyk2GTrGQmVeJb42o+WVmnhQF0ZYiYZ3J+Bn+0/Q86XGWtjXULLO4h+MhsWt92nDE6C9+y8RvJj72yrs2uxz/+2oN3vt+HWYvKRZhYnFW0GP0HLOIneRRYGWbdFG4cAiDWUuKZLDEj3/KlDiYPtpTpLB/GhvOKdecJ+2f+3iliKYV64Iuf4oVjrL99R/ZmLGwSPadt6wYO49IkzGdzj4iA4tXV6DIHC9IY76YYTauaKmQG7vNdfD0P1uaQmuF3NZJRbkPWWsqpDR3A2oe4bqhTUN21qYuOxveDm3opR0wIlH6nGqv6KjSSivGZI70uMR0grvzeLhiUmV0YqkLU43NQCNltjVhq9aXi4DgwIosouE4QB9MzsSvRmSw3svHP2dJb7vsiG7KnHxc/eQCESbsHO69H9Zj99Edpc4IfyUFzAf9z7kFyCvyYo/tOuGhN5ah3IiB9LQYXPTQXOm8jmMi0fPRMSUGn/6SJR3ecXTqoX0S5cNEKJbeNWni4IlrjMi5+sn5KCrzi+B4+YvVMur0aiOG/u+BeZi/slh+gT32/kr0ML/IMrrG49kPV+IVY8dO6Thy9BPvrcC2g1OwOqscP83IQ2y0C906x8LjdskAlBxssqwigJc+XSUd1u0/rosUdTHs6Q9XGAEWj4N2SpfrsSGRwiwuRMV1Q0y/k+HpcyJciRnyq7L+fZSWCkXz4jmlyLbixd5GZ0bLMGd4W7Rx0hgbJ04b57Gc1BNPWqcY9B+e0C7ruljU86K0cqJMRuiGK7Yj3D0PR/Swq+FhUYT0DcLHu76vSvCrwUy/d7d4bDskBeNlfKGekrFzkMWTD+qJi47ri7MP74XfZuWLIHn3+/Xo3zMe+4/vhCN37yrFQ/Rm0IMRDj/0LP5hT7e5hV4RJOON6Pi/Y3pj7NAUGZ15m/5J2GNMRxy+W1epWxIOi3Ge/3gVOqXG4OCdusiQBiyK+uqPbPGQpCS6cOWJ/XD+0b2x55gORnDli5dm0tQc/N+xfXDhsX1x/WkDkJxgxJWJj8Mb9OseL1397zyCrS5gzjcKl57QD5cc39ekIx1/zilAtDl/9gNCMcMKvVdM6Ic4qbzsvIbErMvJO7/CZs4KuZ5keLrth9htroW72wFGYLKIj78Ww+NQWgvlpQGsWVZeM4aRhbfUTpbwd2JTbJzrLcHGSSSbSDQUD2kgHlac79YnDp4I34r2hIoXpY1gRIg7Fu6UIYge9B/EDL1MfuFL6xWBXwk7WWq+EHQEREuHXS4jIMwW84GIj4nCcCMu6FHp0TlOyvcpRFZmlmHq3ELc/eoSPPTmUrD7/1KTuQdjDj+GpUq676fn45YXF+H2lxcjKz9Y9ENPBlsicR6pfJvFQLOWFmHavOAx735tidTFqQjVN6BHh16beCMsOAAj66UUlHglzgE9ExAf60J6xxj07RFvTswcy5ybnGvomIRDAXRJi5Zz7dUlToqjWK/Ba47x14JCnHFIT3RMteXrEc6vOtncZlbMdXcl9kHM4AvhGXgeXMmD5P5Q0CitF2pUNo+uMM9fpKd8AzZ8nDeksTZ1HdCG12djaUo8kezqs7HL4WH12TCe8DSF21jMOt+/uAQXevaLl29Ue0a/JErbwvyqj4pOgqvTOMRscyM8vY6SHnuD9WHsl8L50td8RfhhkMq6fhNqdAGFBH/l0JzbaMnV9LRYGajx4UuHm2kYLp/QDyP7J4UydlK9YKhZZn2X3UZ1wJNXDMfJB/TA29+uQ2FJsEk1BUqwrkr4FytYb4bi6dBdu8gxH7tsGK46uR923zbYV0VwMoZ2bkhJ9Ii4mbOsWLw9S1aXYc6S4tAHMAp+cxw5ZqjOgpxmdTzBMMEscwDGvt3DxzByzmuuYbBCbhqiex+LmBE3w9VlV7ii2YOqelvaAhSzyxeU1nhdGnNLN7eNM7w544lkV5+NXW6qDWmkDd/RXv3jEWN+WNl3vb2i4kVpg5gXm2PjJPZCdL+Tg61aOow2KiDoeQhmtnZOokzGDPTsHIu/5hfiy9+ypOUNq55Ifk0Lsx89FjExbhy0U2epNPvNlGwpunn245UyYKLzW8KM3vaLEpxHSREPK8r+MSdfWvd0TouW4ho2P2ZRz3dTc0Q8BdMWTCq9I+x75dSDekqTZlb2/eHvXDz94UoUm1+/PA7TLsLD7MPjMIyDPB5o0snRo+94ZTEeeHOpVMolrFNDD83bk9Zi2twC2U+aaQcPG4yDJ2/+0zv07EersGyt7c7cXjN7DQltWURkBE6HMeZ6XwtP7xPgiu9uguurRK20Jijoc9ZVoqiAY0iFApUtSrQRLd0y4tq914VohV2lDcMM2QNXXHe4Ou0MV3SCdHIHjlYd2m6hwGCLIHorWOwyamAK4mLdGNY3CYnxwRr98XEubDcoVSrVMpxigpVZzz0y2BeMrWjLeFkM1bNzvIwSzWIbFhlt0y8ZPYxA4ojVrE9zxqG90MMIl5EDkpFf7JVKuyMHsFvxoJBg/sDRm0f2Tzb7x2NYnyRpMcR6N/TcjB+eJsdMSvRgaG92cR4UOj07x8lo2RxIcd8dOqFXejwOGNdZ6rEctFMXc8x4qbPDPlw4ovZAk3bWpxltzjnG7C9l6h1jMcCkmenwGkHFbSmJ4SMLh86XwiWmkwhFT78zpbM5FS1tD58vgEUzi1GUH2px5tSvddEabRpLc8XVyHS7zLvetVcc+gwy76WKF+2kTmknmMe8KlCJQOkq+Fd9AH/Wz6gSEWMf/2CfKSxKYYZd3UxZlmV3aerM8VW4D70Y0qeK+U8BQRu7C3di3yuyFNqXhvSOBPtkCYbTQ8LouJ1NpKvDQvFIuLGlZ4XpYCsm6dDObBDPjjmubarKfThJksxEL89lj8wVj9CYISmYubBI6sE8e80IpBrBEow7dK4mLq4HzyE4gjbru/C85JhmndeDdrUxafXEw91lN3gyjkFUfI+QaAm3U1o7fD5ysyox9fs8KTpqEGPf4GPQXDbNRXMdazPFwwEYx+6ehg5dbD2+9o2KF6UdYR51k9tX+Uvhz54C3+qPECheYnJn20Ov/VrU9Uo4v0ibalPXNsum2VDkrM6qwPd/5UgT6A4pMdhzTEf07hrn8BBZNuJYHEQxZSjcPQ6Bq+M4uDxxxkT7bGmrULDMmVqElYtDxYd8FMIfo3Cay0aRHxndesdj9E4p7bp5tBMVL0o7hJ4FDvZYCN/Kt4NemMoCE2xFTFhGXY0z3H5xw+22lg2pvW69PJzz48eWVEGPUtPiCcIwztzSQ66n655w9zoarugUI2TU29KWYQ5RmFeJKZPyUFFmHij7eNR1y+22hmwsm9uGWLvWYMNtDHfYxMS6MHJ8qhEw7XMogEioeFHaMUbE+MsRKFwA/+qP4Mv9K1QfxukWt18R5xcj/JVpjI0Ta7clbBrCpr0+jA3Lt1yx8HTcHu6Mo+BKGmCCOIii/gps67BIc/HsEiz8pyhYTGkfO8JHxz5CzrkTZ5h91BpjQ5x2W9LGSQuw6dI9FmN2TUVMnHo3LSpelHZPVZUf8BbCnzkZvtWfIlC21gQ6x/DhV4TL4V+c8C9NI2z4um3w0ylSPMQZ59ayMeIkyg1XYm94ehwMV5fd4YpJMeG0U9oDhfleqetSWmTeE+dtdz46ddESbBhuw1qCjZNG2LCu2agdU9CzHyvqhgIVFS+KUk3AL8LFt+JN+LN/MfrFMcyAiI7Q8gaEf60iEbKpNx5iNjbGpt5jkeawiTK6JQHurnvB0/tYuOK6miD95dee4KO4aHYxFs4oksrbWxU+qpHeC2d4c9mQSHabamOXm2CTkhaN7ffqgIQkffecqHhRFCdSobcM/vwZRsS8h0DhfBNm68JYIn11wl+jLW3j3Gb3cdo10YZNzFOGIrrviWY+RESM/uxrf7Ci7p/f5yE3szIUomxJ6KQdvn0Keg8yPyI2qGjfvlHxoigbEKrQW5ED/7qv4Vv3jVnONsHsDddm8Bbnul1uLptwmtOGcFuYPSvkxnaGp8dBcKfvBVdsJ62Q205hzrB6aRlmTSmAzxvpOWoh2Me4Phpj0wJJTHZjx/06Ii7BoxV1w1Dxoih1QS9MqG8Y39JXEMifadYrTHiwS/8g9ovifI0YFr5OWrBNlEu8K6600YjuOwFRCX1CFXKtrdLeqKwI4M/vcpGf4xUhswEMa+jx2JI2W5rmSlMd8fDV6z88CYNHJcEdGoNMqUHFi6I0QHWF3uxf4Fv5AQLlmUCAFXrrqgTg/NDU9Xq1FBuzzWV+1cWmI7rPBLg7jUNUdLIJ1vL19k7m6nL8/XPBhp3S8RHiI2XnkWguG0tjbDaV5jpGM8UTG+fC+H07IjnNDoiqOFHxoiiNxQgW8cKsmgh/1i+o8nOgw3ABw6+M/XrV9Wo1xaY+NsXGhNPb4jG/6tJ3h6fHoYhK6GWCwocAUNojbB4947cCrFteLv0EbQCD+GjVR2NslIiwelnPvvEYOT4Fbo/WNYuEihdFaRLsG8aLQMEseBc/FxwraYNiJPtK2S93+Cu2OWxI+Dqpw8YVA1diH0T3Ox2uDmPMx5KeFnscpT3DHKEgpxJ/TIowFAAfJftI1fW4hD9ukdiSNsTatRIbT3QUtt8jDZ26xYJDdigbouJFUZoMK/T6UVWZj0DmJHhXfogqb54Jdr5Kdb1W4R+ihuzqez0bYxMGvS3RHRCdcQzc3fYxX8kUE8RfdvqBVILQ6zL7z0KsXFQa+ZF2PioM43r43IkzLFIcZGNtiNOuMTZOWqANvS6du8diu93SEB2jXpe6UPGiKBuLVOj1oqp4EXyrP4Y/d5oRMcXcENwuhH+xuB7+5YpkQ5z2YTZ8bSWaemxqrVO0JMPdaQe4ex4GV2J/85GMNmb6cVRqU1nhl3GMykr8tR8hS/ijZXE+ihZrF2mfhsKaKx5LeNwbG4+TuraHh0daJzbMsZ2Vc/sNSzQCJka9LvWg4kVRNpUqPwK+MgSyfpT6MNJDbyBSvxjmQ1QtOuqiGW3ka2jmRqS4EjLgyTga7s47I8qtgygqdcNHy+fd2j3StV8oWOgM5ajxSt2oeFGUZoFFSV5Ula2T0ar9mT+iyldiglkfJiQiqn9mWZwfp81gE+Ux/xPh6X4g3N32Q1R8D2jdFkVR2gIqXhSlOakKIOCvRFXeVCNiPoG/YI4J85qJr5lDWGyAM3xTbaKkSMiVNgqenofC1WE7s659tiiK0nZQ8aIom4Uqo1mK4Fv7JXyrPkZVJXvodbriw8WHFRbhYU20YYXcmM6I7n2cjEnEptBar0VRlLaGihdF2VywQm+VF1UlK42A+QC+zJ+BQHlooxUipK5XsCk2HEQxNthnS8ZxiIrvjqgojwl2xqEoitI2UPGiKJsV83qxQq+3BIFcFiV9hEDRYhPGHnpD2yMS5lGJSEiYsIgoeRCiex2BqA7bweVJNJvobVHhoihK20TFi6JsCfiaBbwIVGTBv/pj+DJ/QJW30ITboqTw19ApXqwICbPhIIrRafB03QfuXofBFdPRCBkdRFFRlLaPihdF2ZKY163KX4pA0QL4lr8Ff8FcE1ZppkjDDJAIryfrtbCH3NRt4Ol7MlyJfY2OiZdwRVGU9oCKF0XZGrBVUmUe/Jnfw7f6U1RxsMfqYQacHhcuO+YuD1xx3eDpcQjcXfcUz4uKFkVR2hsqXhRlK1IV8KGqbCW8S1+HP/dPwM8KvZFeSVbITYS7y87w9DkBrvgeKloURWm3qHhRlK2Kef1YlOQrRSDvL1QufcWImbUmzFbojTL/3XAlZiC632lwpY3WIiJFUdo9Kl4UpUXAHnp9qGKFXvYNs+5bGfgxKqYjPN33h7vrPoiKSzeaRSvkKoqiqHhRlJYE+4YJVCBQtMiImM+lbktU0kAjWthDrnpbFEVRiIoXRWmJVPmNiPGqaFEURYmAihdFURRFUVoV+pNOURRFUZRWhYoXRWmBBAIB+Hw++P227xdFURTFouJFUVoYFCxffvklzj77bDz00EMqYBRFUcJQ8aIoLQxWQ5s/fz7eeecdTJ48WbwwiqIoSg0qXhSlhUHxQm+L1+uVoiOtU68oilIbFS+KoiiKorQqVLwoiqIoitKqUPGiKIqiKEqrQsWLoiiKoiitChUviqIoiqK0KlS8KIqiKIrSqlDxoiiKoihKq0LFi6IoiqIorQoVL4qiKIqitCpUvCiKoiiK0qpQ8aIoiqIoSqtCxYuiKIqiKK0KFS+KoiiKorQqVLwoSiuGI07bqS4a2q4oitLaUPGiKK0UCpKff/4Zzz//PH799VcEAoHQlhqysrLw4osv4rPPPoPf7w+FKoqitG5UvChKKyUqKgopKSl4+OGHcd111yEzMzO0JUhlZSXeeecdXH/99Vi9eo3YK4qitAVUvChKK2bQoEHYd9/9MHv2bLzwwgsiWAi9MkuXLsXLL7+Mjh074qCDDlTxoihKm0HFi6K0YuLj43H++eehd+/eeOKJJzBv/jwpPvL5fCJcVq9ejZtvvhk9e/YU8cKio7KyMmRnZ2P9+vUoyM8XweMscqLw4f7FxcViw6KnkpISCVMURWkJqHhRlFYMBUm/vn2NgDkfpaWleO7Z50SM0Ovy6aefYuzYsdh3333hcrng9XoxZcoUXHbZZTjqqKNw6KGHYsKJE6TYiWLGChjaffXVV/j3v/+NI488EocffjguuOAC/PLLLypgFEVpEah4UZRWTmxcHA4++GBst91YvPHGm/jtt99w//33Iz8/H2eddRZSU1PFm/Lbb7/jxAkn4pNPPkbXrt2w8847G8FThjvuuAOXXnopcnNzRcDMmTMH//nPfzB9+nQRPyya+v7770UgrVixQlsuKYqy1VHxoihtgPT0dNx1151wu10iPN544w3xrOy1117inWGxz2233YrCokI89NDDePHFF3D33Xfjvffew4QJE/DFF19IiyV6bX744QdkZWXigQcewD333CPFUddee60UN1HQKIqibG1UvChKG8Dj8WDEiBE47rjjsHjxYiQnJeOUU05BUlKSeErmzZuHP/+cglGjRmPYsGEiZgoKClBRUYF99tlHRAvFC4uFkpOTzT7Ajz/+hLVr10r8//rXv/DNN99UiyFFUZStiYoXRWkDUFDExsbi5JNPNmtV2GHcDhg6dCjcbrcUBbEOTElJKebOnSOi5ogjjpC6LKzTcsvNt4jAWbMm2Jx6t912w7bbbouXXnrR2B2JM844Q/qSYcXduLi44AEVRVG2IipeFKWNwEq59JpQgHBOb4zFVsYdPnw4DjjgAOy///4ycfmII4/AxRdfjMMOO0z26dOnD1599VXpH2bgwAGYNXMmHnjgfiN6TsbkyZNrtUxSFEXZGqh4UZQ2DsVMjx49RJhkZGTgiiuuwA033IAbb7xR5qzPwtZEtlUSi4pYjMTKvmxu/fEnn+Caa65Fbk4uXn/9dVSpeFEUZSuj4kVR2jgUJCxCGjJkCH74YbLUiaGQiY6OlmKlP/74A8ceeyzefONNFBUV4ZZbbpHiJBY1sQffgQMH4sADD0RqWhpycnKgbY0URdnaqHhRlDYOPS/sZZcel8LCApxxxpnSGy/7bWFdFrZOWrZsKUaNHoWEhAQpTmLndBdddBE+//xzTJo0qbrpNevDUAwpiqJsTfQrpChtCHpU0tO7St8uTpFBDwsr6T755JPo3r0b7rzzTpx6yqm49977pHfep59+BmPGjEFMTIx4Wa688kqpoHvhhRfinHPOxe+//4HTTz8dp556qoghRVGUrUlUlfY4pSgtCvZw+8gjj0hdFNZD+eijj0RUNARfZTZ9ZrFQWloaunbtWqvSrt3Ooh8WCdGTwv5hevXqhU6dOkkxEgUPhxAoLy+X1kccXoDr3bt3Fzs2vVbPi6IoWxsVL4rSwthY8WJhayB6R+rykPCVty2GrF0k23A7FS2KorQU9GukKG0Mioy6hAvhNhYjcarPNtxOURSlpaBfJEVRFEVRWhUqXhSlhWCLaYIluTWluc7w4DZFUZT2jdZ5UZQWACvFvvnmm5g2bZp0EPfPP//IWEO9emXg0EMPkaIbtgo677zzpNKsoihKe0bFi6K0AOhZmThxovR0y47iOEAiK+6yrgkr67Il0GWXXYbrrruuSZV3FUVR2iJabKQoLQBWjt1ll11kXCF6XihcCEUNmy1TvBxyyCG1mj4riqK0V1S8KEoLgOKFfa5ceuml0iW/ExYZcZwhdu+vrX4URVFUvChKi4HChKM877DDDtXNlznnoIoUL1rXRVEUJYiKF0VpQbBb/wkTJiAhIV7WKV7YrT97t1Wvi6IoShD9GipKC4JFRPS+7LTTziJWevbsiX+ffTZiY2NDFoqiKIqKF0VpYXCcobONYElOTsa//vUvDB4yRESNoiiKEkTFi6K0MNiyaLfddsO4ceNw0kknSdNoWwdGURRF0X5eFKVFwubSa1avRvcePbTISFEUJQwVL4qiKIqitCq02EhRFEVRlFaFel4UpaUR6ZXUOi+KoijVqHhRlC0FXzUzVXGEaJ8fVZVeBMrL4S8rR6Cy0ixXoKq0DFUcGoCmfj+iPG4RLlFuN6IS4uGKi4U73sxjohEVH2fmMUEblytYqVdFjqIo7QAVL4qyOaBI4asVEiqBigr4i4pRsXwVyhYuQeXaTFSuWgtffgECJaUIULD4jW1VICRyHCKEiyJMjEBxRYlwcSUkwJ2Wgthe3RHXtzdi+2YgNqMH3ClJcMXGqqBRFKVNo+JFUZoLChaKFSNCRKgsW4nSOfNRvng5KlatgS83z4QboVJZ6RAq3M/MN8AKDhpw2b6moWWHmBGvDAVNYgJiOndCTI+uiB8+GAlDByKmlxE0yUlBG2OrQkZRlLaAihdF2VTMKxQwYsSXlS1elZK/ZqF4+ixUrlmHQFmFFP+INyVobCanGCFOQWHDrY1zbolk48AIFHpeXPFxiOmWjqSxo2SKG9gPns4dg8MMqIhRFKUVo+JFUTYSellYHFS+YClyJn6G4r9nwV9YjCqfDwiEio1EXJip+i2LJBoivYLhdk6bOkSL00bEiRExnLP4KNoNT1qqiJhORx2M2H694Wb/MfTGKIqitDJUvChKU6CXxeeHLzsH+V9PRuFvf6JixRr4S8sAI1qqjGip8bIQu1yfSNgCNvTGUMR4XFJfJq5vBlJ2GYfUvXaBJ70zXG71xiiK0npQ8aIojYR1VSqWr0bhT38g/7ufUbl2PapMGOu4RBYshIKA63UJA7stko2Nx4Y3k42ZRbk9iIqNlgq/aXvvhpTdxiOmZze4oqPNxvD9FUVRWhYqXhSlPszrwTorvrwC5H0+CbkffwWvWa6qMKIlYCvahguGcEFBrI1zTiLZWMLXSaR4Nt5GKvzGxiK6cwd0POwAdDh4H3hSkxHl8QTNFEVRWiAqXhSlDqTVUFkZCr790YiWr1G+dAUCRrTUeFmcoiCSQCAN2di4NjUesgk2UVFSwTd+YF90OGTfYHFSYoLUl1EURWlpqHhRlHDobfH5UDJ7AbLe+ADFU6dLq6EawoWB8xWqSzxsqo1zbtkMNlEuuOJikLLT9uh8wpGIHzYILvXCKIrSwlDxoihh+IpKkDvxc2S99aH011LT1DlcCDixr1FTbCIRySY8roZs7HbSGBviCGf/MW6XdHiXftIx6HDY/vAkJZpwZ1yKoihbDxUvihKCxUTli5Zg3bP/Q8nMuQiwq34Kl2rCM+9Ir05TbLiNyy3RJlgfhkVJyTvvgPSTj5F+YthiSVEUZWuj4kVRzCvAuixFv09D5ivvoGzJclR5fRJeQ+2MvWbuxLnN0lQbG25twvcnG2sTbtsIG7PI8ZPiBvZF+mnHI3ncGLhiY0IbFUVRtg4qXpT2jXn82UdL3hffYf3Lb8PPlkTSisjxWkie7sjQqwl/dSLZEKddY2xIuF14HFxvjA2xdpGO0Rgb89fjlmKk7ueeirT99wwKGC1GUhRlK6HiRWm38NEPFJdi/UtvIvezSfAXFTny7vBMPRLtzMYVBXdSEjofdyi6nHQM3HGxxqS+eBRFUTYPKl6UdosvvxDrnn0NeV9+j0BZuQlxvgrMlLkenjm3VBsbvplt2KQ6Lg6djjwQ6accK0MOqIBRFGVLo7XvlPYHi4qKS7Dm0eeR94URLuUULk5sZsy5zdTt3BLJJpzmiIfhjbGxOG2cts1kYxZ5vXImfhEsZisqDm1QFEXZcqh4UdoXLCoqK8e6Z15DweTfEKiscOTNzLBtBm4DbSZuw+uzsdRnY8Prs7HY7WRjbOy2ZrYxQRyQMu/z75D52nvwi9dKURRly6HiRWk/mEyXGS37b8n7YlLQ48KBFGvhzLhJ+HZSl43Ttik2ls1tE2mf+mxCRDltQ8v0XpWWIveTr5Hz7ifmWjo78VMURdm8qHhR2g0BbyUKf/od2Saz9ZeUhYSLI0OOSH0ixmJt6iOSjQ0LnzthGI/dFJtI1Le/Pbdwm1C4zGz8nELL5vr5ioqR9eZEFP76Z1ifOIqiKJsPFS9Ku4DNn0tnzcfap1+Br6CQIaGJ2MyaODPupto4aYyNpT4bhjGupthEoj4bZ1qbaGOuK+u9rHvqFZTOW+QYrFJRFGXzoeJFaRd4s3KkfoYvMyeULzMDtpPNqEMZskzO7Y21sdRl48RuJ/XZ2LDmsLHzTbGx8xobelwq167H+udfN8KQzc2tnaIoyuZBxYvS5gl4vcj63/somT4TVbWKiuxkM+maDLlxNqQpNk6c20ldNk6sjTO8qTZ2e1Nt7LKdatvQ41I87R9kv/WhVOZVFEXZnKh4Udo2VVUonTEHBT/+ZjJVbyjQYjPi+qjPhhk3aYpNJLum2ti5DbM0ZOOMt6k2dRHaZqLgkAp5n3+L0jkLZZwoRVGUzYWKF6XtYoSLNycP6154Hb68AlkPZtThmbEz867LxmK3N8aGbM54GNZQPE4bUpcNacimoXgg1znr9Q/gyzfXW1EUZTOh4kVps7AoI/+7n1E2bzGqfD6GmMlmujYzdhKeMTttwm3riyecuuJh+JaKx24nkeLhvCEbUr8NPS7F02eh8Mff1PuiKMpmQ8WL0japqoIvNx95n32LqkpvKG+1Ga/NcG3ma8M53xQbS302NtzOyZaIx7Ix8dRlY7c5bSCdAOZ98yMCxSWhEEVRlOZFxYvSJqny+ZE/6SeUL1nuaL7rzJSJXXeyKTZO26bYWDa3TX37kHCbENW6xG63NtUbattUBVC+cAnyv/vJLEeIT1EUZRNR8aK0SXzFxcj/enI9HacxUw0XFuE0xoY4MvE6qc/GbotkwzBnOjbFJtKc+9lzq2P/WnWFGmdD70vup9/CV1jErYqiKM2KihelzcG6FmVzFqB82cpgflqNzXBtoJ07M+Km2tgpnOayIbSrz4Zhm2LjTEfz2NDbVbFqDUpmzjWrThtFUZRNR8WL0uYIlJYh95NvQqNFOzNOm9kyk3VO1sZu31gbi91OIm0njbWx1GdjwxqysfO6bOy8GWyMYKH3peC7XxDwsrK0oihK86HiRWlzVKxei5J/5kgGWjtzdWa23GYnG2a3b6yNxbmdhG8nkWzCcW4n1sYZ3hQbOw+34TqXnet2imTDqWEbFtkVT50BX2a22cRtiqIozYOKF6VNweKK0jkL4C8pNWs2Uw2ndiYbmcbakPrsmmJDGmNDaGPDwueW2jb8F6gKmCm4HMR5LIY51+2yMyycemzMvfAXFqJk1lxHpWlFUZRNR8WL0qZgL6+s78J5KMQxtxMzWhtONsUmElvKxpnGhm2yKyvwdc5ambhcQ2PiIdxm7eo7Vo0N6x+V/D1L+3xRFKVZUfGitCnYs2vZ4mUm/7QZaDg203Vm2OE03oZbKwN+VNSaAo7Jrge3eTfwQGxsepy2DK8/Hh51YWkR7lo2G3ebaV4pR9YmjYmHc2e4JdyGMKzGRjxh8xYhUFkZClEURdl0oqoMoWVFafUUT5uB5TfdB19OvllzZrpOnOEbb8Oil6zKCjy6Yh7yvJWyXh8uE8eQxBRckDEY7ijn74bmSU99NgGz/mteFq5c+BeioqJw18BtsUeHdLOlvng4J3XZOKnDxhzLnZSEgc/ci7i+GbKuKIqyqajnRWk7GB1evmwVAqXhrYws4ZlxJBtLuI3TtmbZWxXAtMJcTC3KwV9FefjbTNOL654WlhWJFyRI+PHrP1aQ8HXSCJtQUHDmrPPihGHO8NA1qNYbdru14Ya6bEKYxUBJabCzQC06UhSlmVDxorQZpG+RFatQ5eXo0TY3dWSkGxDJJty+OleOCEUABUylOfawpFSc22sgzus5KOLEbYd27hnhpbPHiHQshjFN4TbOdDbGpi5oY+3C9w8hzlkbfyQbs7yBjV02S+balC9dYeZ1dRioKIrSNFS8KG0H88veuy4r1LKlJvOswa7bjNaZ2VqaYlMDS0O2SUrB8V374oRukSdu27tjN7iqi4zqOlaI6kUu1Gdjw+qzqQ9jUGc8lvpsrJ0YGDa0KV+yAvCpeFEUpXlQ8aK0GThytL+o2Cw4M08nNjPlNjvZMGKXw21IJJvauIyCiXa5EFM9ucMmFzzGJhhjMA5bgBOMLZgeu8VvRFhNs2ZneoLWQq1zjZK/nPxsEm2W5J/YNEC1TTCemslBY2xkm53X2HCQxuDI3oqiKJuOihelzcBO0dira2gtNHdmrs7MltvDbez2cBtOddlEIny7PY4TCo0orK4oxdc5a/BD7npUBHwo9fvwd2EuXl2zBA8sn4tHVszFF9lrkFVZJoLE7ltDcJlHYGumJaXF+DBzJZ5cuQCPrZiP99evwLKyElRW7+skPJ7wNNvztuF2mZPd7rRxLte28RcWyWCZiqIozYGKF6XNIOLF5w3ml9UZaCTCM9lINMYmEuG2kpgQteOiR2R2cT7uWjob9y6bjelFebh64XRctfBvPLN6ET4wIuRtIz7YvPn8+X9iSkGOETA2PsYTXKZ3ZU15Ge5cMhP/Z+woet5YvwxvrV+Oh1fMwwXzpuDxlfNR4GOLqHBq4gnOnes1aa0hPIZINk64PQr+8opQcZ6iKMqmo+JFaTNUBUzG6rP1XSx2mXM7OTNosrE2kXBu51RX5h7c32vSXOz3IdeIrodXzceMkjz0ikvAgZ274/AuvTAqOU08LitKS/C42b6ivET2C0LvTRVWl5eK+Pkmdx0KTTwDE5JxdJcMnJzRF/t27IZktwcfZhkhlLnc4b1x4jzXutJsz8dS33lZO0e8/oCKF0VRmg0VL0obwmSUkqfajNWZ2VrstroyX+K0iRQHqb0/rUqMCFlXUYa1taZSmWdXloeEw4bxMYQd3a0pK8Np3fpJHyyX9h6Gi3oPwd0Dx+CsHgOlb5bFZcX4Mne11IOx8bDTu/+tXYophTkScmr3frhn0BicnzEEZ3QZiMv7DMcDg8didEoa5pUUOjw3keA5RTp3zp3hlibYOIMURVE2ERUvSpshymUeZ061CM9Iic1wSXimG27D9bpsHBiTSdnrcdH8qfi/eX9uMN205B/xitSOpzb7deyG47r2QbfYeCS7o5Fkpg7RMeKBSY+JFaEyr6wQPhFBwf1XVpRgctF6aa7N/U804ic9Js7s60aC24NkTzS6m/iuyBiOjNgE2acG53Vw4gx3nrsTa8NtDdmYrR538P4oiqI0A/o1UdoMUSbDdsXFhdacGTCxmSyxGW24DanLxmnrXK7JtCN7XoITxxKiwKhNTTwetwv7duomgsO2RyJcSvXEYEBckqznV3qNeAnuxyKj73LXI7fca0ROLP7Vra+IlZq9g3iiXMiIS8TuHdLDevZ1wr0Yb+RzCxLJJkQt0/DtUXAlxMv9URRFaQ5UvChthiiPB+54I14kI7W5aYSMtpqm2DTM3p264vGhO+DJYeM2mG4dMAppRoTUPlZN3LHmVewZGx96IWvbeFxRIVETLCZiE2jasAhoakGOeGLomcmIs54V53kF4+LQBMMSU414kVUHNTY1+4UbNWRjlquLshjOyS4Hoaik90VRFKU5UPGitBmYObpTk81CWOZZnYfaBZvROjNbS1NsCLebEBPUxQiI4Ulp2KbWlCrzAQnJ0gdM9b7OKELQ48K6LdU4TJ3mttoKe/XN8VZICpKjo6UfmdppJmYeiiDolXHGZAnZVO9n4+Bkqc/G2omBYUObmO7pIi4VRVGaAxUvStvB5UZsRo9Q3QqbedpZTUZak8k6M1gSbmMnEm6zIeykjp3QRVdPLjO5Zc6im2BMoX3rrTgbogEbbvWGbPg3KEzs5Ng3ZGO3RKT6WMGYIlo3xqb6uLVtYvv1Btz6uVEUpXnQr4nSZohymUyyd09ERfMXvs1EbeZak5HWzmCdOG2I2S6LTjvn9kjY7U6b8OOQ+uKw1GETCqZQSkwMvsKl7F24Vmsm575m2QRz5OvatW5oY+3ssl1nPJxsmHO5sTbB7fSIxffva+6PFhspitI8qHhR2g4mM4/tkwF3Aut+2Ay0LpyZbCS7UEbM2QY2EtgA1iYUjxAeT13Qxrl/JILenUGuVHmJWSGYU21q4mE9mVkl+aFm1uGEH4vzutLaFBuDSaM7Jdncl17a2khRlGZDvyZKmyK6W7pklDU4M1s71WTqQRpjY3HaRsLuTzivL55I4Za69jOEgjnA454duyI+2o08XyXeXLdMhgioTZQIloWlhfghLxP+iHGGH6uhcyeNtKGg7NUjWBfJxX0URVE2HRUvSpvCnZiA+MEDJNOMjA2vLyONZBOeUW+4P5swlxvxUFZr8jnmwanG+1FfGhoiGMfY5I4YGpcqlXc/zV2DT7NWo9jvBYce4D+KmcVlRTJkwPrKsjo8LxZnergcJkQ2wGnD+YY2UUZgJQwdqJV1FUVpVqLMR66+r5mitCrYBX3+dz9j5W0Poaqy0oREynSdGW3kTLcxNtI1f0UpTp/1m7T66RIXh17RbO4cKb4g3HJp3+EYmpgi0X6evVo6sIt3ufHWyF3RMy7B2NTen8e5fuF0fJW7FoPNfs8MHS8thwjruUwtzMGdS2djlUlLgsuDAfFJGJGUKpWEl1UUY35JEQqNoKHQ+SU/C7EuF+4cuC327NDVxBDpHLnspC4bLlvbyDZRMTHoc+e1SNlxrPbzoihKs6GeF6VNwXoVCYP6I7pzx1CIk0gZbThNsaFVFNxRbGXkQoERS3NLCjGntKCeqRCFPiOqJIoqKUnhvqx8G5ngsYItmVxyLKcpO50bldwB1/TbBjukdEKVuwrzzDEmZq3Ce5kr8FdhHjp4YnBZxlAc2rmnCBe3ee03FFhcd54r1xuyIeE2JGRj0hbbsxsSBg/Q+i6KojQr6nlR2hz+0jKse/Y1ZL/zsclH+XjbDNa5bLGPf9Nt6BEp8/vxefaq6ibLDcEY9uzYTbrw5/KS0mJMLcwWYbJvp+5I2aAvlmC8vxdkY3lZiQwXsEeHrkaE0Ith08HO6/wo8nvxV1EuphvBkuutQKLbg0EJKRif2hldY+OktdEv+ZkSP8PY625d51ab8LC6bEhNPPS6dD72UHS/4HT1uiiK0qyoeFHaHFVGUJTNXYgll94If3FpMD+t9ZQ7V0Ib6c6o1yYSlC8sugnOI2O31MRB74n1fLAOij/UgJkCppZw4WJodxYPscWQ9fQErcxfsaFRUEwxLeyFlxVzGRs7xgsejy2OeDz+DR6/pv5s7Xhq0uykkTaC2WaO6UlLRd+7/4vEkcNkXVEUpblQX67S5uCv/JiMHqGKuyZA8ln+sZPNSB2ZcC0b4rQhNry2DbdSdAQ7pLMd04V3UhfsqM6GB4VLMA4WB1mbYGyO+EUoBJdZPESboMBxIDZBuD+3x7s9SDJTgrkOPK59yTn3hOLgcWtRHQ/n3GYnBxFtwgnZmPjjB/VDXP8+sqwoitKcqHhR2iTuhHh0OvZQRysXm9lyshlscFazYLcTm1ET57LTxonN0Em4jXN/S3gc4cew80jxOMMi2di02HC7bNeb04ZsaONJTkLnfx0hrb8URVGaGxUvSpuEoiVp+9FI2m6ko7KozWyJyWRl1Wa6ljCb6rnTztpw7rRxYrZJULiN066+eJzb7Ny5L5frsnHabQWbqCgkjhmBxNHDZVlRFKW5UfGitE1MpskRpjsecRBcHGm6Gpvp2kzYSXjGvIk29dYPsWF12TjDmsuGbE4bUgVPShI6HrJf2HVXFEVpPlS8KG0W1n1J3mFbJO+4HaKi2dqFGS4nYuckUkbtnJPwjLu546mLcBu7f33xhKeDOLc7l500xobY+GnjTE+UXPPUvXdF4qhh2sJIUZTNhooXpe1C70tiPNLPnICYbl1lPYgzcw9mukE4b4yNpTnjiWTvxNpwcto7CbeJhDM8kg3Dwicn9rjO8Jrl6G5d0Om4w+BKZDNsRVGUzYOKF6VtYwRLXEZPdDnhCLgTbDFGpAzYYsO2pI0lfJ37RtrPSXPb2PRybpct4TYktGyus8sIxW7/Pvn/27ub37iuOozjz9yZ8btjO4ntOmHT0pBASokKKoUSNQWRllWphKgKagHRSiAELNjwR7AHxKaqEAg2RUJFFRAkEELtommhaVJIVVYVaVrHduIZv8yLOb8zc5wzNzPjt9jxjb8faXTvnPvYk4VvzqP7Nuo9dIdyef5rAbB9+B8Gt71cIa+RLz7kT2dEDzdxbD1MyJ1sJNNNp9/TqTDEuThj0hl7H2fS62YzGROvm/aZXJLX2OlT2nfyASU9ja8uAIDtQnnB7c9OHw30a/zJx9X/kbvcgE2+4dW0OheHlc1k3HLNzGrAsXV7xZl0rlPGXm48xFoyJp1prnfKeOlM/ApsvTWTy+c08PFjmnj6q0p6e93m8PsAYHtQXrAn+AfXHb5Dh374rHqmwhcSRpOsn5/DhGzCtrUy4dUcWzMTxjtlTJwJ0pmm6CF1a2ds2SHT8pnttps2mSRRcXJCU9/9horj+zldBGBH8D8N9oykWNTA0bv9d+34L270p5DChGziSTse75ZJbwvLsG7iTLDeTCx8Xjy+3kx4mTgTxtplTJeMW/RMjuvwj76j/mNHuLsIwI6hvGDvsItK+3q17+SnNfntJ5Xv63Nj6V0gTNomPWkHnTIxl/FDoSQYW8a5bpnwGfEybDMbyYSXSWdMvC0s18i4TfnhIU0+8zUN3Xcv17kA2FF8MSP2HvcnX19a1swfzujSL36p6tzV5pwc7wo2cdv7eAI3uzUTxjtl4rGtZ+xBdFM/eEajDz+oZKDfjwHATqG8YG9yf/W1xUXNvPhnXX7uN6pMzzQGvfSkHUtnrk/o163393TbbnY6Y9rlws+7ZS6nwtioDn3vWxo59dnGU3S5QBfADqO8YM+yP/1aeUHzL7+qd3/y0+gIjAkTtonXY1vJhHVbmt2YSeUTV1xGR/ShH39fw5/6hJLeHjfGmWcAO4/ygj1tpb6i+sKCyuf/o0s/e17lty5Kbuy6eL3dpG+2momXQaeMCbm1MmHdbC1jX3Rpt5nbxc4D9xxV0uOKC0dcANwilBfA7QL15YqW//eeLv38eV17+ay/Jqb1NuR4Qu/kxkn/RumMSefi8XQm/PxGMyaMm3Wu20XO/f0a+dz9mnz26/7uolyRi3MB3FqUF6BppVbzp45mfv9HXf7VC6rNl6R63W2xybwxkfu5fVX85mZljOXSNpMxIWfbmp9/gw6ZJFFhaFAT33xCo6dP+VNGPMcFwG5AeQFSaguLKp19Q+//+gWVXj/nSo0VmPTkHyb8IB5Pr4fsVjKxzWZMnEv/bPO9K1e5fEGDJ45r/KmvaPCeY8pzYS6AXYTyAqS5XWKlWtPy9BVd+d1L/o6kiltv6QBePPnbervJfT0ZE+c62ejnddIlk+T8A/wOfPlR7X/sS/6WaP/wOYoLgF2E8gK0YwWmXld9cUnVD6b13nO/1dxf/+HeN6+F8f2hU4EwlnHbNp0JY+llzMaCkDFxrl2mze9x/w57aN/oI6c0/sRjKkwc9N9TlLO7idJxALjFKC9AN273sKMwtfl5lS5c1OyLZzT/6j9VvRauh+lQBlZ1KQwt27plgm3I2O3Pw8Pa95lPauT0Qxr46BHlBwf83UUcbQGwW1FegPWwElOpqlouq/zGBc3+6W8qvXZO1dk5f6Gv7wOrwptuk3+6ULRzMzOmmXMLKyd2Aa5d1zL2yMPqP35UhYF+5YqUFgC7H+UF2IhwJKa84G+tnnnpL5o78/fGA+5qdbe57jOrRaGlXLRbj3e/8L5TJj1u0hkT3kcZV0hyVkryeRUPHtDo5x/UyBdOqufwlPJWWuwuIkoLgIygvACbZNfErCwva/nS+yq/+W9de+WsSv86r+oHV/zD73xpWN274t0sKhUtReNmZZpstVlaipPjGrz3Yxq+/4T6jx9T0a5p6Sk2rmkBgIyhvABbYUdibBeyi3uXK6pOz6h07oLmX3lNC2//V5XL06qXFxqnlho/0FzGRaRdCTGby+QKeeUHB1Uc36++I3dp+IH7Grc7j40qsdNCrrD4ozAcaQGQUZQX4GapN+5QsqKyUq2qvrSk6pVZLVx8R6XXz6v85luqzcypem3el53rR2fa7IJWLFqG0xm3PQmnghLlh4bUMzWhvrvv1NCJ4+r78J0qHBjz3z9k17dYoWncOURhAZB9lBdgO4QjMr7I1FSvuDJTXvB3LdnRGfsWazu9ZOWmdvWqKrNXtbK4pFqp5C8MbjwYr8mVDjtikgwN+juB8m5ZGN2nwsH9/hueixMHVBwdWd1uF936Z7O4F0dYANyOKC/ATlktNHbUxZWTuis2tu5fNalS8Udj7KhNy9EYO8KSL0h29MQVksQt/akfKyh+mTSWFBUAewTlBdgt1rMrUk4AgPICAACyhfskAQBAplBeAABAplBeAABAplBeAABAplBeAABAplBeAABAplBeAABAplBeAABAplBeAABAplBeAABAplBeAABAplBeAABAplBeAABAplBeAABAplBeAABAplBeAABAhkj/B7fAZM+1AfwRAAAAAElFTkSuQmCC)"
      ],
      "metadata": {
        "id": "x1O_FC87M1Cj"
      }
    },
    {
      "cell_type": "code",
      "metadata": {
        "colab": {
          "base_uri": "https://localhost:8080/"
        },
        "id": "9hD4hsX6apZV",
        "outputId": "0ff461cb-b121-4205-e9d4-40c3ff0bf8af"
      },
      "source": [
        "i=1\n",
        "while i<6:\n",
        "  print(i)\n",
        "  i=i+1\n",
        "else:\n",
        "  print(\"Hello\")"
      ],
      "execution_count": null,
      "outputs": [
        {
          "output_type": "stream",
          "name": "stdout",
          "text": [
            "1\n",
            "2\n",
            "3\n",
            "4\n",
            "5\n",
            "Hello\n"
          ]
        }
      ]
    },
    {
      "cell_type": "markdown",
      "metadata": {
        "id": "eOy-2oxN9qW9"
      },
      "source": [
        "The else keyword can be used with loops.An else following a for loop specifies a block of code to be executed when the loop is finished.The else block will NOT be executed if the loop is stopped by a break statement.\n",
        "\n"
      ]
    },
    {
      "cell_type": "markdown",
      "metadata": {
        "id": "NJySOYJeP4XE"
      },
      "source": [
        "##Questions\n",
        "3)Find the largest among three numbers and display it.\n",
        "\n",
        "4)To print all Prime Numbers in an interval\n",
        "\n",
        "5)Print the pattern till n\n",
        "\n",
        "1\n",
        "\n",
        "1 2\n",
        "\n",
        "1 2 3\n",
        "\n",
        "1 2 3 4\n",
        "\n",
        "1 2 3 4 5"
      ]
    },
    {
      "cell_type": "code",
      "source": [
        "start = int(input(\"Enter start: \"))\n",
        "end = int(input(\"Enter end: \"))\n",
        "\n",
        "print(\"Prime numbers between\", start, \"and\", end, \"are:\")\n",
        "\n",
        "for num in range(start, end + 1):\n",
        "    if num > 1:\n",
        "        for i in range(2, num):\n",
        "            if num % i == 0:\n",
        "                break\n",
        "        else:\n",
        "            print(num)\n"
      ],
      "metadata": {
        "colab": {
          "base_uri": "https://localhost:8080/"
        },
        "id": "fObdzeyyNqv7",
        "outputId": "fb70641f-91ad-4405-d05c-e68ae3924726"
      },
      "execution_count": null,
      "outputs": [
        {
          "output_type": "stream",
          "name": "stdout",
          "text": [
            "Enter start: 2\n",
            "Enter end: 10\n",
            "Prime numbers between 2 and 10 are:\n",
            "2\n",
            "3\n",
            "5\n",
            "7\n"
          ]
        }
      ]
    },
    {
      "cell_type": "markdown",
      "metadata": {
        "id": "dZR1x4mJH2qJ"
      },
      "source": [
        "# Functions"
      ]
    },
    {
      "cell_type": "code",
      "metadata": {
        "colab": {
          "base_uri": "https://localhost:8080/"
        },
        "id": "raGiVhbyH2qJ",
        "outputId": "64175c0e-e546-4896-d11f-8077fca67c6c"
      },
      "source": [
        "def my_function():\n",
        "  print(\"hello\")\n",
        "\n",
        "my_function()"
      ],
      "execution_count": null,
      "outputs": [
        {
          "output_type": "stream",
          "name": "stdout",
          "text": [
            "hello\n"
          ]
        }
      ]
    },
    {
      "cell_type": "code",
      "source": [
        "def my_function(fname):\n",
        "  print(fname + \" Refsnes\")\n",
        "\n",
        "my_function(\"Emil\")\n",
        "my_function(\"Tobias\")\n",
        "my_function(\"Linus\")"
      ],
      "metadata": {
        "colab": {
          "base_uri": "https://localhost:8080/"
        },
        "id": "5tW-ahrJNwIS",
        "outputId": "0b2b2fbb-a08c-4785-b236-2224e84cfda4"
      },
      "execution_count": null,
      "outputs": [
        {
          "output_type": "stream",
          "name": "stdout",
          "text": [
            "Emil Refsnes\n",
            "Tobias Refsnes\n",
            "Linus Refsnes\n"
          ]
        }
      ]
    },
    {
      "cell_type": "code",
      "source": [
        "def my_function(fname, lname):\n",
        "  print(fname + \" \" + lname)\n",
        "\n",
        "my_function(\"Emil\", \"Refsnes\")"
      ],
      "metadata": {
        "id": "yIYVNeLRN6Cx",
        "outputId": "ce90519f-4126-4f87-cf49-1906a516b559",
        "colab": {
          "base_uri": "https://localhost:8080/"
        }
      },
      "execution_count": null,
      "outputs": [
        {
          "output_type": "stream",
          "name": "stdout",
          "text": [
            "Emil Refsnes\n"
          ]
        }
      ]
    },
    {
      "cell_type": "code",
      "metadata": {
        "colab": {
          "base_uri": "https://localhost:8080/"
        },
        "id": "FNyAq4RwH2qJ",
        "outputId": "4b75cd0d-eb37-45d3-fb14-5df6c45796e9"
      },
      "source": [
        "#Function with an argument\n",
        "def my_function(name):\n",
        "  print(name)\n",
        "\n",
        "my_function(\"python\")"
      ],
      "execution_count": null,
      "outputs": [
        {
          "output_type": "stream",
          "name": "stdout",
          "text": [
            "python\n"
          ]
        }
      ]
    },
    {
      "cell_type": "code",
      "metadata": {
        "id": "nsx7kLo7b8Yr",
        "colab": {
          "base_uri": "https://localhost:8080/"
        },
        "outputId": "b6bc4210-ae1a-48b4-c061-47b2ee3468ca"
      },
      "source": [
        "#Functions with more than one argument\n",
        "def add(x, y):\n",
        "    return x+y\n",
        "\n",
        "def sum_squares(x, y, z):\n",
        "    return x*x + y*y + z*z\n",
        "\n",
        "print(add(10, 5))\n",
        "print(sum_squares(3, 4, 5))"
      ],
      "execution_count": null,
      "outputs": [
        {
          "output_type": "stream",
          "name": "stdout",
          "text": [
            "15\n",
            "50\n"
          ]
        }
      ]
    },
    {
      "cell_type": "markdown",
      "metadata": {
        "id": "n4pBdykKH2qN"
      },
      "source": [
        "# Questions\n",
        "6) Write a function which takes a number $n$ as argument and checks whether it is even or odd. If $n$ is odd, return $3n+1$. If $n$ is even, return $n/2$\n",
        "\n",
        "7) Write a function which takes a number $n$ as argument and compute the factorial of n.\n",
        "\n",
        "\n",
        "8) Write a function to compute the sum of first $n$ odd numbers.\n",
        "\n",
        "9) Fibonacci numbers are $1, 1, 2, 3, 5, 8, 13, 21, 34, 55, \\dots$, where every number is the sum of the previous two fibonacci numbers. Write a function to compute the $n^\\text{th}$ Fibonacci number.\n",
        "\n",
        "10) Write a program that reads an integer and prints its reverse.\n",
        "\n",
        "11) Write a program to calculate the sum of the digits of a given number.\n",
        "\n",
        "12) Write a program that checks if a given number is a palindrome.\n",
        "\n",
        "13) Write a program to find the GCD of two given numbers.\n",
        "\n",
        "14) Write a program that takes a number as input and prints its multiplication table up to 10.\n",
        "\n",
        "15) Write a program to sort an array of integers in ascending order.\n",
        "\n",
        "\n"
      ]
    }
  ]
}