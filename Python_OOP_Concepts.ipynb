{
  "nbformat": 4,
  "nbformat_minor": 5,
  "metadata": {
    "kernelspec": {
      "display_name": "Python 3",
      "language": "python",
      "name": "python3"
    },
    "language_info": {
      "codemirror_mode": {
        "name": "ipython",
        "version": 3
      },
      "file_extension": ".py",
      "mimetype": "text/x-python",
      "name": "python",
      "nbconvert_exporter": "python",
      "pygments_lexer": "ipython3",
      "version": "3.7.9"
    },
    "colab": {
      "provenance": [],
      "include_colab_link": true
    }
  },
  "cells": [
    {
      "cell_type": "markdown",
      "metadata": {
        "id": "view-in-github",
        "colab_type": "text"
      },
      "source": [
        "<a href=\"https://colab.research.google.com/github/mahadev-k-anil/python-tutorial/blob/main/Python_OOP_Concepts.ipynb\" target=\"_parent\"><img src=\"https://colab.research.google.com/assets/colab-badge.svg\" alt=\"Open In Colab\"/></a>"
      ]
    },
    {
      "cell_type": "markdown",
      "metadata": {
        "id": "86ba23ae"
      },
      "source": [
        "# Object Oriented Programming Concept\n",
        "\n",
        "\n"
      ],
      "id": "86ba23ae"
    },
    {
      "cell_type": "markdown",
      "metadata": {
        "id": "31304b0c"
      },
      "source": [
        "# Class\n",
        "A user-defined prototype for an object that defines a set of attributes that characterize any object of the class. The attributes are data members and methods, accessed via dot notation."
      ],
      "id": "31304b0c"
    },
    {
      "cell_type": "markdown",
      "metadata": {
        "id": "ee06c4c8"
      },
      "source": [
        "Classes are created by keyword class.\n",
        "    "
      ],
      "id": "ee06c4c8"
    },
    {
      "cell_type": "code",
      "metadata": {
        "id": "b0480299"
      },
      "source": [
        "# Definition of Class\n",
        "class class_name:\n",
        "        pass\n",
        "class Car:\n",
        "    pass"
      ],
      "id": "b0480299",
      "execution_count": null,
      "outputs": []
    },
    {
      "cell_type": "markdown",
      "metadata": {
        "id": "73f0b106"
      },
      "source": [
        "# Object\n",
        "<ul>\n",
        "    <li>An object (instance) is an instantiation of a class.</li>\n",
        "    <li>When class is defined, only the description for the object is defined. Therefore, no memory or storage is allocated.</li>\n",
        "</ul>"
      ],
      "id": "73f0b106"
    },
    {
      "cell_type": "markdown",
      "metadata": {
        "id": "4b95a41a"
      },
      "source": [
        "An object consists of :\n",
        "<ul>\n",
        "    <li>State: It is represented by the attributes of an object. It also reflects the properties of an object.</li>\n",
        "    <li>Behavior: It is represented by the methods of an object. It also reflects the response of an object to other objects.</li>\n",
        "    <li>Identity: It gives a unique name to an object and enables one object to interact with other objects.</li>\n",
        "</ul>"
      ],
      "id": "4b95a41a"
    },
    {
      "cell_type": "code",
      "metadata": {
        "id": "d718ac50"
      },
      "source": [
        "# Creating an object\n",
        "obj = class_name()"
      ],
      "id": "d718ac50",
      "execution_count": null,
      "outputs": []
    },
    {
      "cell_type": "markdown",
      "metadata": {
        "id": "ff596258"
      },
      "source": [
        "<h4>Declaring Objects (Also called instantiating a class)</h4>\n",
        "<ul>\n",
        "<li>When an object of a class is created, the class is said to be instantiated.</li>\n",
        "<li>All the instances share the attributes and the behavior of the class. But the values of those attributes, i.e. the state are unique for each object.</li>\n",
        "<li>A single class may have any number of instances.</li>\n",
        "</ul>"
      ],
      "id": "ff596258"
    },
    {
      "cell_type": "markdown",
      "metadata": {
        "id": "36797d7e"
      },
      "source": [
        "# Methods\n",
        "\n",
        "Methods are functions defined inside the body of a class. They are used to define the behaviors of an object."
      ],
      "id": "36797d7e"
    },
    {
      "cell_type": "markdown",
      "metadata": {
        "id": "0eaf79e8"
      },
      "source": [
        "<h4> Example"
      ],
      "id": "0eaf79e8"
    },
    {
      "cell_type": "code",
      "metadata": {
        "id": "a50d84b5",
        "outputId": "df2a4e17-61ec-46ae-8bfe-7e6c79fa115e",
        "colab": {
          "base_uri": "https://localhost:8080/"
        }
      },
      "source": [
        "class Car:\n",
        "    def __init__(self,modelname, year):\n",
        "        self.modelname = modelname\n",
        "        self.year = year\n",
        "    def display(self):\n",
        "        print(self.modelname,self.year)\n",
        "\n",
        "obj1 = Car(\"Honda\", 2022)\n",
        "obj1.display()\n",
        "obj2=Car(\"Ford\",2020)\n",
        "obj2.display()\n",
        "print(obj1.__dict__)"
      ],
      "id": "a50d84b5",
      "execution_count": null,
      "outputs": [
        {
          "output_type": "stream",
          "name": "stdout",
          "text": [
            "Honda 2022\n",
            "Ford 2020\n",
            "{'modelname': 'Honda', 'year': 2022}\n"
          ]
        }
      ]
    },
    {
      "cell_type": "markdown",
      "metadata": {
        "id": "29f2430e"
      },
      "source": [
        "# The self\n",
        "<ul>.\n",
        "    <li><b> The self parameter is a reference to the current instance of the class, and is used to access variables that belongs to the class.</b></li>\n",
        "    <li>Class methods must have an extra first parameter in the method definition. We do not give a value for this parameter when we call the method, Python provides it.</li>\n",
        "    <li>If we have a method that takes no arguments, then we still have to have one argument.</li>\n",
        "   \n",
        "</ul>"
      ],
      "id": "29f2430e"
    },
    {
      "cell_type": "markdown",
      "metadata": {
        "id": "2cddb644"
      },
      "source": [
        "# _init__ method\n",
        "The first method __init__() is a special method, which is called class constructor or initialization method that Python calls when you create a new instance of this class\n"
      ],
      "id": "2cddb644"
    },
    {
      "cell_type": "markdown",
      "metadata": {
        "id": "43f9e0ec"
      },
      "source": [
        "# __del__ method\n",
        "This  __del__() method  destructor"
      ],
      "id": "43f9e0ec"
    },
    {
      "cell_type": "markdown",
      "metadata": {
        "id": "23448de6"
      },
      "source": [
        "# Destroying Objects (Garbage Collection)\n",
        "<ul>\n",
        "<li>Python deletes unneeded objects (built-in types or class instances) automatically to free the memory space. The process by which Python periodically reclaims blocks of memory that no longer are in use is termed Garbage Collection.</li>\n",
        "\n",
        "<li>Python's garbage collector runs during program execution and is triggered when an object's reference count reaches zero. An object's reference count changes as the number of aliases that point to it changes.</li>\n",
        "\n",
        "<li>An object's reference count increases when it is assigned a new name or placed in a container (list, tuple, or dictionary). The object's reference count decreases when it's deleted with del, its reference is reassigned, or its reference goes out of scope. When an object's reference count reaches zero, Python collects it automatically.</li>\n",
        "</ul>"
      ],
      "id": "23448de6"
    },
    {
      "cell_type": "markdown",
      "metadata": {
        "id": "fc6e3775"
      },
      "source": [
        "# OOPs Concepts:\n",
        "<ul>\n",
        "    <li>Abstraction</li>\n",
        "    <li>Encapsulation</li>\n",
        "    <li>Inheritance</li>\n",
        "    <li>Polymorphism</li>\n",
        "</ul>"
      ],
      "id": "fc6e3775"
    },
    {
      "cell_type": "markdown",
      "metadata": {
        "id": "ac731d74"
      },
      "source": [
        "# Inheritance\n",
        "Inheritance allows us to define a class that inherits all the methods and properties from another class.\n",
        "\n",
        "It provides reusability of a code. We don’t have to write the same code again and again. Also, it allows us to add more features to a class without modifying it.\n"
      ],
      "id": "ac731d74"
    },
    {
      "cell_type": "code",
      "metadata": {
        "id": "021e4225",
        "colab": {
          "base_uri": "https://localhost:8080/"
        },
        "outputId": "1ecde40a-3a42-412e-a4a0-0022950311a2"
      },
      "source": [
        "# parent class\n",
        "class Bird:\n",
        "\n",
        "    def __init__(self):\n",
        "        print(\"Bird is ready\")\n",
        "\n",
        "    def whoisThis(self):\n",
        "        print(\"Bird\")\n",
        "\n",
        "    def fly(self):\n",
        "        print(\"Fly faster\")\n",
        "\n",
        "# child class\n",
        "class Penguin(Bird):\n",
        "\n",
        "    def __init__(self):\n",
        "        # call super() function\n",
        "        super().__init__()# super function used to give access to methods and properties of a parent\n",
        "        print(\"Penguin is ready\")\n",
        "\n",
        "    def whoisThis(self):\n",
        "        print(\"Penguin\")\n",
        "\n",
        "    def run(self):\n",
        "        print(\"Run faster\")\n",
        "\n",
        "peggy = Penguin()#object of the derived class Penguin\n",
        "peggy.whoisThis()\n",
        "peggy.fly()\n",
        "peggy.run()"
      ],
      "id": "021e4225",
      "execution_count": null,
      "outputs": [
        {
          "output_type": "stream",
          "name": "stdout",
          "text": [
            "Bird is ready\n",
            "Penguin is ready\n",
            "Penguin\n",
            "Fly faster\n",
            "Run faster\n"
          ]
        }
      ]
    },
    {
      "cell_type": "markdown",
      "metadata": {
        "id": "c471322f"
      },
      "source": [
        "<h3>Types of Inheritances</h3>\n",
        "<ul>\n",
        "    <li>Single Inheritance</li>\n",
        "    <li>Multiple Inheritance</li>\n",
        "    <li>Multilevel  Inheritance</li>\n",
        "    <li>Hierarchical   Inheritance</li>\n",
        "    <li>hybrid  Inheritance</li>\n",
        "</ul>\n",
        "\n",
        "All types of inheritance can be applied using python programming"
      ],
      "id": "c471322f"
    },
    {
      "cell_type": "markdown",
      "metadata": {
        "id": "25da6415"
      },
      "source": [
        "# Encapsulation\n",
        "<ul>\n",
        "    <li>It describes the idea of wrapping data and the methods that work on data within one unit. This puts restrictions on accessing variables and methods directly and can prevent the accidental modification of data. </li>\n",
        "<li>To prevent accidental change, an object’s variable can only be changed by an object’s method. Those types of variables are known as private variable. </li>\n",
        "<li>A class is an example of encapsulation as it encapsulates all the data that is member functions, variables, etc</li>\n",
        "</ul>"
      ],
      "id": "25da6415"
    },
    {
      "cell_type": "markdown",
      "metadata": {
        "id": "39f49317"
      },
      "source": [
        "<br>Access Modifiers are:</br>\n",
        "<br>Protected members</br>\n",
        "<br>Private members</br>\n",
        "<br>Public Members</br>\n"
      ],
      "id": "39f49317"
    },
    {
      "cell_type": "code",
      "metadata": {
        "id": "14593bc8",
        "colab": {
          "base_uri": "https://localhost:8080/",
          "height": 358
        },
        "outputId": "0e02e809-bc8f-4e8d-a3b2-018f47708ec1"
      },
      "source": [
        "# Python program to\n",
        "# demonstrate private members\n",
        "\n",
        "# Creating a Base class\n",
        "class Base:\n",
        "    def __init__(self):\n",
        "        self.a = 10\n",
        "        self.__c = 20\n",
        "\n",
        "# Creating a derived class\n",
        "class Derived(Base):\n",
        "    def __init__(self):\n",
        "\n",
        "        # Calling constructor of\n",
        "        # Base class\n",
        "        Base.__init__(self)\n",
        "        print(\"Calling private member of base class: \",self.__c)\n",
        "\n",
        "\n",
        "obj1 = Base()\n",
        "print(obj1.a)\n",
        "#print(obj1.c)\n",
        "\n",
        "#print(obj1.c)#cannot be accessed outside the class\n",
        "obj2=Derived()\n",
        "print(obj2.a)\n"
      ],
      "id": "14593bc8",
      "execution_count": null,
      "outputs": [
        {
          "output_type": "stream",
          "name": "stdout",
          "text": [
            "10\n"
          ]
        },
        {
          "output_type": "error",
          "ename": "AttributeError",
          "evalue": "ignored",
          "traceback": [
            "\u001b[0;31m---------------------------------------------------------------------------\u001b[0m",
            "\u001b[0;31mAttributeError\u001b[0m                            Traceback (most recent call last)",
            "\u001b[0;32m<ipython-input-4-e2f90034047f>\u001b[0m in \u001b[0;36m<module>\u001b[0;34m\u001b[0m\n\u001b[1;32m     23\u001b[0m \u001b[0;34m\u001b[0m\u001b[0m\n\u001b[1;32m     24\u001b[0m \u001b[0;31m#print(obj1.c)#cannot be accessed outside the class\u001b[0m\u001b[0;34m\u001b[0m\u001b[0;34m\u001b[0m\u001b[0;34m\u001b[0m\u001b[0m\n\u001b[0;32m---> 25\u001b[0;31m \u001b[0mobj2\u001b[0m\u001b[0;34m=\u001b[0m\u001b[0mDerived\u001b[0m\u001b[0;34m(\u001b[0m\u001b[0;34m)\u001b[0m\u001b[0;34m\u001b[0m\u001b[0;34m\u001b[0m\u001b[0m\n\u001b[0m\u001b[1;32m     26\u001b[0m \u001b[0mprint\u001b[0m\u001b[0;34m(\u001b[0m\u001b[0mobj2\u001b[0m\u001b[0;34m.\u001b[0m\u001b[0ma\u001b[0m\u001b[0;34m)\u001b[0m\u001b[0;34m\u001b[0m\u001b[0;34m\u001b[0m\u001b[0m\n",
            "\u001b[0;32m<ipython-input-4-e2f90034047f>\u001b[0m in \u001b[0;36m__init__\u001b[0;34m(self)\u001b[0m\n\u001b[1;32m     15\u001b[0m         \u001b[0;31m# Base class\u001b[0m\u001b[0;34m\u001b[0m\u001b[0;34m\u001b[0m\u001b[0;34m\u001b[0m\u001b[0m\n\u001b[1;32m     16\u001b[0m         \u001b[0mBase\u001b[0m\u001b[0;34m.\u001b[0m\u001b[0m__init__\u001b[0m\u001b[0;34m(\u001b[0m\u001b[0mself\u001b[0m\u001b[0;34m)\u001b[0m\u001b[0;34m\u001b[0m\u001b[0;34m\u001b[0m\u001b[0m\n\u001b[0;32m---> 17\u001b[0;31m         \u001b[0mprint\u001b[0m\u001b[0;34m(\u001b[0m\u001b[0;34m\"Calling private member of base class: \"\u001b[0m\u001b[0;34m,\u001b[0m\u001b[0mself\u001b[0m\u001b[0;34m.\u001b[0m\u001b[0m__c\u001b[0m\u001b[0;34m)\u001b[0m\u001b[0;34m\u001b[0m\u001b[0;34m\u001b[0m\u001b[0m\n\u001b[0m\u001b[1;32m     18\u001b[0m \u001b[0;34m\u001b[0m\u001b[0m\n\u001b[1;32m     19\u001b[0m \u001b[0;34m\u001b[0m\u001b[0m\n",
            "\u001b[0;31mAttributeError\u001b[0m: 'Derived' object has no attribute '_Derived__c'"
          ]
        }
      ]
    },
    {
      "cell_type": "code",
      "metadata": {
        "id": "15b71557",
        "outputId": "c2fafcfa-45b6-4bf0-beaf-f0bea95c660c",
        "colab": {
          "base_uri": "https://localhost:8080/"
        }
      },
      "source": [
        "# Example : Data Encapsulation in Python\n",
        "\n",
        "class Computer:\n",
        "\n",
        "    def __init__(self):\n",
        "        self.__maxprice = 900\n",
        "\n",
        "    def sell(self):\n",
        "        print(\"Selling Price: \",format(self.__maxprice))\n",
        "\n",
        "    def setMaxPrice(self, price):\n",
        "        self.__maxprice = price\n",
        "\n",
        "c = Computer()\n",
        "c.sell()\n",
        "\n",
        "# change the price\n",
        "c.__maxprice = 1000\n",
        "c.sell()\n",
        "\n",
        "# using setter function\n",
        "c.setMaxPrice(1000)\n",
        "c.sell()"
      ],
      "id": "15b71557",
      "execution_count": null,
      "outputs": [
        {
          "output_type": "stream",
          "name": "stdout",
          "text": [
            "Selling Price:  900\n",
            "Selling Price:  900\n",
            "Selling Price:  1000\n"
          ]
        }
      ]
    },
    {
      "cell_type": "markdown",
      "metadata": {
        "id": "82be6536"
      },
      "source": [
        "# Polymorphism\n",
        "Polymorphism is an ability (in OOP) to use a common interface for multiple forms ."
      ],
      "id": "82be6536"
    },
    {
      "cell_type": "code",
      "metadata": {
        "id": "0191a42f",
        "outputId": "1dd64740-d75f-4b45-9346-8cd8ff50ff65",
        "colab": {
          "base_uri": "https://localhost:8080/"
        }
      },
      "source": [
        "# Polymorphism with class method\n",
        "class Parrot:\n",
        "\n",
        "    def fly(self):\n",
        "        print(\"Parrot can fly\")\n",
        "\n",
        "    def swim(self):\n",
        "        print(\"Parrot can't swim\")\n",
        "\n",
        "class Penguin:\n",
        "\n",
        "    def fly(self):\n",
        "        print(\"Penguin can't fly\")\n",
        "\n",
        "    def swim(self):\n",
        "        print(\"Penguin can swim\")\n",
        "\n",
        "# common interface\n",
        "def flying_test(self):\n",
        "    self.fly()\n",
        "\n",
        "\n",
        "#instantiate objects\n",
        "blu = Parrot()\n",
        "peggy = Penguin()\n",
        "\n",
        "# passing the object\n",
        "flying_test(blu)\n",
        "flying_test(peggy)"
      ],
      "id": "0191a42f",
      "execution_count": null,
      "outputs": [
        {
          "output_type": "stream",
          "name": "stdout",
          "text": [
            "Parrot can fly\n",
            "Parrot can't swim\n",
            "Penguin can't fly\n",
            "Penguin can swim\n"
          ]
        }
      ]
    },
    {
      "cell_type": "markdown",
      "metadata": {
        "id": "30d5c06d"
      },
      "source": [
        "# Practice Question"
      ],
      "id": "30d5c06d"
    },
    {
      "cell_type": "markdown",
      "metadata": {
        "id": "a85c69d9"
      },
      "source": [
        "1. Create a class Student with name, standard, rollno, and mark as class instance attribute. Also define methods to display the details, and calculate Grade based on mark of the student(grade A-for mark above 80,grade B-for mark above 60,grade C-for mark below 60)"
      ],
      "id": "a85c69d9"
    },
    {
      "cell_type": "markdown",
      "metadata": {
        "id": "8c4e14b1"
      },
      "source": [
        "2. Create a class Vehicle with max_speed and max_mileage. Derive 3 classes based on mode of transport: Air, Water, Land. (Define appropriate attributes for each classes)\n",
        "    Also create few derived classes with attributes and methods: Bus, Boat, Flight by inheriting from appropriate base class"
      ],
      "id": "8c4e14b1"
    },
    {
      "cell_type": "markdown",
      "metadata": {
        "id": "2b1d0be2"
      },
      "source": [
        "3. Create different classes for shapes and define methods to find\n",
        "        1.area of circle\n",
        "        2. area of rectangle\n",
        "        3. area of triangle.\n",
        "Use the concept of polymorphism to do the same"
      ],
      "id": "2b1d0be2"
    }
  ]
}