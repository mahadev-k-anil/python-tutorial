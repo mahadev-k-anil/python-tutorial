{
  "nbformat": 4,
  "nbformat_minor": 0,
  "metadata": {
    "kernelspec": {
      "display_name": "Python 3",
      "language": "python",
      "name": "python3"
    },
    "language_info": {
      "codemirror_mode": {
        "name": "ipython",
        "version": 3
      },
      "file_extension": ".py",
      "mimetype": "text/x-python",
      "name": "python",
      "nbconvert_exporter": "python",
      "pygments_lexer": "ipython3",
      "version": "3.7.0"
    },
    "colab": {
      "provenance": [],
      "collapsed_sections": [
        "3tec1JMRvhvL"
      ],
      "include_colab_link": true
    }
  },
  "cells": [
    {
      "cell_type": "markdown",
      "metadata": {
        "id": "view-in-github",
        "colab_type": "text"
      },
      "source": [
        "<a href=\"https://colab.research.google.com/github/mahadev-k-anil/python-tutorial/blob/main/Copy_of_Introduction_to_Python_Day2.ipynb\" target=\"_parent\"><img src=\"https://colab.research.google.com/assets/colab-badge.svg\" alt=\"Open In Colab\"/></a>"
      ]
    },
    {
      "cell_type": "markdown",
      "metadata": {
        "id": "U3IxsPTWBP0p"
      },
      "source": [
        "#Strings"
      ]
    },
    {
      "cell_type": "markdown",
      "metadata": {
        "id": "kY4qzeocBUOo"
      },
      "source": [
        "Defined using single or double quotes\n",
        "\n"
      ]
    },
    {
      "cell_type": "code",
      "metadata": {
        "colab": {
          "base_uri": "https://localhost:8080/"
        },
        "id": "IkJ3GANjBYlo",
        "outputId": "8590209a-b5b0-4817-e2f6-58134f7a1a61"
      },
      "source": [
        "a = \"Hello World\"\n",
        "print(a[0]) #indexing\n",
        "print(a)\n",
        "print(type(a))\n"
      ],
      "execution_count": null,
      "outputs": [
        {
          "output_type": "stream",
          "name": "stdout",
          "text": [
            "H\n",
            "Hello World\n",
            "<class 'str'>\n"
          ]
        }
      ]
    },
    {
      "cell_type": "markdown",
      "source": [
        "String Slicing"
      ],
      "metadata": {
        "id": "4qUHobDgwkje"
      }
    },
    {
      "cell_type": "code",
      "metadata": {
        "colab": {
          "base_uri": "https://localhost:8080/",
          "height": 211
        },
        "id": "Wk9CCXdTU0z0",
        "outputId": "597bfc4b-68ce-453a-865d-1509b98eec98"
      },
      "source": [
        "print(a[1:])#slice to the end [start index:end index:step]\n",
        "print(a[-1])#negative indexing\n",
        "print(a[:-1])\n",
        "print(a[2:9]) #slicing 2 to 4(not included)\n",
        "print(a[::-1])#slice with step as -1\n",
        "\n",
        "\n"
      ],
      "execution_count": null,
      "outputs": [
        {
          "output_type": "error",
          "ename": "NameError",
          "evalue": "name 'a' is not defined",
          "traceback": [
            "\u001b[0;31m---------------------------------------------------------------------------\u001b[0m",
            "\u001b[0;31mNameError\u001b[0m                                 Traceback (most recent call last)",
            "\u001b[0;32m/tmp/ipython-input-1273832238.py\u001b[0m in \u001b[0;36m<cell line: 0>\u001b[0;34m()\u001b[0m\n\u001b[0;32m----> 1\u001b[0;31m \u001b[0mprint\u001b[0m\u001b[0;34m(\u001b[0m\u001b[0ma\u001b[0m\u001b[0;34m[\u001b[0m\u001b[0;36m1\u001b[0m\u001b[0;34m:\u001b[0m\u001b[0;34m]\u001b[0m\u001b[0;34m)\u001b[0m\u001b[0;31m#slice to the end [start index:end index:step]\u001b[0m\u001b[0;34m\u001b[0m\u001b[0;34m\u001b[0m\u001b[0m\n\u001b[0m\u001b[1;32m      2\u001b[0m \u001b[0mprint\u001b[0m\u001b[0;34m(\u001b[0m\u001b[0ma\u001b[0m\u001b[0;34m[\u001b[0m\u001b[0;34m-\u001b[0m\u001b[0;36m1\u001b[0m\u001b[0;34m]\u001b[0m\u001b[0;34m)\u001b[0m\u001b[0;31m#negative indexing\u001b[0m\u001b[0;34m\u001b[0m\u001b[0;34m\u001b[0m\u001b[0m\n\u001b[1;32m      3\u001b[0m \u001b[0mprint\u001b[0m\u001b[0;34m(\u001b[0m\u001b[0ma\u001b[0m\u001b[0;34m[\u001b[0m\u001b[0;34m:\u001b[0m\u001b[0;34m-\u001b[0m\u001b[0;36m1\u001b[0m\u001b[0;34m]\u001b[0m\u001b[0;34m)\u001b[0m\u001b[0;34m\u001b[0m\u001b[0;34m\u001b[0m\u001b[0m\n\u001b[1;32m      4\u001b[0m \u001b[0mprint\u001b[0m\u001b[0;34m(\u001b[0m\u001b[0ma\u001b[0m\u001b[0;34m[\u001b[0m\u001b[0;36m2\u001b[0m\u001b[0;34m:\u001b[0m\u001b[0;36m9\u001b[0m\u001b[0;34m]\u001b[0m\u001b[0;34m)\u001b[0m \u001b[0;31m#slicing 2 to 4(not included)\u001b[0m\u001b[0;34m\u001b[0m\u001b[0;34m\u001b[0m\u001b[0m\n\u001b[1;32m      5\u001b[0m \u001b[0mprint\u001b[0m\u001b[0;34m(\u001b[0m\u001b[0ma\u001b[0m\u001b[0;34m[\u001b[0m\u001b[0;34m:\u001b[0m\u001b[0;34m:\u001b[0m\u001b[0;34m-\u001b[0m\u001b[0;36m1\u001b[0m\u001b[0;34m]\u001b[0m\u001b[0;34m)\u001b[0m\u001b[0;31m#slice with step as -1\u001b[0m\u001b[0;34m\u001b[0m\u001b[0;34m\u001b[0m\u001b[0m\n",
            "\u001b[0;31mNameError\u001b[0m: name 'a' is not defined"
          ]
        }
      ]
    },
    {
      "cell_type": "markdown",
      "source": [
        "#String methods"
      ],
      "metadata": {
        "id": "4ykBnO284I_W"
      }
    },
    {
      "cell_type": "markdown",
      "metadata": {
        "id": "B_nvpFEuBdL3"
      },
      "source": [
        "find() Searches the string for a specified value and returns the position of where it was found\n",
        "string.find(value, start, end)\n",
        "\n",
        "upper() Converts a string into upper case\n",
        "\n",
        "lower() Converts a string into lower case\n",
        "\n",
        "title() Converts the first character of each word to upper case\n",
        "\n",
        "replace() Returns a string where a specified value is replaced with a specified value\n",
        "print(a.replace(\"H\", \"J\"))\n",
        "\n",
        "capitalize() Converts the first character  to upper case\n",
        "\n",
        "split() method splits the string into substrings if it finds instances of the separator\n",
        "\n",
        "To concatenate, or combine, two strings you can use the + operator.\n",
        "\n",
        "Refer:https://www.w3schools.com/python/python_strings_methods.asp"
      ]
    },
    {
      "cell_type": "code",
      "metadata": {
        "colab": {
          "base_uri": "https://localhost:8080/"
        },
        "id": "48co3goSRBmD",
        "outputId": "adfcb17a-e28c-4844-82cc-0a71673a1e38"
      },
      "source": [
        "string1=\"python is very efficient\"\n",
        "print(len(string1))\n",
        "print(string1.upper())\n",
        "for x in string1.split(\" \"):\n",
        "  print(x)"
      ],
      "execution_count": null,
      "outputs": [
        {
          "output_type": "stream",
          "name": "stdout",
          "text": [
            "24\n",
            "PYTHON IS VERY EFFICIENT\n",
            "python\n",
            "is\n",
            "very\n",
            "efficient\n"
          ]
        }
      ]
    },
    {
      "cell_type": "code",
      "source": [
        "string1.find(\"ent\")"
      ],
      "metadata": {
        "colab": {
          "base_uri": "https://localhost:8080/"
        },
        "id": "fMtNDbBlEbBM",
        "outputId": "c2aa203a-3dc4-498f-a083-a14e22c7e72a"
      },
      "execution_count": null,
      "outputs": [
        {
          "output_type": "execute_result",
          "data": {
            "text/plain": [
              "21"
            ]
          },
          "metadata": {},
          "execution_count": 9
        }
      ]
    },
    {
      "cell_type": "code",
      "source": [
        "str2 =  string1.capitalize()\n",
        "print(str2)"
      ],
      "metadata": {
        "colab": {
          "base_uri": "https://localhost:8080/"
        },
        "id": "BnYf2QpMuKBR",
        "outputId": "a1c4786a-5836-4d65-c900-c3f88eff0d92"
      },
      "execution_count": null,
      "outputs": [
        {
          "output_type": "stream",
          "name": "stdout",
          "text": [
            "Python is very efficient\n"
          ]
        }
      ]
    },
    {
      "cell_type": "markdown",
      "metadata": {
        "id": "NRdWxeK0Bj7m"
      },
      "source": [
        "Questions\n",
        "\n",
        "1)Program to Check Whether a String is Palindrome or Not\n",
        "\n",
        "2)Read a sentence from user , replace  spaces with the length of the string and display output in uppercase.\n",
        "\n",
        "3)Read a sentence from the user and capitalize the second-last letter of each word and print the modified sentence.\n",
        "\n",
        "Eg: Input sentence -> Python is meant to be an easily readable language\n",
        "\n",
        "Modified Sentence-> PythOn Is meaNt To Be An easiLy readabLe languaGe"
      ]
    },
    {
      "cell_type": "markdown",
      "source": [
        "4 collection data types"
      ],
      "metadata": {
        "id": "SyWIsfU4EpnL"
      }
    },
    {
      "cell_type": "markdown",
      "metadata": {
        "id": "m0YBdRvoGN1e"
      },
      "source": [
        "# Lists\n",
        "used to store multiple items in a single variable.\n",
        "\n",
        "Mutable,allow duplicate values."
      ]
    },
    {
      "cell_type": "code",
      "metadata": {
        "colab": {
          "base_uri": "https://localhost:8080/"
        },
        "id": "mOseZ4dnGN1i",
        "outputId": "780cf917-77c8-4ee7-dd38-ac3397ae95ba"
      },
      "source": [
        "a = []\n",
        "b = [1, 2, 3]\n",
        "\n",
        "print(\"a = \", a, \"b = \", b)\n",
        "b[1]=11\n",
        "print(b)\n",
        "\n",
        "\n",
        "list1 = [\"abc\", 34, True, 40, \"male\"]\n",
        "print(list1)\n",
        "\n"
      ],
      "execution_count": null,
      "outputs": [
        {
          "output_type": "stream",
          "name": "stdout",
          "text": [
            "a =  [] b =  [1, 2, 3]\n",
            "[1, 11, 3]\n",
            "['abc', 34, True, 40, 'male']\n"
          ]
        }
      ]
    },
    {
      "cell_type": "markdown",
      "source": [
        "# List methods"
      ],
      "metadata": {
        "id": "8jyfX5jl4dan"
      }
    },
    {
      "cell_type": "markdown",
      "metadata": {
        "id": "UABeb55oIADS"
      },
      "source": [
        "append()\tAdds an element at the end of the list\n",
        "\n",
        "clear()\tRemoves all the elements from the list\n",
        "\n",
        "count()\tReturns the number of elements with the specified value\n",
        "\n",
        "reverse()\tReverses the order of the list\n",
        "\n",
        "sort()\tSorts the list\n",
        "\n",
        "https://www.w3schools.com/python/python_lists_methods.asp"
      ]
    },
    {
      "cell_type": "code",
      "metadata": {
        "id": "dtvV4PDPGN1j",
        "colab": {
          "base_uri": "https://localhost:8080/"
        },
        "outputId": "64ee89f7-0bc5-4805-c173-ee1ad4f940c7"
      },
      "source": [
        "a.append(10)\n",
        "b.append(12)\n",
        "\n",
        "\n",
        "print(\"a = \", a, \"b = \", b)\n"
      ],
      "execution_count": null,
      "outputs": [
        {
          "output_type": "stream",
          "name": "stdout",
          "text": [
            "a =  [10] b =  [1, 11, 3, 12]\n"
          ]
        }
      ]
    },
    {
      "cell_type": "code",
      "metadata": {
        "id": "Tze2UCZXHP-h",
        "colab": {
          "base_uri": "https://localhost:8080/"
        },
        "outputId": "f72b64c5-1c02-4c16-837d-380b22dc42aa"
      },
      "source": [
        "b=[1,2,3,4,5]\n",
        "b[2:3]=[10,20,30]\n",
        "print(b)"
      ],
      "execution_count": null,
      "outputs": [
        {
          "output_type": "stream",
          "name": "stdout",
          "text": [
            "[1, 2, 10, 20, 30, 4, 5]\n"
          ]
        }
      ]
    },
    {
      "cell_type": "code",
      "metadata": {
        "id": "B8m8UEFhGN1k",
        "colab": {
          "base_uri": "https://localhost:8080/"
        },
        "outputId": "a4a23385-f14c-4cac-b146-09dbb70d9d5c"
      },
      "source": [
        "# Length of a list\n",
        "len(b)"
      ],
      "execution_count": null,
      "outputs": [
        {
          "output_type": "execute_result",
          "data": {
            "text/plain": [
              "4"
            ]
          },
          "metadata": {},
          "execution_count": 35
        }
      ]
    },
    {
      "cell_type": "code",
      "metadata": {
        "id": "cN31sm2ZGN1k",
        "colab": {
          "base_uri": "https://localhost:8080/"
        },
        "outputId": "e09abace-2a6d-4346-f3e3-001938de02ca"
      },
      "source": [
        "len(a)"
      ],
      "execution_count": null,
      "outputs": [
        {
          "output_type": "execute_result",
          "data": {
            "text/plain": [
              "1"
            ]
          },
          "metadata": {},
          "execution_count": 7
        }
      ]
    },
    {
      "cell_type": "code",
      "metadata": {
        "id": "RJs5MeCJGN1l",
        "colab": {
          "base_uri": "https://localhost:8080/"
        },
        "outputId": "038f52db-f8e7-4055-ad4d-3aad0928f7ad"
      },
      "source": [
        "len([])"
      ],
      "execution_count": null,
      "outputs": [
        {
          "output_type": "execute_result",
          "data": {
            "text/plain": [
              "0"
            ]
          },
          "metadata": {},
          "execution_count": 8
        }
      ]
    },
    {
      "cell_type": "markdown",
      "metadata": {
        "id": "WVCZSvkQGN1o"
      },
      "source": [
        "## Looping through elements of a list\n",
        "zip function:zip(iterator1, iterator2, iterator3 ...)\n",
        "zip() function stops when anyone of the list of all the lists gets exhausted."
      ]
    },
    {
      "cell_type": "code",
      "metadata": {
        "id": "EX-8On4wGN1o",
        "colab": {
          "base_uri": "https://localhost:8080/"
        },
        "outputId": "ff15c8b4-40b5-4143-9ffe-d607aaaa02c1"
      },
      "source": [
        "b=[\"aa\",\"bb\",\"cc\"]\n",
        "for i in b:\n",
        "    print(i)"
      ],
      "execution_count": null,
      "outputs": [
        {
          "output_type": "stream",
          "name": "stdout",
          "text": [
            "aa\n",
            "bb\n",
            "cc\n"
          ]
        }
      ]
    },
    {
      "cell_type": "code",
      "metadata": {
        "colab": {
          "base_uri": "https://localhost:8080/"
        },
        "id": "A7bQyNKOGN1p",
        "outputId": "ec1dcf7c-ad2e-4e46-881f-aaf28e0186c3"
      },
      "source": [
        "# Iterate through two lists:\n",
        "c = [11, 12, 13, 14]\n",
        "d = [101, 102, 103,104]\n",
        "\n",
        "for i, j in zip(c, d):\n",
        "    print(\"c = \", i, \"d = \", j)\n"
      ],
      "execution_count": null,
      "outputs": [
        {
          "output_type": "stream",
          "name": "stdout",
          "text": [
            "c =  11 d =  101\n",
            "c =  12 d =  102\n",
            "c =  13 d =  103\n",
            "c =  14 d =  104\n"
          ]
        }
      ]
    },
    {
      "cell_type": "markdown",
      "metadata": {
        "id": "ZHSltjFGGN1m"
      },
      "source": [
        "## Tuples"
      ]
    },
    {
      "cell_type": "markdown",
      "metadata": {
        "id": "2c5EKQiMGN1m"
      },
      "source": [
        "Tuples are similar to lists, but they are immutable. If you try to change an element of a tuple, you will get an error.\n",
        "Allow duplicate values."
      ]
    },
    {
      "cell_type": "code",
      "metadata": {
        "colab": {
          "base_uri": "https://localhost:8080/"
        },
        "id": "XFou2_-lGN1n",
        "outputId": "ddd9ec49-0057-441d-ba86-b4a3f23ad28c"
      },
      "source": [
        "r = (3.2, 56)\n",
        "print(r[0])\n",
        "\n",
        "s = (\"hello\", \"world\")\n",
        "print(s[1])\n",
        "\n"
      ],
      "execution_count": null,
      "outputs": [
        {
          "output_type": "stream",
          "name": "stdout",
          "text": [
            "3.2\n",
            "world\n"
          ]
        }
      ]
    },
    {
      "cell_type": "code",
      "metadata": {
        "id": "-ynoLmjEGN1o",
        "colab": {
          "base_uri": "https://localhost:8080/",
          "height": 169
        },
        "outputId": "6ce17118-2c09-498a-ca8d-ab9d2ec585cc"
      },
      "source": [
        "r[1] = 190"
      ],
      "execution_count": null,
      "outputs": [
        {
          "output_type": "error",
          "ename": "TypeError",
          "evalue": "ignored",
          "traceback": [
            "\u001b[0;31m---------------------------------------------------------------------------\u001b[0m",
            "\u001b[0;31mTypeError\u001b[0m                                 Traceback (most recent call last)",
            "\u001b[0;32m<ipython-input-10-7b93a7874ce9>\u001b[0m in \u001b[0;36m<module>\u001b[0;34m\u001b[0m\n\u001b[0;32m----> 1\u001b[0;31m \u001b[0mr\u001b[0m\u001b[0;34m[\u001b[0m\u001b[0;36m1\u001b[0m\u001b[0;34m]\u001b[0m \u001b[0;34m=\u001b[0m \u001b[0;36m190\u001b[0m\u001b[0;34m\u001b[0m\u001b[0;34m\u001b[0m\u001b[0m\n\u001b[0m",
            "\u001b[0;31mTypeError\u001b[0m: 'tuple' object does not support item assignment"
          ]
        }
      ]
    },
    {
      "cell_type": "code",
      "metadata": {
        "colab": {
          "base_uri": "https://localhost:8080/"
        },
        "id": "jlE3fuuscfEj",
        "outputId": "b6d06a11-42a7-4cbc-b267-1ae43712a7fa"
      },
      "source": [
        "r = (3.2, 56)\n",
        "x=list(r)\n",
        "print(type(r))\n",
        "x.append(100)\n",
        "r=tuple(x)\n",
        "print(r)"
      ],
      "execution_count": null,
      "outputs": [
        {
          "output_type": "stream",
          "name": "stdout",
          "text": [
            "<class 'tuple'>\n",
            "(3.2, 56, 100)\n"
          ]
        }
      ]
    },
    {
      "cell_type": "markdown",
      "metadata": {
        "id": "BNMqp7uLtG5v"
      },
      "source": [
        "To create a tuple with only one item, you have to add a comma after the item, otherwise Python will not recognize it as a tuple .\n"
      ]
    },
    {
      "cell_type": "code",
      "metadata": {
        "id": "5y_se2AStJnN",
        "colab": {
          "base_uri": "https://localhost:8080/"
        },
        "outputId": "2e49a82e-77d7-4a0b-cef6-2b7551fdc3b2"
      },
      "source": [
        "thistuple = (\"apple\",)\n",
        "print(type(thistuple))"
      ],
      "execution_count": null,
      "outputs": [
        {
          "output_type": "stream",
          "name": "stdout",
          "text": [
            "<class 'tuple'>\n"
          ]
        }
      ]
    },
    {
      "cell_type": "markdown",
      "metadata": {
        "id": "WEP6PAJZuIZu"
      },
      "source": [
        "Two built-in functions for tuples:\n",
        "\n",
        "count()\tReturns the number of times a specified value occurs in a tuple\n",
        "Syntax:tuple.count(value)\n",
        "\n",
        "index()\tSearches the tuple for a specified value and returns the position of where it was found\n"
      ]
    },
    {
      "cell_type": "code",
      "source": [
        "thistuple = (1, 3, 7, 8, 7, 5, 4, 6, 8, 5)\n",
        "x = thistuple.index(8)\n",
        "print(x)"
      ],
      "metadata": {
        "colab": {
          "base_uri": "https://localhost:8080/"
        },
        "id": "TVhAranQH5JD",
        "outputId": "93bed685-86f4-4b29-821b-05f8d7a424e9"
      },
      "execution_count": null,
      "outputs": [
        {
          "output_type": "stream",
          "name": "stdout",
          "text": [
            "3\n"
          ]
        }
      ]
    },
    {
      "cell_type": "markdown",
      "source": [
        "\n",
        "# **List Comprehension**\n",
        "List comprehension is a concise way to create lists in Python by applying an expression to each element in an iterable, optionally including a condition for filtering elements.\n",
        "\n",
        "Syntax: newList = [ expression(element) for element in oldList if condition ]"
      ],
      "metadata": {
        "id": "wnxt2ikVdzfb"
      }
    },
    {
      "cell_type": "code",
      "source": [
        "numbers = [1, 2, 3, 4, 5]\n",
        "squared = [x ** 2 for x in numbers if x>3]\n",
        "print(squared)"
      ],
      "metadata": {
        "id": "82FSVWh7d1c6",
        "colab": {
          "base_uri": "https://localhost:8080/"
        },
        "outputId": "480d6312-dc3b-43fd-a87b-082cc512b383"
      },
      "execution_count": null,
      "outputs": [
        {
          "output_type": "stream",
          "name": "stdout",
          "text": [
            "[16, 25]\n"
          ]
        }
      ]
    },
    {
      "cell_type": "code",
      "source": [
        "List = [character for character in [1, 2, 3]]\n",
        "\n",
        "\n",
        "print(List)"
      ],
      "metadata": {
        "id": "cJ0GpZTgeC-t",
        "colab": {
          "base_uri": "https://localhost:8080/"
        },
        "outputId": "35145bf3-3c5a-45f3-fe3e-f23a136db3ac"
      },
      "execution_count": null,
      "outputs": [
        {
          "output_type": "stream",
          "name": "stdout",
          "text": [
            "[1, 2, 3]\n"
          ]
        }
      ]
    },
    {
      "cell_type": "code",
      "source": [
        "list = [i for i in range(11) if i % 2 == 0]\n",
        "print(list)"
      ],
      "metadata": {
        "id": "2ZmTH7hNeJQ6",
        "colab": {
          "base_uri": "https://localhost:8080/"
        },
        "outputId": "284c015c-a58e-41de-a5cf-698cb2379ac3"
      },
      "execution_count": null,
      "outputs": [
        {
          "output_type": "stream",
          "name": "stdout",
          "text": [
            "[0, 2, 4, 6, 8, 10]\n"
          ]
        }
      ]
    },
    {
      "cell_type": "markdown",
      "source": [
        "Question\n",
        "\n",
        "4) Given a list of temperatures in Celsius [0, 10, 20, 30, 40], use a list comprehension to convert them to Fahrenheit"
      ],
      "metadata": {
        "id": "HXn_aJkYebEp"
      }
    },
    {
      "cell_type": "markdown",
      "metadata": {
        "id": "n-yYeIOHGN1q"
      },
      "source": [
        "## Questions\n",
        "5) Write a function which takes in a list of numbers and returns the average.\n",
        "\n",
        "6) Write a function which takes in a list of numbers and returns both its minimum and maximum.\n",
        "\n",
        "7) Write a function which takes in a list and an element and searches for the element in the list. If the element is present in the list, return its index. Otherwise, return $-1$.\n",
        "\n",
        "8) Write a function which accepts three lists(same length) and returns a list of sums of the corresponding elements.\n",
        "If the inputs are [3, 1, 3], [1, 4, 8], [1, 1, 2], the output should be [5, 6, 13].\n",
        "\n",
        "9)In the previous question, if the lists are of unequal lengths, what happens? Change your program to make sure that even if some of the lists are exhausted, the output continues with the sum of the elements of the rest of the lists.\n",
        "\n"
      ]
    },
    {
      "cell_type": "markdown",
      "metadata": {
        "id": "I50-30MWgx_9"
      },
      "source": [
        "#Modules\n",
        "A file containing a set of functions you want to include in your application.\n",
        "When using a function from a module, use the syntax:\n",
        "\n",
        "import module_name\n",
        "module_name.function_name."
      ]
    },
    {
      "cell_type": "markdown",
      "metadata": {
        "id": "RcvzTG1RGN1u"
      },
      "source": [
        "# Dictionary"
      ]
    },
    {
      "cell_type": "markdown",
      "metadata": {
        "id": "mSouhzW0GN1u"
      },
      "source": [
        "The Hash data structure is known as dictionary in Python. A dictionary maps keys to values.\n",
        "Mutable.Let us see an example."
      ]
    },
    {
      "cell_type": "code",
      "metadata": {
        "colab": {
          "base_uri": "https://localhost:8080/"
        },
        "id": "hQd0_czmsQIJ",
        "outputId": "b29644a4-9306-47d6-bc32-8b9691fb4af9"
      },
      "source": [
        "dict={\n",
        "  \"brand\": \"Honda\",\n",
        "  \"model\": \"Civic\",\n",
        "  \"year\": 2000\n",
        "}\n",
        "print(dict)\n",
        "\n"
      ],
      "execution_count": null,
      "outputs": [
        {
          "output_type": "stream",
          "name": "stdout",
          "text": [
            "{'brand': 'Honda', 'model': 'Civic', 'year': 2000}\n"
          ]
        }
      ]
    },
    {
      "cell_type": "code",
      "metadata": {
        "colab": {
          "base_uri": "https://localhost:8080/"
        },
        "id": "E_uibaZStEeQ",
        "outputId": "afb1048a-c811-4bc0-9878-58d7a3204d7d"
      },
      "source": [
        "x = dict[\"model\"] #access dictionary item\n",
        "x = dict.get(\"model\")\n",
        "print(x)\n",
        "x = dict.keys() #get the keys\n",
        "print(x)"
      ],
      "execution_count": null,
      "outputs": [
        {
          "output_type": "stream",
          "name": "stdout",
          "text": [
            "Civic\n",
            "dict_keys(['brand', 'model', 'year'])\n"
          ]
        }
      ]
    },
    {
      "cell_type": "code",
      "metadata": {
        "id": "hIqOWsamGN1u",
        "colab": {
          "base_uri": "https://localhost:8080/"
        },
        "outputId": "9d32e7f4-60ca-4b46-aedf-b2b728e514e4"
      },
      "source": [
        "h = {} # Empty dictionary\n",
        "h['India'] = 'New Delhi'\n",
        "h['United States'] = 'Washington, D.C.'\n",
        "h['Japan'] = 'Tokyo'\n",
        "\n",
        "print(h)"
      ],
      "execution_count": null,
      "outputs": [
        {
          "output_type": "stream",
          "name": "stdout",
          "text": [
            "{'India': 'New Delhi', 'United States': 'Washington, D.C.', 'Japan': 'Tokyo'}\n"
          ]
        }
      ]
    },
    {
      "cell_type": "code",
      "metadata": {
        "id": "Osfy2V8fGN1v",
        "colab": {
          "base_uri": "https://localhost:8080/"
        },
        "outputId": "4862556a-6ed3-4bf7-83cd-73e07e46ea61"
      },
      "source": [
        "# Let us print the dictionary in a nicer way\n",
        "for k in h:\n",
        "    print(\"Capital of\", k, \"is\", h[k])"
      ],
      "execution_count": null,
      "outputs": [
        {
          "output_type": "stream",
          "name": "stdout",
          "text": [
            "Capital of India is New Delhi\n",
            "Capital of United States is Washington, D.C.\n",
            "Capital of Japan is Tokyo\n"
          ]
        }
      ]
    },
    {
      "cell_type": "markdown",
      "metadata": {
        "id": "0OFZC71WGN1v"
      },
      "source": [
        "Keys can be any *immutable* data types, like integers, strings etc. Next we will see a dictionary with integers and strings as keys."
      ]
    },
    {
      "cell_type": "code",
      "metadata": {
        "id": "zkTsgME1GN1v",
        "colab": {
          "base_uri": "https://localhost:8080/"
        },
        "outputId": "0d354689-43d9-4fc6-acc0-0df4ecc95dff"
      },
      "source": [
        "h2 = {}\n",
        "h2[123] = 10\n",
        "h2[89] = 'eighty nine'\n",
        "h2['one two three'] = 123\n",
        "print(h2)"
      ],
      "execution_count": null,
      "outputs": [
        {
          "output_type": "stream",
          "name": "stdout",
          "text": [
            "{123: 10, 89: 'eighty nine', 'one two three': 123}\n"
          ]
        }
      ]
    },
    {
      "cell_type": "markdown",
      "metadata": {
        "id": "xz-0TgkoGN1v"
      },
      "source": [
        "As you can see, the keys (and values) can of different types. The same is the case with Lists."
      ]
    },
    {
      "cell_type": "code",
      "metadata": {
        "id": "7lrS3gR7GN1v"
      },
      "source": [
        "onelist = ['one', 2, 'three']"
      ],
      "execution_count": null,
      "outputs": []
    },
    {
      "cell_type": "code",
      "metadata": {
        "id": "PxkKC2shGN1w"
      },
      "source": [
        "print(onelist)"
      ],
      "execution_count": null,
      "outputs": []
    },
    {
      "cell_type": "markdown",
      "metadata": {
        "id": "Js09crJjGN1w"
      },
      "source": [
        "The values of a dictionary can be *mutable*."
      ]
    },
    {
      "cell_type": "code",
      "metadata": {
        "id": "e2QtT2ZkGN1w",
        "colab": {
          "base_uri": "https://localhost:8080/"
        },
        "outputId": "37971cb2-cae5-4e82-fb72-47ef78666699"
      },
      "source": [
        "dict={\"car\":\"BMW\",\"year\":2021}\n",
        "\n",
        "print(dict)"
      ],
      "execution_count": null,
      "outputs": [
        {
          "output_type": "stream",
          "name": "stdout",
          "text": [
            "{'car': 'BMW', 'year': 2021}\n"
          ]
        }
      ]
    },
    {
      "cell_type": "code",
      "metadata": {
        "id": "bjhXi1j3GN1w",
        "colab": {
          "base_uri": "https://localhost:8080/"
        },
        "outputId": "9a1e0528-15d5-4558-9cbe-dd946190ff45"
      },
      "source": [
        "dict.update({\"year\": 2020})\n",
        "print(dict)"
      ],
      "execution_count": null,
      "outputs": [
        {
          "output_type": "stream",
          "name": "stdout",
          "text": [
            "{'car': 'BMW', 'year': 2020}\n"
          ]
        }
      ]
    },
    {
      "cell_type": "markdown",
      "metadata": {
        "id": "QYdmoR9hu4LK"
      },
      "source": [
        "##Looping in dictionaries"
      ]
    },
    {
      "cell_type": "code",
      "metadata": {
        "id": "h9XP_5CnGN1x",
        "colab": {
          "base_uri": "https://localhost:8080/"
        },
        "outputId": "f1331646-2a9e-4c89-8e1a-97219280007e"
      },
      "source": [
        "for x in dict: #loops through keys\n",
        "  print(x)\n",
        "\n",
        "for x, y in dict.items(): #loops through keys and values\n",
        "  print(x, y)"
      ],
      "execution_count": null,
      "outputs": [
        {
          "output_type": "stream",
          "name": "stdout",
          "text": [
            "car\n",
            "year\n",
            "car BMW\n",
            "year 2020\n"
          ]
        }
      ]
    },
    {
      "cell_type": "markdown",
      "metadata": {
        "id": "3tec1JMRvhvL"
      },
      "source": [
        "##Dictionary methods\n",
        "values()\tReturns a list of all the values in the dictionary\n",
        "\n",
        "pop()\tRemoves the element with the specified key\n",
        "\n",
        "popitem()\tRemoves the last inserted key-value pair\n",
        "\n",
        "https://www.w3schools.com/python/python_dictionaries_methods.asp"
      ]
    },
    {
      "cell_type": "markdown",
      "metadata": {
        "id": "QIKtc1qZGN1x"
      },
      "source": [
        "### Questions\n",
        "9) Write a function which accepts a number $n$ and returns a hash which maps integers from $1$ to $n$ to their squares.\n",
        "\n",
        "n=5\n",
        "{1:1,2:4,3:9,4:16,5:25}\n",
        "\n",
        "\n",
        "10) Write a function which accepts a list of strings and returns a dictionary mapping each string to its length.\n",
        "\n",
        "11) Write a function which takes a list as input and returns a dictionary mapping each list element into the number of times the element appears in the list. For example, if the input list is $[1, 2, 1, 3, 2, 5, 1]$, the dictionary should map $1$ to $3$, $2$ to $2$, $3$ to $1$ and $5$ to $1$."
      ]
    },
    {
      "cell_type": "markdown",
      "metadata": {
        "id": "nOBkRysVHiRx"
      },
      "source": [
        "#Practice questions:\n",
        "1)Read an array of numbers. Read two numbers a1 and a2. Prints the elements in the array that are exactly divisible by both a1 and a2.\n",
        "\n",
        "2)Read an array of numbers. Repeat the ith element (i-1) times in the array. Print the modified\n",
        "array, size and sum of its elements.\n",
        "\n",
        "Eg:\n",
        "Input array -> [2, 5, 7, 1]\n",
        "Modified array -> [ 2, 5, 5, 7, 7, 7, 1, 1, 1, 1]\n",
        "Size -> 10\n",
        "Sum -> 37\n",
        "\n",
        "3)Read an array of numbers, read upper bound and lower bound. Print the numbers in the\n",
        "array that are within the given boundary and its average.\n",
        "\n",
        "Eg:\n",
        "Input array -> [ 13, 6, 23, -5, 34, 2, 34, 7, -5, 28, 5, 8]\n",
        "Lower bound -> 10\n",
        "Upper bound -> 28\n",
        "Numbers within the boundary -> 13, 23, 28\n",
        "Average -> 21.33\n",
        "\n",
        "4)Read a number and a bit position. If the ith bit is 1, replace it with (i+1)th bit, otherwise no change. Print the new number\n",
        "(Hint:use bit operators)\n",
        "\n",
        "Eg:\n",
        "Number: 23 (binary : 10111)\n",
        "Position : 2\n",
        "Here, bit position 2 (from right to left starting with bit position 0) is 1, so it has to be replaced with\n",
        "bit at bit position 3, which is 0. So, the modified number in binary is (10011)\n",
        "So the answer is 19\n",
        "\n",
        "5)Write a function which accepts a list of numbers and a threshold number. The function returns a new list containing 1s and 0s. The $i$th entry of the new list is $1$ if the $i$th entry of the old list is greater than or equal to threshold, and $0$ otherwise. An example: if the inputs are $[10, 2, 5, 8]$ and if the threshold is $5$, the output should be $[1, 0, 1, 1]$.\n",
        "\n",
        "6) Prepare student records with following fields {Name, Roll No, Number of right answers, Number of wrong answers} Calculate the net score using the formula Score = Number of right answers x 4 - Number of wrong answers Read Cut-off mark from the user and print the list of students who cleared cut-off\n"
      ]
    },
    {
      "cell_type": "markdown",
      "metadata": {
        "id": "J9hEZXTk--n4"
      },
      "source": [
        "#Files\n",
        "Python has several functions for creating, reading, updating, and deleting files.\n"
      ]
    },
    {
      "cell_type": "code",
      "metadata": {
        "id": "XwAtXm_eFFyO",
        "colab": {
          "base_uri": "https://localhost:8080/",
          "height": 176
        },
        "outputId": "a006c3c4-5874-41f8-9dce-3f44ac60eff0"
      },
      "source": [
        "f = open(\"/content/drive/MyDrive/Python class/testfile.txt\", \"r\")#r,w,a,x\n",
        "print(f.read())\n",
        "f.close()"
      ],
      "execution_count": null,
      "outputs": [
        {
          "output_type": "error",
          "ename": "FileNotFoundError",
          "evalue": "[Errno 2] No such file or directory: '/content/drive/MyDrive/Python class/testfile.txt'",
          "traceback": [
            "\u001b[0;31m---------------------------------------------------------------------------\u001b[0m",
            "\u001b[0;31mFileNotFoundError\u001b[0m                         Traceback (most recent call last)",
            "\u001b[0;32m<ipython-input-35-921cca0bd864>\u001b[0m in \u001b[0;36m<cell line: 1>\u001b[0;34m()\u001b[0m\n\u001b[0;32m----> 1\u001b[0;31m \u001b[0mf\u001b[0m \u001b[0;34m=\u001b[0m \u001b[0mopen\u001b[0m\u001b[0;34m(\u001b[0m\u001b[0;34m\"/content/drive/MyDrive/Python class/testfile.txt\"\u001b[0m\u001b[0;34m,\u001b[0m \u001b[0;34m\"r\"\u001b[0m\u001b[0;34m)\u001b[0m\u001b[0;31m#r,w,a,x\u001b[0m\u001b[0;34m\u001b[0m\u001b[0;34m\u001b[0m\u001b[0m\n\u001b[0m\u001b[1;32m      2\u001b[0m \u001b[0mprint\u001b[0m\u001b[0;34m(\u001b[0m\u001b[0mf\u001b[0m\u001b[0;34m.\u001b[0m\u001b[0mread\u001b[0m\u001b[0;34m(\u001b[0m\u001b[0;34m)\u001b[0m\u001b[0;34m)\u001b[0m\u001b[0;34m\u001b[0m\u001b[0;34m\u001b[0m\u001b[0m\n\u001b[1;32m      3\u001b[0m \u001b[0mf\u001b[0m\u001b[0;34m.\u001b[0m\u001b[0mclose\u001b[0m\u001b[0;34m(\u001b[0m\u001b[0;34m)\u001b[0m\u001b[0;34m\u001b[0m\u001b[0;34m\u001b[0m\u001b[0m\n",
            "\u001b[0;31mFileNotFoundError\u001b[0m: [Errno 2] No such file or directory: '/content/drive/MyDrive/Python class/testfile.txt'"
          ]
        }
      ]
    },
    {
      "cell_type": "markdown",
      "source": [],
      "metadata": {
        "id": "6kt7Kycu3cDS"
      }
    },
    {
      "cell_type": "code",
      "source": [
        "f = open(\"/content/drive/MyDrive/Python class/test.txt\", \"a+\") #r,w,a,x(creation)\n",
        "f.write(\"bye\\n\")\n",
        "f.close()\n",
        "f = open(\"/content/drive/MyDrive/Python class/test.txt\", \"r\")\n",
        "print(f.read())\n",
        "f.close()"
      ],
      "metadata": {
        "colab": {
          "base_uri": "https://localhost:8080/"
        },
        "id": "TLyXTzhLVSvU",
        "outputId": "31f28444-83dc-41a5-c43f-1a9fc2cff87b"
      },
      "execution_count": null,
      "outputs": [
        {
          "output_type": "stream",
          "name": "stdout",
          "text": [
            "bye\n",
            "bye\n",
            "bye\n",
            "bye\n",
            "bye\n",
            "bye\n",
            "\n"
          ]
        }
      ]
    },
    {
      "cell_type": "code",
      "source": [
        "from google.colab import drive\n",
        "drive.mount('/content/drive')"
      ],
      "metadata": {
        "colab": {
          "base_uri": "https://localhost:8080/"
        },
        "id": "BKTmPVW_4BQ0",
        "outputId": "5f7577ce-dfbe-4311-919a-addb6a2ef61e"
      },
      "execution_count": null,
      "outputs": [
        {
          "output_type": "stream",
          "name": "stdout",
          "text": [
            "Drive already mounted at /content/drive; to attempt to forcibly remount, call drive.mount(\"/content/drive\", force_remount=True).\n"
          ]
        }
      ]
    },
    {
      "cell_type": "code",
      "metadata": {
        "id": "63Tzsq2JOpeF",
        "colab": {
          "base_uri": "https://localhost:8080/"
        },
        "outputId": "3d41808a-c910-4283-fbd0-4af9377e1e3e"
      },
      "source": [
        "with open(\"/content/drive/MyDrive/Python class/testfile.txt\",\"r\") as f:\n",
        "  print(f.read())\n",
        "#the file will be closed\n"
      ],
      "execution_count": null,
      "outputs": [
        {
          "output_type": "stream",
          "name": "stdout",
          "text": [
            "hello Python is much more efficient that you think.\n",
            "Really it is.\n"
          ]
        }
      ]
    },
    {
      "cell_type": "markdown",
      "metadata": {
        "id": "qfHKNj9lE287"
      },
      "source": [
        "#Questions\n",
        "12)Write a function in Python to count and display the total number of words in a text file.\n",
        "\n",
        "\n"
      ]
    }
  ]
}