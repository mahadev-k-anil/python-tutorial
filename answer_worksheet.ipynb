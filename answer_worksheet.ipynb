{
  "nbformat": 4,
  "nbformat_minor": 0,
  "metadata": {
    "colab": {
      "provenance": [],
      "authorship_tag": "ABX9TyP9YVW8WXBg107dEduQJ+i9",
      "include_colab_link": true
    },
    "kernelspec": {
      "name": "python3",
      "display_name": "Python 3"
    },
    "language_info": {
      "name": "python"
    }
  },
  "cells": [
    {
      "cell_type": "markdown",
      "metadata": {
        "id": "view-in-github",
        "colab_type": "text"
      },
      "source": [
        "<a href=\"https://colab.research.google.com/github/mahadev-k-anil/python-tutorial/blob/main/answer_worksheet.ipynb\" target=\"_parent\"><img src=\"https://colab.research.google.com/assets/colab-badge.svg\" alt=\"Open In Colab\"/></a>"
      ]
    },
    {
      "cell_type": "markdown",
      "source": [
        "Day 2"
      ],
      "metadata": {
        "id": "s_Uio0YNaqnd"
      }
    },
    {
      "cell_type": "code",
      "source": [
        "pal = \"hello\"\n",
        "if pal == pal[::-1]:\n",
        "  print(f\"{pal} is a palindrome\")\n",
        "else:\n",
        "  print(f\"{pal} is not a palindrome\")\n",
        "\n",
        "\n"
      ],
      "metadata": {
        "colab": {
          "base_uri": "https://localhost:8080/"
        },
        "id": "jnl16eKDYP84",
        "outputId": "1d81a4d1-d505-4faa-98d1-648dbddc09b2"
      },
      "execution_count": null,
      "outputs": [
        {
          "output_type": "stream",
          "name": "stdout",
          "text": [
            "hello is not a palindrome\n"
          ]
        }
      ]
    },
    {
      "cell_type": "code",
      "source": [
        "print(\"Enter Sentence\")\n",
        "data = input()\n",
        "repData = data.replace(\" \", str(len(data)))\n",
        "\n",
        "print(repData.upper())"
      ],
      "metadata": {
        "colab": {
          "base_uri": "https://localhost:8080/"
        },
        "id": "5UFJHhioasAe",
        "outputId": "d00fb0e2-16c5-47d7-f22b-b827f6d1d5e1"
      },
      "execution_count": null,
      "outputs": [
        {
          "output_type": "stream",
          "name": "stdout",
          "text": [
            "Enter Sentence\n",
            "this is the data\n",
            "THIS16IS16THE16DATA\n"
          ]
        }
      ]
    },
    {
      "cell_type": "code",
      "source": [
        "print(\"Enter the sentence\")\n",
        "data = input()\n",
        "sortData = []\n",
        "for x in data.split(\" \"):\n",
        "  if(len(x)>=2):\n",
        "    repData = x[0:-2]+x[-2].upper()+x[-1]\n",
        "    sortData.append(repData)\n",
        "print(\" \".join(sortData))\n",
        "####---------(optimised code)\n",
        "# s1= input()\n",
        "# s2 = s1.split()\n",
        "# for x in s2:\n",
        "#   print(x[0:-2]+x[-2].upper()+x[-1],end=' ')\n",
        "\n"
      ],
      "metadata": {
        "colab": {
          "base_uri": "https://localhost:8080/"
        },
        "id": "On7iZWgUbT6i",
        "outputId": "b2e1b3e6-bb0a-41b4-e5e1-775cad6e3933"
      },
      "execution_count": null,
      "outputs": [
        {
          "output_type": "stream",
          "name": "stdout",
          "text": [
            "Enter the sentence\n",
            "Python is meant to be an easily readable language\n",
            "PythOn Is meaNt To Be An easiLy readabLe languaGe\n"
          ]
        }
      ]
    },
    {
      "cell_type": "code",
      "source": [
        "celsius = [0,10,20,30,40]\n",
        "Fahrenheit = [(((9/5)*(x))+32) for x in celsius]\n",
        "print(Fahrenheit)"
      ],
      "metadata": {
        "colab": {
          "base_uri": "https://localhost:8080/"
        },
        "id": "ENXFCR1GdEpb",
        "outputId": "0e3f3d52-ac5e-4594-b9ae-8038a5b4ca74"
      },
      "execution_count": null,
      "outputs": [
        {
          "output_type": "stream",
          "name": "stdout",
          "text": [
            "[32.0, 50.0, 68.0, 86.0, 104.0]\n"
          ]
        }
      ]
    },
    {
      "cell_type": "code",
      "source": [
        "def convert(data):\n",
        "  return data."
      ],
      "metadata": {
        "id": "wlX9H9uCqcB_"
      },
      "execution_count": null,
      "outputs": []
    }
  ]
}