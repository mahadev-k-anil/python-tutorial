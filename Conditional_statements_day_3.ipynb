{
  "nbformat": 4,
  "nbformat_minor": 0,
  "metadata": {
    "colab": {
      "provenance": [],
      "authorship_tag": "ABX9TyNsvOQm4BdVsYk/QCwfvGHv",
      "include_colab_link": true
    },
    "kernelspec": {
      "name": "python3",
      "display_name": "Python 3"
    },
    "language_info": {
      "name": "python"
    }
  },
  "cells": [
    {
      "cell_type": "markdown",
      "metadata": {
        "id": "view-in-github",
        "colab_type": "text"
      },
      "source": [
        "<a href=\"https://colab.research.google.com/github/mahadev-k-anil/python-tutorial/blob/main/Conditional_statements_day_3.ipynb\" target=\"_parent\"><img src=\"https://colab.research.google.com/assets/colab-badge.svg\" alt=\"Open In Colab\"/></a>"
      ]
    },
    {
      "cell_type": "markdown",
      "source": [],
      "metadata": {
        "id": "ufM97H5LZEkP"
      }
    },
    {
      "cell_type": "code",
      "source": [
        "x= 2\n",
        "y=3\n",
        "z= (x**2)+(y**2)\n",
        "print(z)"
      ],
      "metadata": {
        "colab": {
          "base_uri": "https://localhost:8080/"
        },
        "id": "MK53Z5cVY4xL",
        "outputId": "ee567e4c-de4f-47c6-d937-23cc997baff5"
      },
      "execution_count": null,
      "outputs": [
        {
          "output_type": "stream",
          "name": "stdout",
          "text": [
            "13\n"
          ]
        }
      ]
    },
    {
      "cell_type": "code",
      "source": [
        "print(\"Enter first value\")\n",
        "x= int(input())\n",
        "y = int(input())\n",
        "z= x+y\n",
        "print(f\"the sum is {z}\")"
      ],
      "metadata": {
        "colab": {
          "base_uri": "https://localhost:8080/"
        },
        "id": "h1W0vO2kZH2T",
        "outputId": "da018fae-7268-4cf7-acce-bbb15c5308e5"
      },
      "execution_count": null,
      "outputs": [
        {
          "output_type": "stream",
          "name": "stdout",
          "text": [
            "Enter first value\n",
            "1\n",
            "2\n",
            "the sum is 3\n"
          ]
        }
      ]
    },
    {
      "cell_type": "code",
      "source": [
        "print(\"Enter first value\")\n",
        "x= int(input())\n",
        "print(\"Enter second value\")\n",
        "y = int(input())\n",
        "z= (x**2)+(y**2)\n",
        "print(z)"
      ],
      "metadata": {
        "colab": {
          "base_uri": "https://localhost:8080/"
        },
        "id": "95EZKzK8YNhz",
        "outputId": "f03777be-a2b9-4159-96d2-6af1709bd105"
      },
      "execution_count": null,
      "outputs": [
        {
          "output_type": "stream",
          "name": "stdout",
          "text": [
            "Enter first value\n",
            "2\n",
            "Enter second value\n",
            "3\n",
            "13\n"
          ]
        }
      ]
    },
    {
      "cell_type": "code",
      "source": [],
      "metadata": {
        "id": "iDS5q2mjZDxm"
      },
      "execution_count": null,
      "outputs": []
    },
    {
      "cell_type": "code",
      "execution_count": null,
      "metadata": {
        "colab": {
          "base_uri": "https://localhost:8080/"
        },
        "id": "b7IB92opVp1l",
        "outputId": "93207b4f-f8f4-4c6d-9416-ed1b8ee7fc39"
      },
      "outputs": [
        {
          "output_type": "stream",
          "name": "stdout",
          "text": [
            "7 is greater than 5\n"
          ]
        }
      ],
      "source": [
        "a = 5\n",
        "b = 7\n",
        "if a>b:\n",
        "  print(f'{a} is greater than {b}')\n",
        "  # print('%d is greater than %d'%(a,b))\n",
        "else:\n",
        "  print(f'{b} is greater than {a}')\n",
        "  # print('%d is greater than %d'%(b,a))\n"
      ]
    },
    {
      "cell_type": "code",
      "source": [
        "print(\" Enter first number: \")\n",
        "a = int(input())\n",
        "print(\" Enter second number: \")\n",
        "b = int(input())\n",
        "if a>b:\n",
        "  print(f'{a} is greater than {b}')\n",
        "elif b>a:\n",
        "  print(f'{b} is greater than {a}')\n",
        "else:\n",
        "  print(f'{a} is equal to {b}')\n",
        "\n"
      ],
      "metadata": {
        "colab": {
          "base_uri": "https://localhost:8080/"
        },
        "id": "aYCYo_M5WNFC",
        "outputId": "a28e6d79-5134-4e80-dbe3-d44c461747bc"
      },
      "execution_count": null,
      "outputs": [
        {
          "output_type": "stream",
          "name": "stdout",
          "text": [
            " Enter first number: \n",
            "5\n",
            " Enter second number: \n",
            "6\n",
            "6 is greater than 5\n"
          ]
        }
      ]
    },
    {
      "cell_type": "code",
      "source": [
        "for i in range(10):\n",
        "  print(i)"
      ],
      "metadata": {
        "colab": {
          "base_uri": "https://localhost:8080/"
        },
        "id": "lgLl6sqfaWpb",
        "outputId": "90176f4f-6dc8-4552-81f9-3cdeec7defbc"
      },
      "execution_count": null,
      "outputs": [
        {
          "output_type": "stream",
          "name": "stdout",
          "text": [
            "0\n",
            "1\n",
            "2\n",
            "3\n",
            "4\n",
            "5\n",
            "6\n",
            "7\n",
            "8\n",
            "9\n"
          ]
        }
      ]
    },
    {
      "cell_type": "code",
      "source": [
        "for x in range(2,6):\n",
        "  print(x)\n"
      ],
      "metadata": {
        "colab": {
          "base_uri": "https://localhost:8080/"
        },
        "id": "yrrbx4P-cNY2",
        "outputId": "9362fef2-45a2-4996-d967-161163c2a52a"
      },
      "execution_count": null,
      "outputs": [
        {
          "output_type": "stream",
          "name": "stdout",
          "text": [
            "2\n",
            "3\n",
            "4\n",
            "5\n"
          ]
        }
      ]
    },
    {
      "cell_type": "code",
      "source": [
        "print(\"Enter the number\")\n",
        "n = int(input())\n",
        "for i in range(n):\n",
        "  for j in range(1,i+2):\n",
        "    print(j,end=' ')\n",
        "  print(\"\")\n"
      ],
      "metadata": {
        "colab": {
          "base_uri": "https://localhost:8080/"
        },
        "id": "xkNufulDclvP",
        "outputId": "8867ed83-9c26-4d9d-f92c-862331d8b8cf"
      },
      "execution_count": null,
      "outputs": [
        {
          "output_type": "stream",
          "name": "stdout",
          "text": [
            "Enter the number\n",
            "10\n",
            "1 \n",
            "1 2 \n",
            "1 2 3 \n",
            "1 2 3 4 \n",
            "1 2 3 4 5 \n",
            "1 2 3 4 5 6 \n",
            "1 2 3 4 5 6 7 \n",
            "1 2 3 4 5 6 7 8 \n",
            "1 2 3 4 5 6 7 8 9 \n",
            "1 2 3 4 5 6 7 8 9 10 \n"
          ]
        }
      ]
    },
    {
      "cell_type": "code",
      "source": [],
      "metadata": {
        "id": "LcuHEGTIUPBo"
      },
      "execution_count": null,
      "outputs": []
    },
    {
      "cell_type": "code",
      "source": [
        "print(\"enter first number\")\n",
        "x= int(input())\n",
        "print(\"enter second number\")\n",
        "y = int(input())\n",
        "print(\"enter third number\")\n",
        "z = int(input())\n",
        "if x>y and x>z:\n",
        "  print(f'{x} is the largest')\n",
        "elif y>x and y>z:\n",
        "  print(f'{y} is the largest')\n",
        "else:\n",
        "  print(f'{z} is largest')\n"
      ],
      "metadata": {
        "colab": {
          "base_uri": "https://localhost:8080/"
        },
        "id": "RGlN0pOWfBpz",
        "outputId": "3a3ebdcb-f713-442a-f1b4-c2cddebabcb4"
      },
      "execution_count": null,
      "outputs": [
        {
          "output_type": "stream",
          "name": "stdout",
          "text": [
            "enter first number\n",
            "7\n",
            "enter second number\n",
            "5\n",
            "enter third number\n",
            "3\n",
            "7 is the largest\n"
          ]
        }
      ]
    },
    {
      "cell_type": "code",
      "source": [],
      "metadata": {
        "id": "neLZc6XritLo"
      },
      "execution_count": null,
      "outputs": []
    }
  ]
}